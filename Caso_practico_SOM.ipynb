{
  "nbformat": 4,
  "nbformat_minor": 0,
  "metadata": {
    "colab": {
      "name": "Caso_practico_SOM.ipynb",
      "provenance": [],
      "toc_visible": true,
      "mount_file_id": "1sA6Ef4YKu9Ov1rsk6_tQ_W-UThQNn710",
      "authorship_tag": "ABX9TyOBKASDRx786Ruqd3GEed6H",
      "include_colab_link": true
    },
    "kernelspec": {
      "name": "python3",
      "display_name": "Python 3"
    },
    "language_info": {
      "name": "python"
    }
  },
  "cells": [
    {
      "cell_type": "markdown",
      "metadata": {
        "id": "view-in-github",
        "colab_type": "text"
      },
      "source": [
        "<a href=\"https://colab.research.google.com/github/sergioarnold87/Practica_Sergio/blob/main/Caso_practico_SOM.ipynb\" target=\"_parent\"><img src=\"https://colab.research.google.com/assets/colab-badge.svg\" alt=\"Open In Colab\"/></a>"
      ]
    },
    {
      "cell_type": "markdown",
      "metadata": {
        "id": "yMGRF3HniRCx"
      },
      "source": [
        "# Drive"
      ]
    },
    {
      "cell_type": "code",
      "metadata": {
        "colab": {
          "base_uri": "https://localhost:8080/"
        },
        "id": "VawgSmkEiNkO",
        "outputId": "1fcd5cb8-9a99-4c3d-8b36-49db8f9e4d54"
      },
      "source": [
        "from google.colab import drive\n",
        "drive.mount('/content/drive')"
      ],
      "execution_count": 2,
      "outputs": [
        {
          "output_type": "stream",
          "text": [
            "Mounted at /content/drive\n"
          ],
          "name": "stdout"
        }
      ]
    },
    {
      "cell_type": "code",
      "metadata": {
        "id": "90F3PazciS_-"
      },
      "source": [
        "from google.colab import files # Para manejar los archivos y, por ejemplo, exportar a su navegador\n",
        "import glob # Para manejar los archivos y, por ejemplo, exportar a su navegador\n",
        "from google.colab import drive # Montar tu Google drive"
      ],
      "execution_count": 3,
      "outputs": []
    },
    {
      "cell_type": "markdown",
      "metadata": {
        "id": "J9vfTYgvnzzJ"
      },
      "source": [
        "# SOM\n",
        "Importar dataset"
      ]
    },
    {
      "cell_type": "code",
      "metadata": {
        "id": "tJ4vw9LN_Of7"
      },
      "source": [
        "import numpy as np\n",
        "import matplotlib.pyplot as plt\n",
        "import pandas as pd"
      ],
      "execution_count": 2,
      "outputs": []
    },
    {
      "cell_type": "code",
      "metadata": {
        "id": "k8zXb45BnxHy"
      },
      "source": [
        "dataset = pd.read_csv('/content/drive/MyDrive/Datasets/Credit_Card_Applications.csv')\n",
        "X = dataset.iloc[:, :-1].values\n",
        "y = dataset.iloc[:, -1].values"
      ],
      "execution_count": 4,
      "outputs": []
    },
    {
      "cell_type": "markdown",
      "metadata": {
        "id": "K_htM7Bi_dk-"
      },
      "source": [
        "# Identificar los fraudes potenciales con un SOM"
      ]
    },
    {
      "cell_type": "markdown",
      "metadata": {
        "id": "Jo9DrSZI_mP_"
      },
      "source": [
        "# Escalado de caracteristicas"
      ]
    },
    {
      "cell_type": "code",
      "metadata": {
        "id": "Q3MmUDtq_aup"
      },
      "source": [
        "from sklearn.preprocessing import MinMaxScaler\n",
        "sc = MinMaxScaler(feature_range = (0, 1))\n",
        "X = sc.fit_transform(X)"
      ],
      "execution_count": 5,
      "outputs": []
    },
    {
      "cell_type": "code",
      "metadata": {
        "id": "M71dZPs3_LlN"
      },
      "source": [
        ""
      ],
      "execution_count": null,
      "outputs": []
    }
  ]
}