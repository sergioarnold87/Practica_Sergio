{
  "nbformat": 4,
  "nbformat_minor": 0,
  "metadata": {
    "colab": {
      "name": "Caso_practico_SOM.ipynb",
      "provenance": [],
      "toc_visible": true,
      "mount_file_id": "1sA6Ef4YKu9Ov1rsk6_tQ_W-UThQNn710",
      "authorship_tag": "ABX9TyNbEg/tzozorHF+RSG4utgl",
      "include_colab_link": true
    },
    "kernelspec": {
      "name": "python3",
      "display_name": "Python 3"
    },
    "language_info": {
      "name": "python"
    }
  },
  "cells": [
    {
      "cell_type": "markdown",
      "metadata": {
        "id": "view-in-github",
        "colab_type": "text"
      },
      "source": [
        "<a href=\"https://colab.research.google.com/github/sergioarnold87/Practica_Sergio/blob/main/Caso_practico_SOM.ipynb\" target=\"_parent\"><img src=\"https://colab.research.google.com/assets/colab-badge.svg\" alt=\"Open In Colab\"/></a>"
      ]
    },
    {
      "cell_type": "markdown",
      "metadata": {
        "id": "yMGRF3HniRCx"
      },
      "source": [
        "# Drive"
      ]
    },
    {
      "cell_type": "code",
      "metadata": {
        "colab": {
          "base_uri": "https://localhost:8080/"
        },
        "id": "VawgSmkEiNkO",
        "outputId": "1fcd5cb8-9a99-4c3d-8b36-49db8f9e4d54"
      },
      "source": [
        "from google.colab import drive\n",
        "drive.mount('/content/drive')"
      ],
      "execution_count": 2,
      "outputs": [
        {
          "output_type": "stream",
          "text": [
            "Mounted at /content/drive\n"
          ],
          "name": "stdout"
        }
      ]
    },
    {
      "cell_type": "code",
      "metadata": {
        "id": "90F3PazciS_-"
      },
      "source": [
        "from google.colab import files # Para manejar los archivos y, por ejemplo, exportar a su navegador\n",
        "import glob # Para manejar los archivos y, por ejemplo, exportar a su navegador\n",
        "from google.colab import drive # Montar tu Google drive"
      ],
      "execution_count": 3,
      "outputs": []
    },
    {
      "cell_type": "markdown",
      "metadata": {
        "id": "J9vfTYgvnzzJ"
      },
      "source": [
        "# SOM\n",
        "Importar dataset"
      ]
    },
    {
      "cell_type": "code",
      "metadata": {
        "id": "tJ4vw9LN_Of7"
      },
      "source": [
        "import numpy as np\n",
        "import matplotlib.pyplot as plt\n",
        "import pandas as pd"
      ],
      "execution_count": 2,
      "outputs": []
    },
    {
      "cell_type": "code",
      "metadata": {
        "id": "k8zXb45BnxHy"
      },
      "source": [
        "dataset = pd.read_csv('/content/drive/MyDrive/Datasets/Credit_Card_Applications.csv')\n",
        "X = dataset.iloc[:, :-1].values\n",
        "y = dataset.iloc[:, -1].values"
      ],
      "execution_count": 4,
      "outputs": []
    },
    {
      "cell_type": "markdown",
      "metadata": {
        "id": "K_htM7Bi_dk-"
      },
      "source": [
        "# Identificar los fraudes potenciales con un SOM"
      ]
    },
    {
      "cell_type": "markdown",
      "metadata": {
        "id": "Jo9DrSZI_mP_"
      },
      "source": [
        "# Escalado de caracteristicas"
      ]
    },
    {
      "cell_type": "code",
      "metadata": {
        "id": "Q3MmUDtq_aup"
      },
      "source": [
        "from sklearn.preprocessing import MinMaxScaler\n",
        "sc = MinMaxScaler(feature_range = (0, 1))\n",
        "X = sc.fit_transform(X)"
      ],
      "execution_count": 5,
      "outputs": []
    },
    {
      "cell_type": "markdown",
      "metadata": {
        "id": "0kGkUxQ9_5Xe"
      },
      "source": [
        "# Entrenar el SOM"
      ]
    },
    {
      "cell_type": "code",
      "metadata": {
        "id": "M71dZPs3_LlN"
      },
      "source": [
        "import sys\n",
        "sys.path.append('/content/drive/MyDrive/Datasets/')\n",
        "from minisom import MiniSom\n",
        "som = MiniSom(x = 10, y = 10, input_len = 15, sigma = 1.0, learning_rate = 0.5)\n",
        "som.random_weights_init(X)\n",
        "som.train_random(data = X, num_iteration = 100)"
      ],
      "execution_count": 6,
      "outputs": []
    },
    {
      "cell_type": "markdown",
      "metadata": {
        "id": "imAv2IXuAII8"
      },
      "source": [
        "#Visualizar los resultados"
      ]
    },
    {
      "cell_type": "code",
      "metadata": {
        "colab": {
          "base_uri": "https://localhost:8080/",
          "height": 269
        },
        "id": "siX5xh7YAE5d",
        "outputId": "98c7a020-06e3-4b0a-b448-5b0aa492fdfc"
      },
      "source": [
        "from pylab import bone, pcolor, colorbar, plot, show\n",
        "bone()\n",
        "pcolor(som.distance_map().T)\n",
        "colorbar()\n",
        "markers = ['o', 's']\n",
        "colors = ['r', 'g']\n",
        "for i, x in enumerate(X):\n",
        "    w = som.winner(x)\n",
        "    plot(w[0]+0.5, w[1]+0.5,\n",
        "         markers[y[i]], markeredgecolor = colors[y[i]], markerfacecolor = 'None', \n",
        "         markersize = 10, markeredgewidth = 2)\n",
        "show()"
      ],
      "execution_count": 7,
      "outputs": [
        {
          "output_type": "display_data",
          "data": {
            "image/png": "[encoded data removed]",
            "text/plain": [
              "<Figure size 432x288 with 2 Axes>"
            ]
          },
          "metadata": {
            "tags": [],
            "needs_background": "light"
          }
        }
      ]
    },
    {
      "cell_type": "markdown",
      "metadata": {
        "id": "fZT1ShbYAVRb"
      },
      "source": [
        "# Encontrar los fraudes"
      ]
    },
    {
      "cell_type": "code",
      "metadata": {
        "id": "-LpjuUimAU8B"
      },
      "source": [
        "mappings = som.win_map(X)\n",
        "frauds = np.concatenate( (mappings[(3,1)], mappings[(2,5)]), axis = 0 )\n",
        "frauds = sc.inverse_transform(frauds)"
      ],
      "execution_count": 8,
      "outputs": []
    },
    {
      "cell_type": "markdown",
      "metadata": {
        "id": "fRn2520qAlLG"
      },
      "source": [
        "# Parte 2 - Trasladar el modelo de Deep Learning de no \n",
        "\n",
        "*   Elemento de la lista\n",
        "*   Elemento de la lista\n",
        "\n",
        "supervisado a supervisado\n"
      ]
    },
    {
      "cell_type": "markdown",
      "metadata": {
        "id": "u1b7P-oUBCJH"
      },
      "source": [
        "# Crear la matriz de características"
      ]
    },
    {
      "cell_type": "code",
      "metadata": {
        "id": "Q1A7zeKXAuOe"
      },
      "source": [
        "customers = dataset.iloc[:, 1:-1].values"
      ],
      "execution_count": 9,
      "outputs": []
    },
    {
      "cell_type": "markdown",
      "metadata": {
        "id": "xoyxSSy0BMzA"
      },
      "source": [
        "# Crear la variable dependiente"
      ]
    },
    {
      "cell_type": "code",
      "metadata": {
        "id": "LQUsmUIYBLSN"
      },
      "source": [
        "is_fraud = np.zeros(len(dataset))\n",
        "for i in range(len(dataset)):\n",
        "  if dataset.iloc[i, 0] in frauds:\n",
        "    is_fraud[i] = 1"
      ],
      "execution_count": 10,
      "outputs": []
    },
    {
      "cell_type": "markdown",
      "metadata": {
        "id": "zJbT5vXuB_0f"
      },
      "source": [
        "# Escalar Variables"
      ]
    },
    {
      "cell_type": "code",
      "metadata": {
        "id": "aNQotwvSBipF"
      },
      "source": [
        "from sklearn.preprocessing import StandardScaler\n",
        "sc_X = StandardScaler()\n",
        "customers = sc_X.fit_transform(customers)"
      ],
      "execution_count": 11,
      "outputs": []
    },
    {
      "cell_type": "markdown",
      "metadata": {
        "id": "eGcWgBeXg1w7"
      },
      "source": [
        "# Parte 2 - Construir la RNA\n"
      ]
    },
    {
      "cell_type": "code",
      "metadata": {
        "id": "H3RYYuvcCMfw"
      },
      "source": [
        "from keras.models import Sequential\n",
        "from keras.layers import Dense"
      ],
      "execution_count": 12,
      "outputs": []
    },
    {
      "cell_type": "markdown",
      "metadata": {
        "id": "HSzS0CcACWav"
      },
      "source": [
        "# Inicializar la RNA"
      ]
    },
    {
      "cell_type": "code",
      "metadata": {
        "id": "f9owB2IWCUpb"
      },
      "source": [
        "classifier = Sequential()"
      ],
      "execution_count": 13,
      "outputs": []
    },
    {
      "cell_type": "markdown",
      "metadata": {
        "id": "tuCI_LD7CcSe"
      },
      "source": [
        "# Añadir las capas de entrada y primera capa oculta"
      ]
    },
    {
      "cell_type": "code",
      "metadata": {
        "id": "-RumKO6nCbI8"
      },
      "source": [
        "classifier.add(Dense(units = 2, kernel_initializer = \"uniform\", activation = \"relu\", input_dim = 14))"
      ],
      "execution_count": 14,
      "outputs": []
    },
    {
      "cell_type": "markdown",
      "metadata": {
        "id": "5XhT_DhMC6z5"
      },
      "source": [
        "# Añadir la capa de salida"
      ]
    },
    {
      "cell_type": "code",
      "metadata": {
        "id": "QrTHFP39C5-d"
      },
      "source": [
        "classifier.add(Dense(units = 1, kernel_initializer = \"uniform\", activation = \"sigmoid\"))"
      ],
      "execution_count": 15,
      "outputs": []
    },
    {
      "cell_type": "markdown",
      "metadata": {
        "id": "Va2Uh9ULDMi4"
      },
      "source": [
        "# Compilar la RNA"
      ]
    },
    {
      "cell_type": "code",
      "metadata": {
        "id": "EMYENnnwDGls"
      },
      "source": [
        "classifier.compile(optimizer = \"adam\", loss = \"binary_crossentropy\", metrics = [\"accuracy\"])"
      ],
      "execution_count": 16,
      "outputs": []
    },
    {
      "cell_type": "markdown",
      "metadata": {
        "id": "m_n4elGbDdGR"
      },
      "source": [
        "# Ajustar la RNA al conjunto de Entrenamiento"
      ]
    },
    {
      "cell_type": "code",
      "metadata": {
        "colab": {
          "base_uri": "https://localhost:8080/"
        },
        "id": "QBIDvfSsDbga",
        "outputId": "312b2648-6275-4340-ad2b-2af83b927f05"
      },
      "source": [
        "classifier.fit(customers, is_fraud, batch_size = 1, epochs = 2)"
      ],
      "execution_count": 17,
      "outputs": [
        {
          "output_type": "stream",
          "text": [
            "Epoch 1/2\n",
            "690/690 [==============================] - 14s 1ms/step - loss: 0.5983 - accuracy: 0.9150\n",
            "Epoch 2/2\n",
            "690/690 [==============================] - 1s 1ms/step - loss: 0.2357 - accuracy: 0.9340\n"
          ],
          "name": "stdout"
        },
        {
          "output_type": "execute_result",
          "data": {
            "text/plain": [
              "<keras.callbacks.History at 0x7f24508b02d0>"
            ]
          },
          "metadata": {
            "tags": []
          },
          "execution_count": 17
        }
      ]
    },
    {
      "cell_type": "markdown",
      "metadata": {
        "id": "gfLCl7CrDsll"
      },
      "source": [
        "# Predicción de los resultados de fraude"
      ]
    },
    {
      "cell_type": "code",
      "metadata": {
        "id": "46icG2nkDqZ8"
      },
      "source": [
        "y_pred = classifier.predict(customers)\n",
        "y_pred = np.concatenate((dataset.iloc[:,0:1].values, y_pred), axis = 1)\n",
        "y_pred = y_pred[y_pred[:,1].argsort()]\n"
      ],
      "execution_count": 19,
      "outputs": []
    },
    {
      "cell_type": "code",
      "metadata": {
        "colab": {
          "base_uri": "https://localhost:8080/"
        },
        "id": "8vvJie2QERHM",
        "outputId": "8f459a63-cf67-4316-b7f9-23f43d3a7865"
      },
      "source": [
        "print(y_pred)"
      ],
      "execution_count": 21,
      "outputs": [
        {
          "output_type": "stream",
          "text": [
            "[[1.56179910e+07 7.14480877e-03]\n",
            " [1.56650140e+07 7.63422251e-03]\n",
            " [1.56628540e+07 7.77748227e-03]\n",
            " ...\n",
            " [1.58018170e+07 3.57286811e-01]\n",
            " [1.57250020e+07 3.57286811e-01]\n",
            " [1.55715710e+07 3.57286811e-01]]\n"
          ],
          "name": "stdout"
        }
      ]
    },
    {
      "cell_type": "code",
      "metadata": {
        "id": "rMBEXrQxEWKm"
      },
      "source": [
        ""
      ],
      "execution_count": null,
      "outputs": []
    }
  ]
}