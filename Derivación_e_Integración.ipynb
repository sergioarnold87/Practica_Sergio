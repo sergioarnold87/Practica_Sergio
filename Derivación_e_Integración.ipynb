{
  "nbformat": 4,
  "nbformat_minor": 0,
  "metadata": {
    "colab": {
      "name": "5. Derivación e Integración.ipynb",
      "provenance": [],
      "collapsed_sections": [],
      "toc_visible": true,
      "include_colab_link": true
    },
    "kernelspec": {
      "name": "python3",
      "display_name": "Python 3"
    }
  },
  "cells": [
    {
      "cell_type": "markdown",
      "metadata": {
        "id": "view-in-github",
        "colab_type": "text"
      },
      "source": [
        "<a href=\"https://colab.research.google.com/github/sergioarnold87/Practica_Sergio/blob/main/Derivaci%C3%B3n_e_Integraci%C3%B3n.ipynb\" target=\"_parent\"><img src=\"https://colab.research.google.com/assets/colab-badge.svg\" alt=\"Open In Colab\"/></a>"
      ]
    },
    {
      "cell_type": "markdown",
      "metadata": {
        "id": "o14imDM3Ag9N"
      },
      "source": [
        "# Importar librerías del tema"
      ]
    },
    {
      "cell_type": "code",
      "metadata": {
        "id": "E9olbUVdAyMQ"
      },
      "source": [
        "import math\n",
        "import itertools\n",
        "import sympy as sp\n",
        "sp.init_printing()"
      ],
      "execution_count": null,
      "outputs": []
    },
    {
      "cell_type": "markdown",
      "metadata": {
        "id": "_VoOSlCbAy05"
      },
      "source": [
        "# Ejemplo 1: aproximación de la derivada por el cociente incremental\n",
        "Dada una función $f$, un valor $x_0$ y un paso $h$, dar la aproximación de $f'(x_0)$ usando el cociente incremental $\\frac{f(x_0+h)-f(x_0)}{h}$.\n",
        "Aplicarlo para el caso en que $f(x)=\\mathrm{e}^{\\sin x}$, $x_0=0$ y $h=0.05$.\n",
        "\n",
        "El programa también debe calcular el error real en el caso de conocer $f'(x_0)$ y dar una cota del error cometido en el caso de conocer $M=\\max_{x\\in [x_0-h,x_0+h]}|f''(x)|$."
      ]
    },
    {
      "cell_type": "code",
      "metadata": {
        "id": "FZaz7kWtB3HG"
      },
      "source": [
        "def function(x):\n",
        "  return math.exp(math.sin(x))\n",
        "def function_derivate(x):\n",
        "  return math.cos(x)*math.exp(math.sin(x))  "
      ],
      "execution_count": null,
      "outputs": []
    },
    {
      "cell_type": "code",
      "metadata": {
        "id": "QBwTzqcvvz9c"
      },
      "source": [
        "def derivate_incremental(x0,h,M,f=function,fd=None,verbose=True):\n",
        "  \"\"\"\n",
        "  Dada una función  f , un punto  x0  y un paso  h, se calcula la aproximación \n",
        "  de f'(x0) usando el método del cociente incremental \n",
        "    \n",
        "\n",
        "    Parámetros:\n",
        "    * x0: punto dónde queremos aproximar la derivada\n",
        "    * h: Paso del método.\n",
        "    * M: Máximo del la segunda derivada\n",
        "    * f: función que queremos calcular su derivada en x0\n",
        "    * fd: función derivada de f\n",
        "    \n",
        "    Valor de retorno: \n",
        "    * aproximacion: valor aproximado de f'(x0).\n",
        "    * error: error real cometido (|aproximacion-f'(x0)|)\n",
        "    * cota error: error máximo que se puede cometer usando h como paso del método\n",
        "  \"\"\"\n",
        "  aproximacion=(f(x0+h)-f(x0))/h\n",
        "  cota_error=M*abs(h)/2\n",
        "  if fd==None:\n",
        "    if verbose:\n",
        "      print(\"aproximación = \", aproximacion,\n",
        "            \"\\ncota error =\", cota_error)\n",
        "    return (aproximacion, cota_error)\n",
        "\n",
        "  valor_real= fd(x0)\n",
        "  error=abs(aproximacion-valor_real)\n",
        "\n",
        "  if verbose:\n",
        "    print(\"aproximacion =\",aproximacion,\n",
        "        \"\\nerror real =\",error, \n",
        "        \"\\ncota error =\", cota_error)\n",
        "  return (aproximacion, error, cota_error)\n"
      ],
      "execution_count": null,
      "outputs": []
    },
    {
      "cell_type": "code",
      "metadata": {
        "colab": {
          "base_uri": "https://localhost:8080/",
          "height": 88
        },
        "id": "FzKLVH1EyVaz",
        "outputId": "906f7d15-7ea8-4751-9588-09d4e2fc38b0"
      },
      "source": [
        "derivate_incremental(0,0.05,2.1024984, fd=function_derivate)"
      ],
      "execution_count": null,
      "outputs": [
        {
          "output_type": "stream",
          "text": [
            "aproximacion = 1.024983957209069 \n",
            "error real = 0.024983957209069096 \n",
            "cota error = 0.052562460000000005\n"
          ],
          "name": "stdout"
        },
        {
          "output_type": "execute_result",
          "data": {
            "image/png": "[encoded data removed]",
            "text/latex": "$$\\left ( 1.024983957209069, \\quad 0.024983957209069096, \\quad 0.052562460000000005\\right )$$",
            "text/plain": [
              "(1.024983957209069, 0.024983957209069096, 0.052562460000000005)"
            ]
          },
          "metadata": {
            "tags": []
          },
          "execution_count": 16
        }
      ]
    },
    {
      "cell_type": "code",
      "metadata": {
        "colab": {
          "base_uri": "https://localhost:8080/",
          "height": 71
        },
        "id": "o7BcZsg_V-Ud",
        "outputId": "931e6b17-2992-40c1-aecd-21328a4efda2"
      },
      "source": [
        "derivate_incremental(0,0.05,2.1024984)"
      ],
      "execution_count": null,
      "outputs": [
        {
          "output_type": "stream",
          "text": [
            "aproximación =  1.024983957209069 \n",
            "cota error = 0.052562460000000005\n"
          ],
          "name": "stdout"
        },
        {
          "output_type": "execute_result",
          "data": {
            "image/png": "[encoded data removed]",
            "text/latex": "$$\\left ( 1.024983957209069, \\quad 0.052562460000000005\\right )$$",
            "text/plain": [
              "(1.024983957209069, 0.052562460000000005)"
            ]
          },
          "metadata": {
            "tags": []
          },
          "execution_count": 17
        }
      ]
    },
    {
      "cell_type": "markdown",
      "metadata": {
        "id": "NbkKYr9oCF_F"
      },
      "source": [
        "# Ejemplo 2: fórmula de los tres puntos\n",
        "Dada una función $f$, un valor $x_0$ y un paso $h$, dar la aproximación de $f′(x_0)$ usando la fórmula de los tres puntos.\n",
        "Aplicarlo para el caso en que $f(x)=\\mathrm{e}^{\\sin x}$, $x_0=0$ y $h=0.05$.\n",
        "\n",
        "El programa también debe calcular el error real en el caso de conocer $f'(x_0)$ y dar una cota del error cometido en el caso de conocer $M=\\max_{x\\in [x_0-h,x_0+h]}|f'''(x)|$."
      ]
    },
    {
      "cell_type": "code",
      "metadata": {
        "id": "gZEre_NvGQ3S"
      },
      "source": [
        "def function(x):\n",
        "  return math.exp(math.sin(x))\n",
        "def function_derivate(x):\n",
        "  return math.cos(x)*math.exp(math.sin(x))  "
      ],
      "execution_count": null,
      "outputs": []
    },
    {
      "cell_type": "code",
      "metadata": {
        "id": "79jJ9p-C07Jq"
      },
      "source": [
        "def derivate_trespuntos(x0,h,M,f=function,fd=None, verbose=True):\n",
        "  \"\"\"\n",
        "  Dada una función  f , un punto  x0  y un paso  h, se calcula la aproximación \n",
        "  de f'(x0) usando el método de los tres puntos\n",
        "    \n",
        "\n",
        "    Parámetros:\n",
        "    * x0: punto dónde queremos aproximar la derivada\n",
        "    * h: Paso del método.\n",
        "    * M: Máximo de la tercera derivada\n",
        "    * f: función de la cual queremos calcular su derivada en x0\n",
        "    * fd: función derivada de f\n",
        "    \n",
        "    Valor de retorno: \n",
        "    * aproximacion: valor aproximado de f'(x0).\n",
        "    * error: error real cometido (|aproximacion-f'(x0)|)\n",
        "    * cota error: error máximo que se puede cometer usando h como paso del método\n",
        "  \"\"\"\n",
        "  aproximacion=(f(x0+h)-f(x0-h))/(2*h)\n",
        "  cota_error=M*h**2/6\n",
        "  if fd==None:\n",
        "    if verbose:\n",
        "      print(\"aproximación = \", aproximacion,\n",
        "            \"\\ncota error =\", cota_error)\n",
        "    return (aproximacion, cota_error)\n",
        "\n",
        "  valor_real= fd(x0)\n",
        "  error=abs(aproximacion-valor_real)\n",
        "  if verbose:\n",
        "    print(\"aproximacion =\",aproximacion,\n",
        "          \"\\nerror real =\",error, \n",
        "          \"\\ncota error=\", cota_error)\n",
        "  return (aproximacion, error, cota_error) \n"
      ],
      "execution_count": null,
      "outputs": []
    },
    {
      "cell_type": "code",
      "metadata": {
        "colab": {
          "base_uri": "https://localhost:8080/",
          "height": 90
        },
        "id": "X_buIt5O2HLi",
        "outputId": "ba060456-9cbf-4c56-f44d-c62c51aaadb5"
      },
      "source": [
        "derivate_trespuntos(0,0.05,5.256246, fd = function_derivate)"
      ],
      "execution_count": null,
      "outputs": [
        {
          "output_type": "stream",
          "text": [
            "aproximaxion = 0.9999995835069508 \n",
            "error real = 4.164930491601382e-07 \n",
            "cota error= 0.0021901025000000004\n"
          ],
          "name": "stdout"
        },
        {
          "output_type": "execute_result",
          "data": {
            "image/png": "[encoded data removed]",
            "text/latex": "$$\\left ( 0.9999995835069508, \\quad 4.164930491601382e-07, \\quad 0.0021901025000000004\\right )$$",
            "text/plain": [
              "(0.9999995835069508, 4.164930491601382e-07, 0.0021901025000000004)"
            ]
          },
          "metadata": {
            "tags": []
          },
          "execution_count": 21
        }
      ]
    },
    {
      "cell_type": "code",
      "metadata": {
        "colab": {
          "base_uri": "https://localhost:8080/",
          "height": 71
        },
        "id": "IHpYPnSYWYZS",
        "outputId": "ccd81366-3ed4-4fdb-db88-bbfd180bd47c"
      },
      "source": [
        "derivate_trespuntos(0,0.05,5.256246)"
      ],
      "execution_count": null,
      "outputs": [
        {
          "output_type": "stream",
          "text": [
            "aproximación =  0.9999995835069508 \n",
            "cota error = 0.0021901025000000004\n"
          ],
          "name": "stdout"
        },
        {
          "output_type": "execute_result",
          "data": {
            "image/png": "[encoded data removed]",
            "text/latex": "$$\\left ( 0.9999995835069508, \\quad 0.0021901025000000004\\right )$$",
            "text/plain": [
              "(0.9999995835069508, 0.0021901025000000004)"
            ]
          },
          "metadata": {
            "tags": []
          },
          "execution_count": 22
        }
      ]
    },
    {
      "cell_type": "markdown",
      "metadata": {
        "id": "IYXBRce7GR3P"
      },
      "source": [
        "# Ejemplo 3: fórmula de los cinco puntos\n",
        "Dada una función $f$, un valor $x_0$ y un paso $h$, dar la aproximación de $f′(x_0)$ usando la fórmula de los cinco puntos.\n",
        "Aplicarlo para el caso en que $f(x)=\\mathrm{e}^{\\sin x}$, $x_0=0$ y $h=0.05$.\n",
        "\n",
        "El programa también debe calcular el error real en el caso de conocer $f'(x_0)$ y dar una cota del error cometido en el caso de conocer $M=\\max_{x\\in [x_0-h,x_0+h]}|f^{(5)}(x)|$."
      ]
    },
    {
      "cell_type": "code",
      "metadata": {
        "id": "GC2vyJoy4Alm"
      },
      "source": [
        "def function(x):\n",
        "  return math.exp(math.sin(x))\n",
        "def function_derivate(x):\n",
        "  return math.cos(x)*math.exp(math.sin(x))  "
      ],
      "execution_count": null,
      "outputs": []
    },
    {
      "cell_type": "code",
      "metadata": {
        "id": "6Cx8afqeGmGx"
      },
      "source": [
        "def derivate_cincopuntos(x0,h,M,f=function,fd=None, verbose=True):\n",
        "  \"\"\"\n",
        "   Dada una función  f , un punto  x0  y un paso  h, se calcula la aproximación \n",
        "   de f'(x0) usando el método de los cinco puntos\n",
        "    \n",
        "\n",
        "    Parámetros:\n",
        "    * x0: punto dónde queremos aproximar la derivada\n",
        "    * h: Paso del método.\n",
        "    * M: Máximo del la quinta derivada\n",
        "    * fd: función derivada de f\n",
        "    \n",
        "    Valor de retorno: \n",
        "    * aproximacion: valor aproximado de f'(x0).\n",
        "    * error: error real cometido (|aproximacion-f'(x0)|)\n",
        "    * cota error: error máximo que se puede cometer usando h como paso del método\n",
        "  \"\"\"\n",
        "  aproximacion=(f(x0-2*h)-8*f(x0-h)+8*f(x0+h)-f(x0+2*h))/(12*h)\n",
        "  cota_error=(M*h**4)/30\n",
        "  if fd==None:\n",
        "    if verbose:\n",
        "      print(\"aproximación = \", aproximacion,\n",
        "            \"\\ncota error =\", cota_error)\n",
        "    return (aproximacion, cota_error)\n",
        "\n",
        "  valor_real= fd(x0)\n",
        "  error=abs(aproximacion-valor_real)\n",
        "  print(\"aproximacion =\",aproximacion,\n",
        "        \"\\nerror real =\",error, \n",
        "        \"\\ncota error=\", cota_error)\n",
        "  return (aproximacion, cota_error,error)"
      ],
      "execution_count": null,
      "outputs": []
    },
    {
      "cell_type": "code",
      "metadata": {
        "colab": {
          "base_uri": "https://localhost:8080/",
          "height": 90
        },
        "id": "xWtUmbzu4DUW",
        "outputId": "05a56f8f-1e44-4d32-cfa2-ba6425e06466"
      },
      "source": [
        "derivate_cincopuntos(0,0.05,57.459315, fd = function_derivate)"
      ],
      "execution_count": null,
      "outputs": [
        {
          "output_type": "stream",
          "text": [
            "aproximacion = 1.0000016631938748 \n",
            "error real = 1.6631938748457031e-06 \n",
            "cota error= 1.1970690625000002e-05\n"
          ],
          "name": "stdout"
        },
        {
          "output_type": "execute_result",
          "data": {
            "image/png": "[encoded data removed]",
            "text/latex": "$$\\left ( 1.0000016631938748, \\quad 1.1970690625000002e-05, \\quad 1.6631938748457031e-06\\right )$$",
            "text/plain": [
              "(1.0000016631938748, 1.1970690625000002e-05, 1.6631938748457031e-06)"
            ]
          },
          "metadata": {
            "tags": []
          },
          "execution_count": 25
        }
      ]
    },
    {
      "cell_type": "code",
      "metadata": {
        "colab": {
          "base_uri": "https://localhost:8080/",
          "height": 72
        },
        "id": "lIMr-uFHWyUc",
        "outputId": "0f9fe0d4-b51b-4226-addd-6cfa0d5b83ae"
      },
      "source": [
        "derivate_cincopuntos(0,0.05,57.459315)"
      ],
      "execution_count": null,
      "outputs": [
        {
          "output_type": "stream",
          "text": [
            "aproximación =  1.0000016631938748 \n",
            "cota error = 1.1970690625000002e-05\n"
          ],
          "name": "stdout"
        },
        {
          "output_type": "execute_result",
          "data": {
            "image/png": "[encoded data removed]",
            "text/latex": "$$\\left ( 1.0000016631938748, \\quad 1.1970690625000002e-05\\right )$$",
            "text/plain": [
              "(1.0000016631938748, 1.1970690625000002e-05)"
            ]
          },
          "metadata": {
            "tags": []
          },
          "execution_count": 26
        }
      ]
    },
    {
      "cell_type": "markdown",
      "metadata": {
        "id": "iTdwwFEqGyg0"
      },
      "source": [
        "# Ejemplo 4: aproximación de $f''(x_0)$ usando $x_0\\pm 2h$ y $x_0\\pm h$\n",
        "Dada una función $f$, un valor $x_0$ y un paso $h$, dar la aproximación de $f''(x_0)$ usando la expresión de $f''(x_0)$ con cinco valores $f(x_0)$, $f(x_0\\pm h)$ y $f(x_0\\pm 2h)$.\n",
        "\n",
        "El programa también debe calcular el error real en el caso de conocer $f''(x_0)$."
      ]
    },
    {
      "cell_type": "code",
      "metadata": {
        "id": "Je98q7WTaIuA"
      },
      "source": [
        "def function(x):\n",
        "  return math.exp(math.sin(x))\n",
        "def function_derivate2(x):\n",
        "  return math.exp(math.sin(x))*(math.cos(x)**2-math.sin(x))"
      ],
      "execution_count": null,
      "outputs": []
    },
    {
      "cell_type": "code",
      "metadata": {
        "id": "BelDkXU_HeTu"
      },
      "source": [
        "def derivate_taylor(x0,h,f=function,fd2=None,verbose=True):\n",
        "  \"\"\"\n",
        "   Dada una función  f , un punto  x0  y un paso  h, se calcula la aproximación \n",
        "   de f'(x0) usando  la expresión de f''(x0) con cinco valores f(x0+h), f(x0-h), \n",
        "   f(x0+2h) y f(x0-2h)\n",
        "    \n",
        "\n",
        "    Parámetros:\n",
        "    * x0: punto dónde queremos aproximar la derivada\n",
        "    * h: Paso del método.\n",
        "    * f: función que queremos calcular su derivada en x0\n",
        "    * fd: función derivada segunda de f\n",
        "    \n",
        "    Valor de retorno: \n",
        "    * aproximacion: valor aproximado de f'(x0).\n",
        "    * error: error real cometido (|aproximacion-f'(x0)|)\n",
        "  \"\"\"\n",
        "  aproximacion=(-f(x0-2*h)+16*f(x0-h)-30*f(x0)+16*f(x0+h)-f(x0+2*h))/(12*h**2)\n",
        "  if fd2==None:\n",
        "    if verbose:\n",
        "      print(\"aproximación = \", aproximacion)\n",
        "    return aproximacion\n",
        "\n",
        "  valor_real= fd2(x0)\n",
        "  error=abs(aproximacion-valor_real)\n",
        "  \n",
        "  if verbose:\n",
        "    print(\"aproximacion =\",aproximacion,\n",
        "          \"\\nerror real =\",error)\n",
        "  return (aproximacion,error) "
      ],
      "execution_count": null,
      "outputs": []
    },
    {
      "cell_type": "code",
      "metadata": {
        "colab": {
          "base_uri": "https://localhost:8080/",
          "height": 72
        },
        "id": "nZ-PNwA-gn9W",
        "outputId": "007b171e-c101-4f68-e381-ccfa3a601e07"
      },
      "source": [
        "derivate_taylor(0,0.05, fd2 = function_derivate2)"
      ],
      "execution_count": null,
      "outputs": [
        {
          "output_type": "stream",
          "text": [
            "aproximaxion = 1.0000002049748822 \n",
            "error real = 2.0497488217863236e-07\n"
          ],
          "name": "stdout"
        },
        {
          "output_type": "execute_result",
          "data": {
            "image/png": "[encoded data removed]",
            "text/latex": "$$\\left ( 1.0000002049748822, \\quad 2.0497488217863236e-07\\right )$$",
            "text/plain": [
              "(1.0000002049748822, 2.0497488217863236e-07)"
            ]
          },
          "metadata": {
            "tags": []
          },
          "execution_count": 35
        }
      ]
    },
    {
      "cell_type": "code",
      "metadata": {
        "colab": {
          "base_uri": "https://localhost:8080/",
          "height": 54
        },
        "id": "_8oISp4GbaWv",
        "outputId": "6d1bab86-799e-41a5-cdd6-c081ecd57b09"
      },
      "source": [
        "derivate_taylor(0,0.05)"
      ],
      "execution_count": null,
      "outputs": [
        {
          "output_type": "stream",
          "text": [
            "aproximación =  1.0000002049748822\n"
          ],
          "name": "stdout"
        },
        {
          "output_type": "execute_result",
          "data": {
            "image/png": "[encoded data removed]",
            "text/latex": "$$1.0000002049748822$$",
            "text/plain": [
              "1.0000002049748822"
            ]
          },
          "metadata": {
            "tags": []
          },
          "execution_count": 30
        }
      ]
    },
    {
      "cell_type": "markdown",
      "metadata": {
        "id": "Au8qEn5zHe3D"
      },
      "source": [
        "# Ejemplo 5: extrapolación de Richardson\n",
        "Dada una función $f$, un valor $x_0$, un paso $h$ y un orden $n$ máximo $O(h^n)$ aplicar extrapolación de Richardson usando como aproximación inicial de $f'(x_0)$ el cociente incremental (ver ejemplo 1) hasta obtener un orden de error $O(h^n)$. \n",
        "\n",
        "Aplicarlo al caso de $f(x)=\\frac{1}{1+x^2}$, $x_0=1$, $h=0.1$ y $n=4$."
      ]
    },
    {
      "cell_type": "code",
      "metadata": {
        "id": "2WfRO_E7IRXk"
      },
      "source": [
        "def function(x):\n",
        "  return 1/(1+x**2)\n",
        "def CocienteIncremental(x0,h,f=function):\n",
        "  aproximacion=(f(x0+h)-f(x0))/h\n",
        "  return aproximacion\n"
      ],
      "execution_count": null,
      "outputs": []
    },
    {
      "cell_type": "code",
      "metadata": {
        "id": "hPXekrkzjdGa"
      },
      "source": [
        "def Richardson(x0,h,n,f=function):\n",
        "   \"\"\"\n",
        "   Dada una función  f , un punto  x0  ,un paso  h y  un orden  n+1  máximo, \n",
        "   se calcula la aproximación de f'(x0) usando la extrapolación de Richardson \n",
        "   usando como aproximación inicial de  f′(x0)  el cociente incremental    \n",
        "\n",
        "    Parámetros:\n",
        "    * x0: punto dónde queremos aproximar la derivada\n",
        "    * h: Paso del método.\n",
        "    * f: función que queremos calcular su derivada en x0\n",
        "    * n+1: orden máximo del error cometido\n",
        "    \n",
        "    Valor de retorno: \n",
        "    * aproximacion: valor aproximado de f'(x0).\n",
        "   \"\"\"\n",
        "   if n==0:\n",
        "     aproximacion=CocienteIncremental(x0,h,f)\n",
        "     return aproximacion\n",
        "   else:\n",
        "     return ((2**n)*Richardson(x0,h/2,n-1)-Richardson(x0,h,n-1))/((2**n)-1)"
      ],
      "execution_count": null,
      "outputs": []
    },
    {
      "cell_type": "code",
      "metadata": {
        "colab": {
          "base_uri": "https://localhost:8080/",
          "height": 37
        },
        "id": "EoF8-6g42nVf",
        "outputId": "cda1b6ed-ae81-47be-c5e3-5a8d04173696"
      },
      "source": [
        "Richardson(1,0.1,0)"
      ],
      "execution_count": null,
      "outputs": [
        {
          "output_type": "execute_result",
          "data": {
            "image/png": "[encoded data removed]",
            "text/latex": "$$-0.4751131221719457$$",
            "text/plain": [
              "-0.4751131221719457"
            ]
          },
          "metadata": {
            "tags": []
          },
          "execution_count": 5
        }
      ]
    },
    {
      "cell_type": "code",
      "metadata": {
        "colab": {
          "base_uri": "https://localhost:8080/",
          "height": 37
        },
        "id": "6oJY_7Tp2p5s",
        "outputId": "ea247779-3135-4e57-da51-4a353a29d2b1"
      },
      "source": [
        "Richardson(1,0.1,1)"
      ],
      "execution_count": null,
      "outputs": [
        {
          "output_type": "execute_result",
          "data": {
            "image/png": "[encoded data removed]",
            "text/latex": "$$-0.4999166043441067$$",
            "text/plain": [
              "-0.4999166043441067"
            ]
          },
          "metadata": {
            "tags": []
          },
          "execution_count": 6
        }
      ]
    },
    {
      "cell_type": "code",
      "metadata": {
        "colab": {
          "base_uri": "https://localhost:8080/",
          "height": 37
        },
        "id": "Jq3jZDCd2s5D",
        "outputId": "3e39466d-22c7-44bb-fe1e-6c5116c241c8"
      },
      "source": [
        "Richardson(1,0.1,2)"
      ],
      "execution_count": null,
      "outputs": [
        {
          "output_type": "execute_result",
          "data": {
            "image/png": "[encoded data removed]",
            "text/latex": "$$-0.50001306062671$$",
            "text/plain": [
              "-0.50001306062671"
            ]
          },
          "metadata": {
            "tags": []
          },
          "execution_count": 7
        }
      ]
    },
    {
      "cell_type": "code",
      "metadata": {
        "colab": {
          "base_uri": "https://localhost:8080/",
          "height": 37
        },
        "id": "tPqydx6ycyej",
        "outputId": "4de500d5-d4a1-4676-a77e-a911a78deb49"
      },
      "source": [
        "Richardson(1,0.1,3)"
      ],
      "execution_count": null,
      "outputs": [
        {
          "output_type": "execute_result",
          "data": {
            "image/png": "[encoded data removed]",
            "text/latex": "$$-0.500000177121639$$",
            "text/plain": [
              "-0.500000177121639"
            ]
          },
          "metadata": {
            "tags": []
          },
          "execution_count": 4
        }
      ]
    },
    {
      "cell_type": "markdown",
      "metadata": {
        "id": "glfuRRbdISGs"
      },
      "source": [
        "# Ejemplo 6: extrapolación de Richardson (exponentes pares)\n",
        "\n",
        "Dada una función f, un valor x0, un paso h y un orden n máximo $O(h^n)$ aplicar extrapolación de Richardson usando como aproximación inicial de f′(x0), $f'(x_0)\\approx \\frac{f(x_0+h)-f(x_0-h)}{h}$ hasta obtener un orden de error $O(h^{2n})$.\n",
        "\n",
        "Aplicarlo al caso de $f(x)=\\frac{1}{1+x^2}$, $x_0=1$, $h=0.1$ y $n=4$."
      ]
    },
    {
      "cell_type": "code",
      "metadata": {
        "id": "bt6NNwWpIxlv"
      },
      "source": [
        "def function(x):\n",
        "  return 1/(1+x**2)\n",
        "def CocienteIncremental(x0,h,f=function):\n",
        "  aproximacion=(f(x0+h)-f(x0-h))/(2*h)\n",
        "  return aproximacion"
      ],
      "execution_count": null,
      "outputs": []
    },
    {
      "cell_type": "code",
      "metadata": {
        "id": "9RswFifKe0LS"
      },
      "source": [
        "def Richardson_pares(x0,h,n,f=function):\n",
        "   \"\"\"\n",
        "   Dada una función  f , un punto  x0, un paso  h y  un orden  2(n+1)  máximo, \n",
        "   se calcula la aproximación de f'(x0) usando la extrapolación de Richardson \n",
        "   usando como aproximación inicial de  f′(x0)=(f(x0+h)-f(x0-h))/(2h)\n",
        "    \n",
        "\n",
        "    Parámetros:\n",
        "    * x0: punto dónde queremos aproximar la derivada\n",
        "    * h: Paso del método.\n",
        "    * f: función que queremos calcular su derivada en x0\n",
        "    * 2(n+1): orden máximo del error cometido\n",
        "    \n",
        "    Valor de retorno: \n",
        "    * aproximacion: valor aproximado de f'(x0).\n",
        "   \"\"\"\n",
        "   if n==0:\n",
        "     aproximacion=CocienteIncremental(x0,h,f)\n",
        "     return aproximacion\n",
        "   else:\n",
        "     return ((4**n)*Richardson_pares(x0,h/2,n-1)-Richardson_pares(x0,h,n-1))/((4**n)-1)"
      ],
      "execution_count": null,
      "outputs": []
    },
    {
      "cell_type": "code",
      "metadata": {
        "colab": {
          "base_uri": "https://localhost:8080/",
          "height": 37
        },
        "id": "jZe_zGAd8YP5",
        "outputId": "efb382f8-ac1c-423b-95aa-739bb8bc8813"
      },
      "source": [
        "Richardson_pares(1,0.1,0)"
      ],
      "execution_count": null,
      "outputs": [
        {
          "output_type": "execute_result",
          "data": {
            "image/png": "[encoded data removed]",
            "text/latex": "$$-0.49998750031249234$$",
            "text/plain": [
              "-0.49998750031249234"
            ]
          },
          "metadata": {
            "tags": []
          },
          "execution_count": 10
        }
      ]
    },
    {
      "cell_type": "code",
      "metadata": {
        "colab": {
          "base_uri": "https://localhost:8080/",
          "height": 37
        },
        "id": "q0PQxYhD8cLE",
        "outputId": "41e8745a-658b-4f8c-bbd8-bea6bc11ea9d"
      },
      "source": [
        "Richardson_pares(1,0.1,1)"
      ],
      "execution_count": null,
      "outputs": [
        {
          "output_type": "execute_result",
          "data": {
            "image/png": "[encoded data removed]",
            "text/latex": "$$-0.5000031248974638$$",
            "text/plain": [
              "-0.5000031248974638"
            ]
          },
          "metadata": {
            "tags": []
          },
          "execution_count": 11
        }
      ]
    },
    {
      "cell_type": "code",
      "metadata": {
        "id": "a3PnO4Q98ewd",
        "colab": {
          "base_uri": "https://localhost:8080/",
          "height": 37
        },
        "outputId": "90cc7f7a-80ed-4ab9-d89d-ec05fba67828"
      },
      "source": [
        "Richardson_pares(1,0.1,2)"
      ],
      "execution_count": null,
      "outputs": [
        {
          "output_type": "execute_result",
          "data": {
            "image/png": "[encoded data removed]",
            "text/latex": "$$-0.5000000000064088$$",
            "text/plain": [
              "-0.5000000000064088"
            ]
          },
          "metadata": {
            "tags": []
          },
          "execution_count": 12
        }
      ]
    },
    {
      "cell_type": "code",
      "metadata": {
        "colab": {
          "base_uri": "https://localhost:8080/",
          "height": 37
        },
        "id": "yZz0Aziwe_HR",
        "outputId": "69b15b42-4e98-4db6-cfeb-a2cbb07bdc06"
      },
      "source": [
        "Richardson_pares(1,0.1,3)"
      ],
      "execution_count": null,
      "outputs": [
        {
          "output_type": "execute_result",
          "data": {
            "image/png": "[encoded data removed]",
            "text/latex": "$$-0.4999999999999259$$",
            "text/plain": [
              "-0.4999999999999259"
            ]
          },
          "metadata": {
            "tags": []
          },
          "execution_count": 13
        }
      ]
    },
    {
      "cell_type": "markdown",
      "metadata": {
        "id": "YeZdnPhhJIBj"
      },
      "source": [
        "# Ejemplo 7: regla del trapecio\n",
        "Dada una función $f$, un intervalo de integración $[a,b]$, aproximar $\\int_a^b f(x)\\, dx$ usando la regla del trapecio.\n",
        "\n",
        "Aplicarlo al caso $\\int_0^2 \\sqrt{1+x^2}\\, dx$."
      ]
    },
    {
      "cell_type": "code",
      "metadata": {
        "id": "66Akry-hJgkN"
      },
      "source": [
        "def function(x):\n",
        "  return math.sqrt(1+x**2)"
      ],
      "execution_count": null,
      "outputs": []
    },
    {
      "cell_type": "code",
      "metadata": {
        "id": "9EHPA8MBy_VN"
      },
      "source": [
        "def trapecio(a,b,f=function):\n",
        "  \"\"\"\n",
        "  Dada una función f y un intervalo de integración [a,b], calcula el valor de la \n",
        "  integral f en el dominio [a,b] usando la regla del trapecio\n",
        "  \n",
        "  \n",
        "  Parámetros:\n",
        "    * a: Extremo izquierdo del intervalo.\n",
        "    * b: Extremo derecho del intervalo\n",
        "    * f: función que queremos calcular su integral en [a,b]\n",
        "    \n",
        "    Valor de retorno: \n",
        "    * aproximacion: valor aproximado de la integral de f en [a,b]\n",
        "  \n",
        "  \"\"\"\n",
        "  h=b-a\n",
        "  aproximacion=(h/2)*(f(a)+f(b))\n",
        "  return aproximacion"
      ],
      "execution_count": null,
      "outputs": []
    },
    {
      "cell_type": "code",
      "metadata": {
        "colab": {
          "base_uri": "https://localhost:8080/",
          "height": 37
        },
        "id": "0Ov1Nfy80qxG",
        "outputId": "d6fda364-2748-4795-e952-922dba53f6cb"
      },
      "source": [
        "trapecio(0,2)"
      ],
      "execution_count": null,
      "outputs": [
        {
          "output_type": "execute_result",
          "data": {
            "image/png": "[encoded data removed]",
            "text/latex": "$$3.23606797749979$$",
            "text/plain": [
              "3.23606797749979"
            ]
          },
          "metadata": {
            "tags": []
          },
          "execution_count": 16
        }
      ]
    },
    {
      "cell_type": "markdown",
      "metadata": {
        "id": "D3RoZNdBB3jO"
      },
      "source": [
        "# Ejemplo 8: regla de Simpson\n",
        "Dada una función $f$, un intervalo de integración $[a,b]$, aproximar $\\int_a^b f(x)\\, dx$ usando la regla de Simpson.\n",
        "\n",
        "Aplicarlo al caso $\\int_0^2 \\sqrt{1+x^2}\\, dx$."
      ]
    },
    {
      "cell_type": "code",
      "metadata": {
        "id": "SC_FliIgJqiU"
      },
      "source": [
        "def function(x):\n",
        "  return math.sqrt(1+x**2)\n",
        "    "
      ],
      "execution_count": null,
      "outputs": []
    },
    {
      "cell_type": "code",
      "metadata": {
        "id": "Wdy3ixvMzslE"
      },
      "source": [
        "def Simpson(a,b,f=function):\n",
        "  \"\"\"\n",
        "  Dada una función f y un intervalo de integración [a,b], \n",
        "  calcula el valor de la integral f en el dominio [a,b] \n",
        "  usando la regla de Simpson\n",
        "  \n",
        "  \n",
        "  Parámetros:\n",
        "    * a: Extremo izquierdo del intervalo.\n",
        "    * b: Extremo derecho del intervalo\n",
        "    * f: función de la cual queremos calcular su integral en [a,b]\n",
        "    \n",
        "    Valor de retorno: \n",
        "    * aproximacion: valor aproximado de la integral de f en [a,b]\n",
        "  \n",
        "  \"\"\"\n",
        "  h=(b-a)/2\n",
        "  aproximacion=(h/3)*(f(a)+4*f(a+h)+f(b))\n",
        "  return aproximacion"
      ],
      "execution_count": null,
      "outputs": []
    },
    {
      "cell_type": "code",
      "metadata": {
        "colab": {
          "base_uri": "https://localhost:8080/",
          "height": 37
        },
        "id": "5LAGr8iPy4Ll",
        "outputId": "9e4b2eef-76f5-4c0c-bfc7-a0e2bc88d98e"
      },
      "source": [
        "Simpson(0,2)"
      ],
      "execution_count": null,
      "outputs": [
        {
          "output_type": "execute_result",
          "data": {
            "image/png": "[encoded data removed]",
            "text/latex": "$$2.9643074089973895$$",
            "text/plain": [
              "2.9643074089973895"
            ]
          },
          "metadata": {
            "tags": []
          },
          "execution_count": 20
        }
      ]
    },
    {
      "cell_type": "markdown",
      "metadata": {
        "id": "8MvyUoRZJrCe"
      },
      "source": [
        "# Ejemplo 9: fórmula de Newton-Cotes cerradas\n",
        "Dada una función $f$, un intervalo de integración $[a,b]$, aproximar $\\int_a^b f(x)\\, dx$ usando la fórmula de Newton-Cotes cerradas con $n=4$.\n",
        "Dar también el coeficiente de $f^{(6)}(\\xi)$ en el término del error.\n",
        "\n",
        "Aplicarlo al caso $\\int_0^2 \\sqrt{1+x^2}\\, dx$."
      ]
    },
    {
      "cell_type": "code",
      "metadata": {
        "id": "CcA4EVUEKSUw"
      },
      "source": [
        "def function(x):\n",
        "  return math.sqrt(1+x**2)"
      ],
      "execution_count": null,
      "outputs": []
    },
    {
      "cell_type": "code",
      "metadata": {
        "id": "TaEvpwGf1wgd"
      },
      "source": [
        "def generar_nodos(a,b,n):\n",
        "  nodos=[]\n",
        "  h=(b-a)/n\n",
        "  for i in range(n+1):\n",
        "    nodos.append(a+i*h)\n",
        "  return nodos "
      ],
      "execution_count": null,
      "outputs": []
    },
    {
      "cell_type": "code",
      "metadata": {
        "id": "WvtrkSzO1wIT"
      },
      "source": [
        "def Polinomio_Lagrange(i,nodos_originales):\n",
        "  a = nodos_originales.copy()\n",
        "  x = sp.symbols('x')\n",
        "  den=1\n",
        "  for j in a:\n",
        "    if j != a[i]:\n",
        "      den=den*(a[i]-j)\n",
        "  a.remove(a[i])    \n",
        "  Lpoli=1\n",
        "  for j in a:\n",
        "    Lpoli=Lpoli*(x-j)\n",
        "  return sp.expand(Lpoli/den)  "
      ],
      "execution_count": null,
      "outputs": []
    },
    {
      "cell_type": "code",
      "metadata": {
        "id": "5UPFs_wK4CoR"
      },
      "source": [
        "def Newton_cotes_cerrado(a,b,n,f=function, verbose=True):\n",
        "  \"\"\"\n",
        "  Dada una función f y un intervalo de integración [a,b], \n",
        "  calcula el valor de la integral f en el dominio [a,b]\n",
        "  usando la fórmula de Newton-Cotes cerradas para un n natural\n",
        "  \n",
        "  \n",
        "  Parámetros:\n",
        "    * a: Extremo izquierdo del intervalo.\n",
        "    * b: Extremo derecho del intervalo\n",
        "    * n: número de partes en el que vamos a dividir el intervalo [a,b]\n",
        "    * f: función que queremos calcular su integral en [a,b]\n",
        "\n",
        "    Valor de retorno: \n",
        "    * aproximacion: valor aproximado de la integral de f en [a,b]\n",
        "    * error: coeficiente que multiplica la derivada n+2 (caso par) o n+1 (caso impar)\n",
        "     para la cota del error de la aproximación\n",
        "  \n",
        "  \"\"\"\n",
        "  nodos=generar_nodos(a,b,n)\n",
        "  h=(b-a)/n\n",
        "  x = sp.symbols('x')\n",
        "\n",
        "  a_lista=[]\n",
        "  for i in range(len(nodos)):\n",
        "    primitiva = sp.integrate(Polinomio_Lagrange(i,nodos))\n",
        "    a_lista.append(primitiva.subs(x,b) - primitiva.subs(x,a))\n",
        "      \n",
        "  aproximacion=0\n",
        "  for i in range(len(a_lista)):\n",
        "    aproximacion+=a_lista[i]*f(nodos[i])\n",
        "\n",
        "  pol_error=1\n",
        "  for i in range(n+1):\n",
        "    pol_error=pol_error*(x-i)  \n",
        "    \n",
        "  if n%2==0:    \n",
        "    primitiva = sp.integrate(pol_error*x)\n",
        "    error = ((h**(n+3))/math.factorial(n+2))*(primitiva.subs(x,n)-\n",
        "                                              primitiva.subs(x,0))\n",
        "  else:\n",
        "    primitiva = sp.integrate(pol_error)\n",
        "    error = ((h**(n+2))/math.factorial(n+1))*(primitiva.subs(x,n)-\n",
        "                                              primitiva.subs(x,0))  \n",
        "  if verbose: \n",
        "    print(\"aproximacion =\",aproximacion,\n",
        "          \"\\ncoeficiente del error =\",error)\n",
        "  \n",
        "  return (aproximacion, error)"
      ],
      "execution_count": null,
      "outputs": []
    },
    {
      "cell_type": "code",
      "metadata": {
        "colab": {
          "base_uri": "https://localhost:8080/",
          "height": 72
        },
        "id": "Etnfunv-7fTO",
        "outputId": "b31f654d-05fc-49e0-9e00-d478ccfd0d55"
      },
      "source": [
        "Newton_cotes_cerrado(0,2,4)"
      ],
      "execution_count": null,
      "outputs": [
        {
          "output_type": "stream",
          "text": [
            "aproximacion = 2.95753214751992 \n",
            "coeficiente del error = -6.61375661375661e-5\n"
          ],
          "name": "stdout"
        },
        {
          "output_type": "execute_result",
          "data": {
            "image/png": "[encoded data removed]",
            "text/latex": "$$\\left ( 2.95753214751992, \\quad -6.61375661375661 \\cdot 10^{-5}\\right )$$",
            "text/plain": [
              "(2.95753214751992, -6.61375661375661e-5)"
            ]
          },
          "metadata": {
            "tags": []
          },
          "execution_count": 6
        }
      ]
    },
    {
      "cell_type": "markdown",
      "metadata": {
        "id": "8E-Y9IlTKSx6"
      },
      "source": [
        "# Ejemplo 10: fórmula de Newton-Cotes abiertas\n",
        "Dada una función $f$, un intervalo de integración $[a,b]$, aproximar $\\int_a^b f(x)\\, dx$ usando la fórmula de Newton-Cotes abiertas con $n=2$.\n",
        "Dar también el coeficiente de $f^{(4)}(\\xi)$ en el término del error.\n",
        "\n",
        "Aplicarlo al caso $\\int_0^2 \\sqrt{1+x^2}\\, dx$."
      ]
    },
    {
      "cell_type": "code",
      "metadata": {
        "id": "suI5jteuKgOZ"
      },
      "source": [
        "def function(x):\n",
        "  return math.sqrt(1+x**2)\n",
        " "
      ],
      "execution_count": null,
      "outputs": []
    },
    {
      "cell_type": "code",
      "metadata": {
        "id": "zmMQbk1F4P9q"
      },
      "source": [
        "def generar_nodos_abierto(a,b,n):\n",
        "  nodos=[]\n",
        "  h=(b-a)/(n+2)\n",
        "  for i in range(1,n+2):\n",
        "    nodos.append(a+i*h)\n",
        "  return nodos "
      ],
      "execution_count": null,
      "outputs": []
    },
    {
      "cell_type": "code",
      "metadata": {
        "colab": {
          "base_uri": "https://localhost:8080/",
          "height": 37
        },
        "id": "xgOjBqGpURrv",
        "outputId": "c383ac5b-6f4e-425a-a593-b4e7237cb4d4"
      },
      "source": [
        "generar_nodos_abierto(0,2, n = 2)"
      ],
      "execution_count": null,
      "outputs": [
        {
          "output_type": "execute_result",
          "data": {
            "image/png": "[encoded data removed]",
            "text/latex": "$$\\left [ 0.5, \\quad 1.0, \\quad 1.5\\right ]$$",
            "text/plain": [
              "[0.5, 1.0, 1.5]"
            ]
          },
          "metadata": {
            "tags": []
          },
          "execution_count": 12
        }
      ]
    },
    {
      "cell_type": "code",
      "metadata": {
        "id": "jf9-iQ1_4RZC"
      },
      "source": [
        "def Polinomio_Lagrange(i,nodos_originales):\n",
        "  a = nodos_originales.copy()\n",
        "  x=sp.symbols('x')\n",
        "  den=1\n",
        "  for j in a:\n",
        "    if j != a[i]:\n",
        "      den=den*(a[i]-j)\n",
        "  a.remove(a[i])    \n",
        "  Lpoli=1\n",
        "  for j in a:\n",
        "    Lpoli=Lpoli*(x-j)\n",
        "  return sp.expand(Lpoli/den)  "
      ],
      "execution_count": null,
      "outputs": []
    },
    {
      "cell_type": "code",
      "metadata": {
        "id": "CdnK-zKXJjGU"
      },
      "source": [
        "def Newton_cotes_abierto(a,b,n,f=function, verbose=True):\n",
        "  \"\"\"\n",
        "  Dada una función f y un intervalo de integración [a,b], calcula el valor de la integral f en el dominio [a,b]\n",
        "  usando la fórmula de Newton-Cotes abiertas para un n natural\n",
        "  \n",
        "  \n",
        "  Parámetros:\n",
        "    * a: Extremo izquierdo del intervalo.\n",
        "    * b: Extremo derecho del intervalo\n",
        "    * n: número de partes en el que vamos a dividir el intervalo [a,b]\n",
        "    * f: función que queremos calcular su integral en [a,b]\n",
        "\n",
        "    Valor de retorno: \n",
        "    * aproximacion: valor aproximado de la integral de f en [a,b]\n",
        "    * error: coeficiente que multiplica a la cuarta derivada para la cota del error de la aproximación\n",
        "  \n",
        "  \"\"\"\n",
        "  nodos=generar_nodos_abierto(a,b,n)\n",
        "  h=(b-a)/(n+2)\n",
        "  x=sp.symbols('x')\n",
        "\n",
        "  a_lista=[]\n",
        "  for i in range(len(nodos)):\n",
        "    primitiva = sp.integrate(Polinomio_Lagrange(i,nodos))\n",
        "    a_lista.append(primitiva.subs(x,b)-primitiva.subs(x,a)) \n",
        "\n",
        "  aproximacion=0\n",
        "  for i in range(len(a_lista)):\n",
        "    aproximacion += a_lista[i]*f(nodos[i])\n",
        "\n",
        "  pol_error = 1\n",
        "  for i in range(n+1):\n",
        "    pol_error=pol_error*(x-i)     \n",
        "\n",
        "  if n%2==0:    \n",
        "    primitiva = sp.integrate(pol_error*x)\n",
        "    error = ((h**(n+3))/math.factorial(n+2))*(primitiva.subs(x,n+1)-\n",
        "                                              primitiva.subs(x,-1))\n",
        "  else:\n",
        "    primitiva = sp.integrate(pol_error)\n",
        "    error = ((h**(n+2))/math.factorial(n+1))*(primitiva.subs(x,n+1)-\n",
        "                                              primitiva.subs(x,-1))  \n",
        "  if verbose: \n",
        "    print(\"aproximacion =\",aproximacion,\n",
        "          \"\\ncoeficiente del error =\",error)\n",
        "  \n",
        "  return (aproximacion, error)"
      ],
      "execution_count": null,
      "outputs": []
    },
    {
      "cell_type": "code",
      "metadata": {
        "colab": {
          "base_uri": "https://localhost:8080/",
          "height": 71
        },
        "id": "9NA3cGFqMT76",
        "outputId": "51f70c8d-e3b5-494b-81fb-ec8504faac17"
      },
      "source": [
        "Newton_cotes_abierto(0,2,2)"
      ],
      "execution_count": null,
      "outputs": [
        {
          "output_type": "stream",
          "text": [
            "aproximacion = 2.95160379372712 \n",
            "coeficiente del error = 0.00972222222222222\n"
          ],
          "name": "stdout"
        },
        {
          "output_type": "execute_result",
          "data": {
            "image/png": "[encoded data removed]",
            "text/latex": "$$\\left ( 2.95160379372712, \\quad 0.00972222222222222\\right )$$",
            "text/plain": [
              "(2.95160379372712, 0.00972222222222222)"
            ]
          },
          "metadata": {
            "tags": []
          },
          "execution_count": 15
        }
      ]
    },
    {
      "cell_type": "markdown",
      "metadata": {
        "id": "4ajKqODCKhY7"
      },
      "source": [
        "# Ejemplo 11: método de los trapecios compuesto\n",
        "Dada una función $f$, un intervalo de integración $[a,b]$ y un valor $n$, calcular la aproximación de $\\int_a^b f(x)\\, dx$ usando la fórmula de los trapecios compuesta. Dar el coeficiente de $f''(\\xi)$ en el término del error.\n",
        "\n",
        "Aplicarlo al caso $\\int_{-2}^2 \\frac{1}{1+\\mathrm{e}^{-3x}}\\, dx$ con $n=5$."
      ]
    },
    {
      "cell_type": "code",
      "metadata": {
        "id": "UZ7Bql_ZLU9K"
      },
      "source": [
        "def function(x):\n",
        "  return 1/(1+math.exp(-3*x)) "
      ],
      "execution_count": null,
      "outputs": []
    },
    {
      "cell_type": "code",
      "metadata": {
        "id": "sxlPhgwo_O14"
      },
      "source": [
        "def generar_nodos(a,b,n):\n",
        "  nodos=[]\n",
        "  h=(b-a)/n\n",
        "  for i in range(0,n+1):\n",
        "    nodos.append(a+i*h)\n",
        "  return nodos  "
      ],
      "execution_count": null,
      "outputs": []
    },
    {
      "cell_type": "code",
      "metadata": {
        "colab": {
          "base_uri": "https://localhost:8080/",
          "height": 37
        },
        "id": "lVJZu70ldB75",
        "outputId": "10ebb4e4-1dba-44d6-f3e2-d349405506ad"
      },
      "source": [
        "generar_nodos(-2,2, n = 5)"
      ],
      "execution_count": null,
      "outputs": [
        {
          "output_type": "execute_result",
          "data": {
            "image/png": "[encoded data removed]",
            "text/latex": "$$\\left [ -2.0, \\quad -1.2, \\quad -0.3999999999999999, \\quad 0.40000000000000036, \\quad 1.2000000000000002, \\quad 2.0\\right ]$$",
            "text/plain": [
              "[-2.0, -1.2, -0.3999999999999999, 0.40000000000000036, 1.2000000000000002, 2.0\n",
              "]"
            ]
          },
          "metadata": {
            "tags": []
          },
          "execution_count": 19
        }
      ]
    },
    {
      "cell_type": "code",
      "metadata": {
        "id": "3E9t914o_NRt"
      },
      "source": [
        "def trapecio(a,b,f=function):\n",
        "  h=b-a\n",
        "  aproximacion=(h/2)*(f(a)+f(b))\n",
        "  return aproximacion"
      ],
      "execution_count": null,
      "outputs": []
    },
    {
      "cell_type": "code",
      "metadata": {
        "id": "KUbyHdmFMTDp"
      },
      "source": [
        "def trapecio_compuesta(a,b,n,f=function, verbose=True, simplify = True):\n",
        "  \"\"\"\n",
        "  Dada una función f y un intervalo de integración [a,b], calcula el valor de\n",
        "  la integral f en el dominio [a,b] usando la fórmula de los trapecios \n",
        "  compuesta para un n natural\n",
        "  \n",
        "  \n",
        "  Parámetros:\n",
        "    * a: Extremo izquierdo del intervalo.\n",
        "    * b: Extremo derecho del intervalo\n",
        "    * n: número de subintervalos en el que vamos a dividir el intervalo [a,b]\n",
        "    * f: función de la cual queremos calcular su integral en [a,b]\n",
        "    * simplify: valor booleano que simplifica la fórmula para reducir el error \n",
        "    de operaciones involucradas en la aproximación\n",
        "\n",
        "    Valor de retorno: \n",
        "    * aproximacion: valor aproximado de la integral de f en [a,b]\n",
        "    * error: coeficiente que multiplica a la segunda derivada para la cota del error de la aproximación\n",
        "  \n",
        "  \"\"\"\n",
        "  aproximacion=0\n",
        "  h = (b-a)/n\n",
        "  nodos=generar_nodos(a,b,n)\n",
        "  \n",
        "  if simplify: \n",
        "    aproximacion += f(a)\n",
        "    for i in range(1, len(nodos)-1):\n",
        "        aproximacion += 2*f(nodos[i])\n",
        "    aproximacion += f(b)\n",
        "    aproximacion *= h/2\n",
        "  else:\n",
        "    for i in range(len(nodos)-1):\n",
        "        aproximacion += trapecio(nodos[i],nodos[i+1])\n",
        "  error=-(h**3)*n/12\n",
        "\n",
        "  if verbose:\n",
        "    print(\"aproximacion = \",aproximacion, \n",
        "          \"\\ncoeficiente del error = \",error)\n",
        "\n",
        "  return (aproximacion, error)\n"
      ],
      "execution_count": null,
      "outputs": []
    },
    {
      "cell_type": "code",
      "metadata": {
        "colab": {
          "base_uri": "https://localhost:8080/",
          "height": 71
        },
        "id": "tbYuwIPce4hQ",
        "outputId": "7275cc2b-c88e-49a4-cc00-33546ec7c33d"
      },
      "source": [
        "trapecio_compuesta(-2,2,5, simplify=True)"
      ],
      "execution_count": null,
      "outputs": [
        {
          "output_type": "stream",
          "text": [
            "aproximacion= 2.0 \n",
            "coeficiente del error= -0.21333333333333337\n"
          ],
          "name": "stdout"
        },
        {
          "output_type": "execute_result",
          "data": {
            "image/png": "[encoded data removed]",
            "text/latex": "$$\\left ( 2.0, \\quad -0.21333333333333337\\right )$$",
            "text/plain": [
              "(2.0, -0.21333333333333337)"
            ]
          },
          "metadata": {
            "tags": []
          },
          "execution_count": 29
        }
      ]
    },
    {
      "cell_type": "code",
      "metadata": {
        "colab": {
          "base_uri": "https://localhost:8080/",
          "height": 71
        },
        "id": "qouiet2ETaa3",
        "outputId": "b18ec4e6-2b3c-4183-f3df-9ec4eeeb4c29"
      },
      "source": [
        "trapecio_compuesta(-2,2,5, simplify=False)"
      ],
      "execution_count": null,
      "outputs": [
        {
          "output_type": "stream",
          "text": [
            "aproximacion= 2.0 \n",
            "coeficiente del error= -0.21333333333333337\n"
          ],
          "name": "stdout"
        },
        {
          "output_type": "execute_result",
          "data": {
            "image/png": "[encoded data removed]",
            "text/latex": "$$\\left ( 2.0, \\quad -0.21333333333333337\\right )$$",
            "text/plain": [
              "(2.0, -0.21333333333333337)"
            ]
          },
          "metadata": {
            "tags": []
          },
          "execution_count": 27
        }
      ]
    },
    {
      "cell_type": "markdown",
      "metadata": {
        "id": "jDgWqcBYLXzR"
      },
      "source": [
        "# Ejemplo 11: fórmula de Simpson compuesta\n",
        "Dada una función $f$, un intervalo de integración $[a,b]$ y un valor $n$ par, calcular la aproximación de $\\int_a^b f(x)\\, dx$ usando la fórmula de Simpson compuesta. Dar el coeficiente de $f^{(4)}(\\xi)$ en el término del error.\n",
        "\n",
        "Aplicarlo al caso $\\int_{0}^3 \\frac{1}{1+\\mathrm{e}^{-5x}}\\, dx$ con $n=6$."
      ]
    },
    {
      "cell_type": "code",
      "metadata": {
        "id": "JOPxRgY_LnAc"
      },
      "source": [
        "def function(x):\n",
        "  return 1/(1+math.exp(-5*x))"
      ],
      "execution_count": null,
      "outputs": []
    },
    {
      "cell_type": "code",
      "metadata": {
        "id": "V8DgXbGL_VIP"
      },
      "source": [
        "def generar_nodos(a,b,n):\n",
        "  nodos=[]\n",
        "  h=(b-a)/n\n",
        "  for i in range(n+1):\n",
        "    nodos.append(a+i*h)\n",
        "  return nodos"
      ],
      "execution_count": null,
      "outputs": []
    },
    {
      "cell_type": "code",
      "metadata": {
        "colab": {
          "base_uri": "https://localhost:8080/",
          "height": 37
        },
        "id": "pyVZB5Vhamdj",
        "outputId": "81063329-7d8e-484f-beff-a8ac570897c2"
      },
      "source": [
        "generar_nodos(0,3, n = 6)"
      ],
      "execution_count": null,
      "outputs": [
        {
          "output_type": "execute_result",
          "data": {
            "image/png": "[encoded data removed]",
            "text/latex": "$\\displaystyle \\left[ 0.0, \\  0.5, \\  1.0, \\  1.5, \\  2.0, \\  2.5, \\  3.0\\right]$",
            "text/plain": [
              "[0.0, 0.5, 1.0, 1.5, 2.0, 2.5, 3.0]"
            ]
          },
          "metadata": {
            "tags": []
          },
          "execution_count": 4
        }
      ]
    },
    {
      "cell_type": "code",
      "metadata": {
        "id": "QvQLeFZp_Wr9"
      },
      "source": [
        "def simpson(a,b,f=function):\n",
        "  h=(b-a)/2\n",
        "  aproximacion=(h/3)*(f(a)+4*f(a+h)+f(b))\n",
        "  return aproximacion"
      ],
      "execution_count": null,
      "outputs": []
    },
    {
      "cell_type": "code",
      "metadata": {
        "id": "02Ho7TPzMchn"
      },
      "source": [
        "def simpson_compuesto(a,b,n,f=function, verbose=True, simplify = True):\n",
        "  \"\"\"\n",
        "  Dada una función f y un intervalo de integración [a,b], calcula el valor\n",
        "  de la integral f en el dominio [a,b] usando la fórmula de Simpson \n",
        "  compuesta para un n natural par.\n",
        "  \n",
        "  \n",
        "  Parámetros:\n",
        "    * a: Extremo izquierdo del intervalo.\n",
        "    * b: Extremo derecho del intervalo\n",
        "    * n: número de subintervalos en el que vamos a dividir el intervalo [a,b]\n",
        "    * f: función de la cual queremos calcular su integral en [a,b]\n",
        "\n",
        "    Valor de retorno: \n",
        "    * aproximacion: valor aproximado de la integral de f en [a,b]\n",
        "    * error: coeficiente que multiplica a la cuarta derivada para la \n",
        "    cota del error de la aproximación\n",
        "  \n",
        "  \"\"\"\n",
        "  aproximacion=0\n",
        "  if simplify: \n",
        "    nodos = generar_nodos(a,b, n)\n",
        "    aproximacion = f(a)\n",
        "    for i in range(1, len(nodos)-1):\n",
        "        if i%2==0:\n",
        "            aproximacion += 2*f(nodos[i])\n",
        "        else:\n",
        "            aproximacion += 4*f(nodos[i])\n",
        "    aproximacion += f(b)\n",
        "    aproximacion *= (b-a)/(3*n)\n",
        "  else:    \n",
        "    nodos=generar_nodos(a,b,n//2)\n",
        "    for i in range(len(nodos)-1):\n",
        "        aproximacion+=simpson(nodos[i],nodos[i+1])\n",
        "\n",
        "  error = -(((b-a)/n)**4)*(b-a)/180\n",
        "  \n",
        "  if verbose:\n",
        "    print(\"aproximacion=\",aproximacion, \n",
        "          \"\\ncoeficiente del error=\",error)\n",
        "    \n",
        "  return (aproximacion, error)"
      ],
      "execution_count": null,
      "outputs": []
    },
    {
      "cell_type": "code",
      "metadata": {
        "colab": {
          "base_uri": "https://localhost:8080/",
          "height": 71
        },
        "id": "upGU1u2CcIAR",
        "outputId": "3985164d-e0bd-4b9e-d909-78d940bdc604"
      },
      "source": [
        "simpson_compuesto(0,3,6, simplify = True)"
      ],
      "execution_count": null,
      "outputs": [
        {
          "output_type": "stream",
          "text": [
            "aproximacion= 2.8634774092203323 \n",
            "coeficiente del error= -0.0010416666666666667\n"
          ],
          "name": "stdout"
        },
        {
          "output_type": "execute_result",
          "data": {
            "image/png": "[encoded data removed]",
            "text/latex": "$$\\left ( 2.8634774092203323, \\quad -0.0010416666666666667\\right )$$",
            "text/plain": [
              "(2.8634774092203323, -0.0010416666666666667)"
            ]
          },
          "metadata": {
            "tags": []
          },
          "execution_count": 16
        }
      ]
    },
    {
      "cell_type": "code",
      "metadata": {
        "colab": {
          "base_uri": "https://localhost:8080/",
          "height": 71
        },
        "id": "AusREaeLcrkb",
        "outputId": "44d4d116-e1de-44ce-c133-44253ef2a498"
      },
      "source": [
        "simpson_compuesto(0,3,6, simplify = False)"
      ],
      "execution_count": null,
      "outputs": [
        {
          "output_type": "stream",
          "text": [
            "aproximacion= 2.8634774092203323 \n",
            "coeficiente del error= -0.0010416666666666667\n"
          ],
          "name": "stdout"
        },
        {
          "output_type": "execute_result",
          "data": {
            "image/png": "[encoded data removed]",
            "text/latex": "$$\\left ( 2.8634774092203323, \\quad -0.0010416666666666667\\right )$$",
            "text/plain": [
              "(2.8634774092203323, -0.0010416666666666667)"
            ]
          },
          "metadata": {
            "tags": []
          },
          "execution_count": 17
        }
      ]
    },
    {
      "cell_type": "markdown",
      "metadata": {
        "id": "7Tekg8kcLnbf"
      },
      "source": [
        "# Ejemplo 12: integración de Romberg\n",
        "Dada una función $f$, aproximar $\\int_a^b f(x)\\,dx$ usando integración de Romberg considerando un paso inicial $h_0$ y el método de los trapecios compuesto como aproximación inicial. Se tiene que dar también como entrada el valor $n$ del orden de aproximación de la integral aproximada $O(h^{2n})$.\n",
        "\n",
        "Aplicarlo al caso $\\int_{0}^3 \\frac{1}{1+\\mathrm{e}^{-5x}}\\, dx$ con $h_0=0.1$ y $n=4$."
      ]
    },
    {
      "cell_type": "code",
      "metadata": {
        "id": "aX2uUdiiCD-X"
      },
      "source": [
        "def function(x):\n",
        "  return 1/(1+math.exp(-5*x))"
      ],
      "execution_count": null,
      "outputs": []
    },
    {
      "cell_type": "code",
      "metadata": {
        "id": "SnSEu-qoCFNu"
      },
      "source": [
        "def generar_nodos(a,b,n):\n",
        "  nodos=[]\n",
        "  h=(b-a)/n\n",
        "  for i in range(n+1):\n",
        "    nodos.append(a+i*h)\n",
        "  return nodos"
      ],
      "execution_count": null,
      "outputs": []
    },
    {
      "cell_type": "code",
      "metadata": {
        "id": "kZaLVNDnCJci"
      },
      "source": [
        "def trapecio(a,b,f=function):\n",
        "  h=b-a\n",
        "  aproximacion=(h/2)*(f(a)+f(b))\n",
        "  return aproximacion"
      ],
      "execution_count": null,
      "outputs": []
    },
    {
      "cell_type": "code",
      "metadata": {
        "id": "J1YDQRmPM7pc"
      },
      "source": [
        "def trapecio_compuesto(a,b,n,f=function):\n",
        "  aproximacion=0\n",
        "  nodos=generar_nodos(a,b,n)\n",
        "  h = (b-a)/n\n",
        "  aproximacion += f(a)\n",
        "  for i in range(1, len(nodos)-1):\n",
        "    aproximacion += 2*f(nodos[i])\n",
        "  aproximacion += f(b)\n",
        "  aproximacion *= h/2\n",
        "  return aproximacion"
      ],
      "execution_count": null,
      "outputs": []
    },
    {
      "cell_type": "code",
      "metadata": {
        "id": "GVeTHzWVedCb"
      },
      "source": [
        "def Romberg(a, b, n0, n):\n",
        "   \"\"\"\n",
        "   Dada una función f y un intervalo de integración [a,b], calcula el valor\n",
        "   de la integral f en el dominio [a,b] usando la fórmula de integración de \n",
        "   Romberg con h_0=(b-a)/n con error del orden de h^(2(n+1))\n",
        "  \n",
        "   Parámetros:\n",
        "    * a: Extremo izquierdo del intervalo.\n",
        "    * b: Extremo derecho del intervalo.\n",
        "    * n0: Número de partes en el que vamos a dividir el intervalo [a,b].\n",
        "    * f: Función que queremos calcular su integral en [a,b].\n",
        "    * n: Orden del error dividido por dos h^(2(n+1)).\n",
        "\n",
        "    Valor de retorno: \n",
        "    * aproximacion: valor aproximado de la integral de f en [a,b].\n",
        "  \n",
        "   \"\"\"\n",
        "   if n==0:\n",
        "     aproximacion=trapecio_compuesto(a,b,n0)\n",
        "     return aproximacion\n",
        "   else:\n",
        "     return ((4**n)*Romberg(a,b,2*n0, n-1)-Romberg(a,b,n0, n-1))/((4**n)-1)"
      ],
      "execution_count": null,
      "outputs": []
    },
    {
      "cell_type": "code",
      "metadata": {
        "colab": {
          "base_uri": "https://localhost:8080/",
          "height": 37
        },
        "id": "2ocHCKEoPOjH",
        "outputId": "7e6305af-72c7-4ea7-afc2-08ffc9874f62"
      },
      "source": [
        "Romberg(0, 3, 30, 0)"
      ],
      "execution_count": null,
      "outputs": [
        {
          "output_type": "execute_result",
          "data": {
            "image/png": "[encoded data removed]",
            "text/latex": "$$2.8603267629769054$$",
            "text/plain": [
              "2.8603267629769054"
            ]
          },
          "metadata": {
            "tags": []
          },
          "execution_count": 9
        }
      ]
    },
    {
      "cell_type": "code",
      "metadata": {
        "colab": {
          "base_uri": "https://localhost:8080/",
          "height": 37
        },
        "id": "3K-ZseCgku7Y",
        "outputId": "cd95e807-d661-4eea-d27a-3b96ebc8593d"
      },
      "source": [
        "Romberg(0, 3, 30, 1)"
      ],
      "execution_count": null,
      "outputs": [
        {
          "output_type": "execute_result",
          "data": {
            "image/png": "[encoded data removed]",
            "text/latex": "$$2.861371175914434$$",
            "text/plain": [
              "2.861371175914434"
            ]
          },
          "metadata": {
            "tags": []
          },
          "execution_count": 25
        }
      ]
    },
    {
      "cell_type": "code",
      "metadata": {
        "colab": {
          "base_uri": "https://localhost:8080/",
          "height": 37
        },
        "id": "y_kiG-upPUZd",
        "outputId": "7d91c6e5-6a41-4200-921b-676f6ff8f82b"
      },
      "source": [
        "Romberg(0, 3, 30, 2)"
      ],
      "execution_count": null,
      "outputs": [
        {
          "output_type": "execute_result",
          "data": {
            "image/png": "[encoded data removed]",
            "text/latex": "$$2.861370624649978$$",
            "text/plain": [
              "2.861370624649978"
            ]
          },
          "metadata": {
            "tags": []
          },
          "execution_count": 26
        }
      ]
    },
    {
      "cell_type": "code",
      "metadata": {
        "id": "HzHqQzO7PZob",
        "colab": {
          "base_uri": "https://localhost:8080/",
          "height": 37
        },
        "outputId": "d7c72c9b-18fb-40ff-b3c6-d5e2b981d0ae"
      },
      "source": [
        "Romberg(0, 3, 30, 3)"
      ],
      "execution_count": null,
      "outputs": [
        {
          "output_type": "execute_result",
          "data": {
            "image/png": "[encoded data removed]",
            "text/latex": "$$2.8613706250686457$$",
            "text/plain": [
              "2.8613706250686457"
            ]
          },
          "metadata": {
            "tags": []
          },
          "execution_count": 27
        }
      ]
    },
    {
      "cell_type": "markdown",
      "metadata": {
        "id": "12CrIoU0NJTF"
      },
      "source": [
        "# Ejemplo 13: integración gausiana en el intervalo $[-1,1]$\n",
        "Dada una función $f$ definida en el intervalo $[-1,1]$ aproximar $\\int_{-1}^1 f(x)\\,dx$ usando integración gausiana para $n=2,3,4,5,6$ \n",
        "\n",
        "Aplicarlo al caso $\\int_{-1}^1 \\cos\\left(\\frac{\\pi x}{2}+1\\right)\\, dx$."
      ]
    },
    {
      "cell_type": "code",
      "metadata": {
        "id": "_U788fbvNyWM"
      },
      "source": [
        "def function(x):\n",
        "  return math.cos(1+(math.pi/2)*x)"
      ],
      "execution_count": null,
      "outputs": []
    },
    {
      "cell_type": "code",
      "metadata": {
        "id": "9R8MUCWkc4le"
      },
      "source": [
        "def int_gauss(n,f=function):\n",
        "  \"\"\"\n",
        "   Dada una función f y n número de nodos, devuelve el valor aproximado de la \n",
        "   integral de f en el intervalo [-1,1] usando integración gaussiana\n",
        "  \n",
        "  \n",
        "   Parámetros:\n",
        "    * n: Número de nodos en el intervalo [-1,1]\n",
        "    * f: Función que queremos calcular su integral en [-1,1]\n",
        "    \n",
        "    Valor de retorno: \n",
        "    * aproximacion: valor aproximado de la integral de f en [-1,1]\n",
        "  \n",
        "  \"\"\"\n",
        "  if n==2:\n",
        "    aproximacion=f(-0.5773502692)+f(0.5773502692)\n",
        "    return aproximacion\n",
        "  if n==3:\n",
        "    aproximacion=0.5555555556*f(-0.7745966692)+0.8888888889*f(0)+0.5555555556*f(0.7745966692)\n",
        "    return aproximacion\n",
        "  if n==4:\n",
        "    aproximacion=0.3478548451*f(-0.8611363116)+0.6521451549*f(-0.3399810436)+0.6521451549*f(0.3399810436)+0.3478548451*f(0.8611363116)\n",
        "    return aproximacion\n",
        "  if n==5:\n",
        "    aproximacion=0.2369268851*f(-0.9061798459)+0.4786286705*f(-0.5384693101)+0.5688888889*f(0)+0.4786286705*f(0.5384693101)+0.2369268851*f(0.9061798459)\n",
        "    return aproximacion \n",
        "  if n==6:\n",
        "    aproximacion=0.1713244924*f(-0.9324695142)+0.3607615730*f(-0.6612093865)+0.4679139346*f(-0.2386191861)+0.4679139346*f(0.2386191861)+0.3607615730*f(0.6612093865)+0.1713244924*f(0.9324695142)\n",
        "    return aproximacion \n",
        "  return \"Método no implementado para el valor de n = {}. \".format(n)"
      ],
      "execution_count": null,
      "outputs": []
    },
    {
      "cell_type": "code",
      "metadata": {
        "colab": {
          "base_uri": "https://localhost:8080/",
          "height": 37
        },
        "id": "87ZJMlKbrHdU",
        "outputId": "87fbd2ac-7f4f-41cf-ecbf-294f14a85f49"
      },
      "source": [
        "int_gauss(2)"
      ],
      "execution_count": null,
      "outputs": [
        {
          "output_type": "execute_result",
          "data": {
            "image/png": "[encoded data removed]",
            "text/latex": "$$0.665858305157264$$",
            "text/plain": [
              "0.665858305157264"
            ]
          },
          "metadata": {
            "tags": []
          },
          "execution_count": 30
        }
      ]
    },
    {
      "cell_type": "code",
      "metadata": {
        "colab": {
          "base_uri": "https://localhost:8080/",
          "height": 37
        },
        "id": "UerNlUG4rI_L",
        "outputId": "3a9385ae-163a-4f64-852f-410352751e3b"
      },
      "source": [
        "int_gauss(3)"
      ],
      "execution_count": null,
      "outputs": [
        {
          "output_type": "execute_result",
          "data": {
            "image/png": "[encoded data removed]",
            "text/latex": "$$0.688412002631079$$",
            "text/plain": [
              "0.688412002631079"
            ]
          },
          "metadata": {
            "tags": []
          },
          "execution_count": 31
        }
      ]
    },
    {
      "cell_type": "code",
      "metadata": {
        "colab": {
          "base_uri": "https://localhost:8080/",
          "height": 37
        },
        "id": "vnlpSXode7YL",
        "outputId": "df17c427-5803-471d-90a6-8f3089407249"
      },
      "source": [
        "int_gauss(4)"
      ],
      "execution_count": null,
      "outputs": [
        {
          "output_type": "execute_result",
          "data": {
            "image/png": "[encoded data removed]",
            "text/latex": "$$0.6879288370648778$$",
            "text/plain": [
              "0.6879288370648778"
            ]
          },
          "metadata": {
            "tags": []
          },
          "execution_count": 32
        }
      ]
    },
    {
      "cell_type": "code",
      "metadata": {
        "id": "EJxZiNaMiBDP",
        "colab": {
          "base_uri": "https://localhost:8080/",
          "height": 37
        },
        "outputId": "cfefac96-426a-441b-dc76-b8f023b01aa9"
      },
      "source": [
        "int_gauss(5)"
      ],
      "execution_count": null,
      "outputs": [
        {
          "output_type": "execute_result",
          "data": {
            "image/png": "[encoded data removed]",
            "text/latex": "$$0.687934299909388$$",
            "text/plain": [
              "0.687934299909388"
            ]
          },
          "metadata": {
            "tags": []
          },
          "execution_count": 33
        }
      ]
    },
    {
      "cell_type": "markdown",
      "metadata": {
        "id": "tKjQeqmSN1Ki"
      },
      "source": [
        "# Ejemplo 14: integración gausiana en el intervalo $[a,b]$\n",
        "Dada una función $f$ definida en el intervalo $[a,b]$ aproximar $\\int_{a}^b f(x)\\,dx$ usando integración gausiana para $n=2,3,4,5,6$ \n",
        "\n",
        "Aplicarlo al caso $\\int_{0}^3 \\frac{1}{1+\\mathrm{e}^{-5x}}\\, dx$."
      ]
    },
    {
      "cell_type": "code",
      "metadata": {
        "id": "6Rpj7kvq9ARz"
      },
      "source": [
        "def function(x = sp.symbols('x')):\n",
        "  return sp.exp(x)*sp.sin(3*x)"
      ],
      "execution_count": null,
      "outputs": []
    },
    {
      "cell_type": "code",
      "metadata": {
        "colab": {
          "base_uri": "https://localhost:8080/",
          "height": 39
        },
        "id": "Xq6fyrNrkj4H",
        "outputId": "48bec766-2643-4974-ffe3-3cd7eb7ace0b"
      },
      "source": [
        "function()"
      ],
      "execution_count": null,
      "outputs": [
        {
          "output_type": "execute_result",
          "data": {
            "image/png": "[encoded data removed]",
            "text/latex": "$$\\frac{1}{1 + e^{- 5 x}}$$",
            "text/plain": [
              "    1    \n",
              "─────────\n",
              "     -5⋅x\n",
              "1 + ℯ    "
            ]
          },
          "metadata": {
            "tags": []
          },
          "execution_count": 35
        }
      ]
    },
    {
      "cell_type": "code",
      "metadata": {
        "id": "fBv3RFB0OAYx"
      },
      "source": [
        "def int_gauss_general(a,b,n,f=function):\n",
        "  \"\"\"\n",
        "  Dada una función f ,un intervalo de integración [a,b] y un número de nodos n,\n",
        "  calcula el valor de la integral f en el dominio [a,b] usando integración \n",
        "  gaussiana.\n",
        "  \n",
        "  \n",
        "  \n",
        "  Parámetros:\n",
        "    * a: Extremo izquierdo del intervalo.\n",
        "    * b: Extremo derecho del intervalo.\n",
        "    * n: número de nodos en el intervalo [a,b]\n",
        "    * f: función que queremos calcular su integral en [a,b]\n",
        "\n",
        "    Valor de retorno: \n",
        "    * aproximacion: valor aproximado de la integral de f en [a,b]\n",
        "    \n",
        "  \n",
        "  \"\"\"\n",
        "  def transformation(x = sp.symbols(\"x\")):\n",
        "    return f((b-a)/2*x+(a+b)/2)\n",
        "\n",
        "  return ((b-a)/2)*int_gauss(n, transformation)\n"
      ],
      "execution_count": null,
      "outputs": []
    },
    {
      "cell_type": "code",
      "metadata": {
        "colab": {
          "base_uri": "https://localhost:8080/",
          "height": 37
        },
        "id": "QB0NikuJVcs-",
        "outputId": "b7921a29-484f-4f4f-f129-ce4aa95189e4"
      },
      "source": [
        "int_gauss_general(0,math.pi/2,3)"
      ],
      "execution_count": null,
      "outputs": [
        {
          "output_type": "execute_result",
          "data": {
            "image/png": "[encoded data removed]",
            "text/latex": "$\\displaystyle -0.169688646255819$",
            "text/plain": [
              "-0.169688646255819"
            ]
          },
          "metadata": {
            "tags": []
          },
          "execution_count": 12
        }
      ]
    },
    {
      "cell_type": "code",
      "metadata": {
        "colab": {
          "base_uri": "https://localhost:8080/",
          "height": 37
        },
        "id": "KeYQ70HNrw8X",
        "outputId": "6f1863b2-8da1-4120-df09-5f1ddad42cda"
      },
      "source": [
        " int_gauss_general(0,3,3)"
      ],
      "execution_count": null,
      "outputs": [
        {
          "output_type": "execute_result",
          "data": {
            "image/png": "[encoded data removed]",
            "text/latex": "$$2.8695059026316$$",
            "text/plain": [
              "2.86950590263160"
            ]
          },
          "metadata": {
            "tags": []
          },
          "execution_count": 38
        }
      ]
    },
    {
      "cell_type": "code",
      "metadata": {
        "colab": {
          "base_uri": "https://localhost:8080/",
          "height": 37
        },
        "id": "m2RE3h_bbsdJ",
        "outputId": "26b2d026-0311-41be-fc90-0b790a34497f"
      },
      "source": [
        "int_gauss_general(0,3,4)"
      ],
      "execution_count": null,
      "outputs": [
        {
          "output_type": "execute_result",
          "data": {
            "image/png": "[encoded data removed]",
            "text/latex": "$$2.85696317005435$$",
            "text/plain": [
              "2.85696317005435"
            ]
          },
          "metadata": {
            "tags": []
          },
          "execution_count": 39
        }
      ]
    },
    {
      "cell_type": "code",
      "metadata": {
        "id": "nqnmwy0Zbu2P",
        "colab": {
          "base_uri": "https://localhost:8080/",
          "height": 37
        },
        "outputId": "fad3855a-a975-420d-e3db-38f0a3b6753f"
      },
      "source": [
        "int_gauss_general(0,3,5)"
      ],
      "execution_count": null,
      "outputs": [
        {
          "output_type": "execute_result",
          "data": {
            "image/png": "[encoded data removed]",
            "text/latex": "$$2.86003992653297$$",
            "text/plain": [
              "2.86003992653297"
            ]
          },
          "metadata": {
            "tags": []
          },
          "execution_count": 40
        }
      ]
    },
    {
      "cell_type": "code",
      "metadata": {
        "colab": {
          "base_uri": "https://localhost:8080/",
          "height": 37
        },
        "id": "Xbyt2SPPlSdh",
        "outputId": "7e09a57f-1aef-495d-be5a-3309f88dc184"
      },
      "source": [
        "int_gauss_general(0,3,6)"
      ],
      "execution_count": null,
      "outputs": [
        {
          "output_type": "execute_result",
          "data": {
            "image/png": "[encoded data removed]",
            "text/latex": "$$2.86146030640437$$",
            "text/plain": [
              "2.86146030640437"
            ]
          },
          "metadata": {
            "tags": []
          },
          "execution_count": 41
        }
      ]
    }
  ]
}