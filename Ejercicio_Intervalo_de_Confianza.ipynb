{
  "nbformat": 4,
  "nbformat_minor": 0,
  "metadata": {
    "colab": {
      "name": "Ejercicio_Intervalo_de_Confianza.ipynb",
      "provenance": [],
      "authorship_tag": "ABX9TyPADc7mNGJDjYSglmmsYR75",
      "include_colab_link": true
    },
    "kernelspec": {
      "name": "python3",
      "display_name": "Python 3"
    },
    "language_info": {
      "name": "python"
    }
  },
  "cells": [
    {
      "cell_type": "markdown",
      "metadata": {
        "id": "view-in-github",
        "colab_type": "text"
      },
      "source": [
        "<a href=\"https://colab.research.google.com/github/sergioarnold87/Practica_Sergio/blob/main/Ejercicio_Intervalo_de_Confianza.ipynb\" target=\"_parent\"><img src=\"https://colab.research.google.com/assets/colab-badge.svg\" alt=\"Open In Colab\"/></a>"
      ]
    },
    {
      "cell_type": "markdown",
      "metadata": {
        "id": "9P5Q_6SbeuQ1"
      },
      "source": [
        "# * Estimación puntual"
      ]
    },
    {
      "cell_type": "code",
      "metadata": {
        "id": "jzk5dDtgeqQ3"
      },
      "source": [
        "import numpy as np\n",
        "import pandas as pd\n",
        "import scipy.stats as stats\n",
        "import matplotlib.pyplot as plt\n",
        "import math\n",
        "import random"
      ],
      "execution_count": 1,
      "outputs": []
    },
    {
      "cell_type": "code",
      "metadata": {
        "colab": {
          "base_uri": "https://localhost:8080/"
        },
        "id": "dtnTiYS7fCXq",
        "outputId": "ac5e0ac6-5f63-4499-afe2-554c977d7c1c"
      },
      "source": [
        "np.random.seed(2020)\n",
        "population_ages1 = stats.poisson.rvs(loc = 18, mu = 35, size = 1500000)\n",
        "population_ages2 = stats.poisson.rvs(loc = 18, mu = 10, size = 1000000)\n",
        "population_ages = np.concatenate((population_ages1, population_ages2))\n",
        "\n",
        "print(population_ages1.mean())\n",
        "print(population_ages2.mean())\n",
        "print(population_ages.mean())"
      ],
      "execution_count": 2,
      "outputs": [
        {
          "output_type": "stream",
          "text": [
            "52.998824666666664\n",
            "27.999569\n",
            "42.9991224\n"
          ],
          "name": "stdout"
        }
      ]
    },
    {
      "cell_type": "code",
      "metadata": {
        "colab": {
          "base_uri": "https://localhost:8080/",
          "height": 641
        },
        "id": "jgX8ny8EgJ1a",
        "outputId": "6762af74-4903-4402-a781-9e2f9025ede7"
      },
      "source": [
        "pd.DataFrame(population_ages).hist(bins = 60, range = (17.5, 77.5), figsize = (10,10))"
      ],
      "execution_count": 5,
      "outputs": [
        {
          "output_type": "execute_result",
          "data": {
            "text/plain": [
              "array([[<matplotlib.axes._subplots.AxesSubplot object at 0x7fcfc2f46710>]],\n",
              "      dtype=object)"
            ]
          },
          "metadata": {
            "tags": []
          },
          "execution_count": 5
        },
        {
          "output_type": "display_data",
          "data": {
            "image/png": "[encoded data removed]",
            "text/plain": [
              "<Figure size 720x720 with 1 Axes>"
            ]
          },
          "metadata": {
            "tags": [],
            "needs_background": "light"
          }
        }
      ]
    },
    {
      "cell_type": "code",
      "metadata": {
        "colab": {
          "base_uri": "https://localhost:8080/"
        },
        "id": "0zQsbKaSgaDp",
        "outputId": "2cf42f37-1baa-4c5f-91ed-68604c03bccc"
      },
      "source": [
        "stats.skew(population_ages)"
      ],
      "execution_count": 6,
      "outputs": [
        {
          "output_type": "execute_result",
          "data": {
            "text/plain": [
              "-0.11907136129560125"
            ]
          },
          "metadata": {
            "tags": []
          },
          "execution_count": 6
        }
      ]
    },
    {
      "cell_type": "code",
      "metadata": {
        "colab": {
          "base_uri": "https://localhost:8080/"
        },
        "id": "EgMbaIlKhMQQ",
        "outputId": "5c1cb118-997e-4018-f6a2-7320f4f8bf62"
      },
      "source": [
        "stats.kurtosis(population_ages)"
      ],
      "execution_count": 7,
      "outputs": [
        {
          "output_type": "execute_result",
          "data": {
            "text/plain": [
              "-1.4593749125303193"
            ]
          },
          "metadata": {
            "tags": []
          },
          "execution_count": 7
        }
      ]
    },
    {
      "cell_type": "code",
      "metadata": {
        "colab": {
          "base_uri": "https://localhost:8080/"
        },
        "id": "-P4WRXNvjOMT",
        "outputId": "dcc37423-01f6-4ff8-e397-33084d4bd8f1"
      },
      "source": [
        "np.random.seed(42)\n",
        "sample_ages = np.random.choice(population_ages, 500)\n",
        "print(sample_ages)"
      ],
      "execution_count": 8,
      "outputs": [
        {
          "output_type": "stream",
          "text": [
            "[35 27 27 26 45 47 29 27 29 55 31 45 54 23 45 45 60 27 47 25 46 55 49 30\n",
            " 49 56 59 48 52 27 27 26 58 49 52 35 50 66 57 26 31 30 25 60 49 24 51 51\n",
            " 31 55 55 44 28 59 25 31 30 53 27 31 48 46 44 23 26 55 51 57 23 54 57 36\n",
            " 54 43 54 63 48 31 55 23 31 55 46 49 25 29 24 29 30 23 57 32 26 52 33 28\n",
            " 44 26 54 56 51 26 44 31 59 22 30 60 22 51 25 51 55 55 29 55 27 57 28 54\n",
            " 33 33 54 60 50 48 46 69 46 23 56 27 54 39 50 31 62 25 30 50 28 30 55 55\n",
            " 45 30 30 61 25 27 55 25 55 51 58 28 29 30 57 25 50 54 41 26 33 62 27 56\n",
            " 53 30 56 60 30 58 45 54 53 49 54 58 30 48 64 28 50 30 55 61 45 29 50 27\n",
            " 24 26 52 33 46 28 24 50 48 32 31 22 60 24 43 32 52 25 27 48 32 47 61 45\n",
            " 55 49 50 56 28 31 26 53 50 51 25 50 30 53 53 58 23 50 61 53 53 31 26 54\n",
            " 26 25 47 24 52 33 50 52 51 26 45 41 59 29 59 26 59 53 46 27 59 49 54 50\n",
            " 34 60 58 21 42 55 50 52 28 34 27 51 29 30 30 51 30 29 25 27 25 52 27 24\n",
            " 39 50 28 27 31 60 48 45 54 28 56 49 24 50 26 54 59 30 27 26 28 57 50 27\n",
            " 51 48 31 64 50 30 55 29 25 47 34 47 64 55 52 30 54 48 51 28 64 24 36 25\n",
            " 58 23 50 48 57 39 48 52 28 29 51 53 45 46 46 54 45 26 63 26 27 50 54 26\n",
            " 42 26 48 44 62 52 49 25 58 50 52 31 43 33 53 58 26 59 27 21 59 45 54 27\n",
            " 26 55 46 44 51 24 59 45 35 29 28 25 54 69 47 59 57 22 54 25 27 30 32 52\n",
            " 27 57 32 59 28 52 50 51 30 49 53 54 68 58 32 30 50 24 56 49 59 51 28 29\n",
            " 57 30 60 57 57 34 45 49 52 58 30 33 50 43 48 62 26 28 50 48 45 30 26 61\n",
            " 44 27 51 53 48 54 51 48 32 66 58 27 59 52 55 53 50 47 61 53 24 29 59 50\n",
            " 26 25 57 30 57 24 31 25 52 29 50 42 47 45 48 54 24 37 25 53]\n"
          ],
          "name": "stdout"
        }
      ]
    },
    {
      "cell_type": "code",
      "metadata": {
        "colab": {
          "base_uri": "https://localhost:8080/"
        },
        "id": "qA1fQEra2bzq",
        "outputId": "cdb8e747-ef48-4711-b289-b5da83b6ebc9"
      },
      "source": [
        "population_ages.mean() - sample_ages.mean()"
      ],
      "execution_count": 9,
      "outputs": [
        {
          "output_type": "execute_result",
          "data": {
            "text/plain": [
              "0.6431223999999958"
            ]
          },
          "metadata": {
            "tags": []
          },
          "execution_count": 9
        }
      ]
    },
    {
      "cell_type": "code",
      "metadata": {
        "id": "RCVuxeBp2oUH"
      },
      "source": [
        "population_races = ([\"blanca\"]*1000000) + ([\"negra\"]*500000) + ([\"hispana\"]*500000) + ([\"asiatica\"]*250000) + ([\"otros\"]*250000)"
      ],
      "execution_count": 10,
      "outputs": []
    },
    {
      "cell_type": "code",
      "metadata": {
        "colab": {
          "base_uri": "https://localhost:8080/"
        },
        "id": "mwn_BzDn3RB9",
        "outputId": "598dbc53-9bcb-4d48-f7a0-af5f5d9cb157"
      },
      "source": [
        "for race in set(population_races):\n",
        "  print(\"Proporcion de \"+race)\n",
        "  print(population_races.count(race) / 2500000)"
      ],
      "execution_count": 11,
      "outputs": [
        {
          "output_type": "stream",
          "text": [
            "Proporcion de asiatica\n",
            "0.1\n",
            "Proporcion de blanca\n",
            "0.4\n",
            "Proporcion de hispana\n",
            "0.2\n",
            "Proporcion de otros\n",
            "0.1\n",
            "Proporcion de negra\n",
            "0.2\n"
          ],
          "name": "stdout"
        }
      ]
    },
    {
      "cell_type": "code",
      "metadata": {
        "id": "90TzPBF43kUk"
      },
      "source": [
        ""
      ],
      "execution_count": null,
      "outputs": []
    }
  ]
}