{
  "nbformat": 4,
  "nbformat_minor": 0,
  "metadata": {
    "colab": {
      "name": "Ejercicio_Intervalo_de_Confianza.ipynb",
      "provenance": [],
      "toc_visible": true,
      "authorship_tag": "ABX9TyN/k3ulNfsq1Pgn1T2lY8oZ",
      "include_colab_link": true
    },
    "kernelspec": {
      "name": "python3",
      "display_name": "Python 3"
    },
    "language_info": {
      "name": "python"
    }
  },
  "cells": [
    {
      "cell_type": "markdown",
      "metadata": {
        "id": "view-in-github",
        "colab_type": "text"
      },
      "source": [
        "<a href=\"https://colab.research.google.com/github/sergioarnold87/Practica_Sergio/blob/main/Ejercicio_Intervalo_de_Confianza.ipynb\" target=\"_parent\"><img src=\"https://colab.research.google.com/assets/colab-badge.svg\" alt=\"Open In Colab\"/></a>"
      ]
    },
    {
      "cell_type": "markdown",
      "metadata": {
        "id": "9P5Q_6SbeuQ1"
      },
      "source": [
        "# * Estimación puntual"
      ]
    },
    {
      "cell_type": "code",
      "metadata": {
        "id": "jzk5dDtgeqQ3"
      },
      "source": [
        "import numpy as np\n",
        "import pandas as pd\n",
        "import scipy.stats as stats\n",
        "import matplotlib.pyplot as plt\n",
        "import math\n",
        "import random"
      ],
      "execution_count": 21,
      "outputs": []
    },
    {
      "cell_type": "code",
      "metadata": {
        "colab": {
          "base_uri": "https://localhost:8080/"
        },
        "id": "dtnTiYS7fCXq",
        "outputId": "52120c68-fcf2-4f7e-f934-8f7821af0cff"
      },
      "source": [
        "np.random.seed(2020)\n",
        "population_ages1 = stats.poisson.rvs(loc = 18, mu = 35, size = 1500000)\n",
        "population_ages2 = stats.poisson.rvs(loc = 18, mu = 10, size = 1000000)\n",
        "population_ages = np.concatenate((population_ages1, population_ages2))\n",
        "\n",
        "print(population_ages1.mean())\n",
        "print(population_ages2.mean())\n",
        "print(population_ages.mean())"
      ],
      "execution_count": 22,
      "outputs": [
        {
          "output_type": "stream",
          "text": [
            "52.998824666666664\n",
            "27.999569\n",
            "42.9991224\n"
          ],
          "name": "stdout"
        }
      ]
    },
    {
      "cell_type": "code",
      "metadata": {
        "colab": {
          "base_uri": "https://localhost:8080/",
          "height": 641
        },
        "id": "jgX8ny8EgJ1a",
        "outputId": "eb613d75-5863-46e9-8c95-04ff0625df51"
      },
      "source": [
        "pd.DataFrame(population_ages).hist(bins = 60, range = (17.5, 77.5), figsize = (10,10))"
      ],
      "execution_count": 23,
      "outputs": [
        {
          "output_type": "execute_result",
          "data": {
            "text/plain": [
              "array([[<matplotlib.axes._subplots.AxesSubplot object at 0x7fcfc04fb690>]],\n",
              "      dtype=object)"
            ]
          },
          "metadata": {
            "tags": []
          },
          "execution_count": 23
        },
        {
          "output_type": "display_data",
          "data": {
            "image/png": "[encoded data removed]",
            "text/plain": [
              "<Figure size 720x720 with 1 Axes>"
            ]
          },
          "metadata": {
            "tags": [],
            "needs_background": "light"
          }
        }
      ]
    },
    {
      "cell_type": "code",
      "metadata": {
        "colab": {
          "base_uri": "https://localhost:8080/"
        },
        "id": "0zQsbKaSgaDp",
        "outputId": "f5e6e872-98f6-469f-88dd-721335314c73"
      },
      "source": [
        "stats.skew(population_ages)"
      ],
      "execution_count": 24,
      "outputs": [
        {
          "output_type": "execute_result",
          "data": {
            "text/plain": [
              "-0.11907136129560125"
            ]
          },
          "metadata": {
            "tags": []
          },
          "execution_count": 24
        }
      ]
    },
    {
      "cell_type": "code",
      "metadata": {
        "colab": {
          "base_uri": "https://localhost:8080/"
        },
        "id": "EgMbaIlKhMQQ",
        "outputId": "bfc4d354-fd03-4c1c-b2c9-f1d223c1b03c"
      },
      "source": [
        "stats.kurtosis(population_ages)"
      ],
      "execution_count": 25,
      "outputs": [
        {
          "output_type": "execute_result",
          "data": {
            "text/plain": [
              "-1.4593749125303193"
            ]
          },
          "metadata": {
            "tags": []
          },
          "execution_count": 25
        }
      ]
    },
    {
      "cell_type": "code",
      "metadata": {
        "colab": {
          "base_uri": "https://localhost:8080/"
        },
        "id": "-P4WRXNvjOMT",
        "outputId": "15412585-9176-43b8-dad4-d47b4c75340b"
      },
      "source": [
        "np.random.seed(42)\n",
        "sample_ages = np.random.choice(population_ages, 500)\n",
        "print(sample_ages)"
      ],
      "execution_count": 26,
      "outputs": [
        {
          "output_type": "stream",
          "text": [
            "[35 27 27 26 45 47 29 27 29 55 31 45 54 23 45 45 60 27 47 25 46 55 49 30\n",
            " 49 56 59 48 52 27 27 26 58 49 52 35 50 66 57 26 31 30 25 60 49 24 51 51\n",
            " 31 55 55 44 28 59 25 31 30 53 27 31 48 46 44 23 26 55 51 57 23 54 57 36\n",
            " 54 43 54 63 48 31 55 23 31 55 46 49 25 29 24 29 30 23 57 32 26 52 33 28\n",
            " 44 26 54 56 51 26 44 31 59 22 30 60 22 51 25 51 55 55 29 55 27 57 28 54\n",
            " 33 33 54 60 50 48 46 69 46 23 56 27 54 39 50 31 62 25 30 50 28 30 55 55\n",
            " 45 30 30 61 25 27 55 25 55 51 58 28 29 30 57 25 50 54 41 26 33 62 27 56\n",
            " 53 30 56 60 30 58 45 54 53 49 54 58 30 48 64 28 50 30 55 61 45 29 50 27\n",
            " 24 26 52 33 46 28 24 50 48 32 31 22 60 24 43 32 52 25 27 48 32 47 61 45\n",
            " 55 49 50 56 28 31 26 53 50 51 25 50 30 53 53 58 23 50 61 53 53 31 26 54\n",
            " 26 25 47 24 52 33 50 52 51 26 45 41 59 29 59 26 59 53 46 27 59 49 54 50\n",
            " 34 60 58 21 42 55 50 52 28 34 27 51 29 30 30 51 30 29 25 27 25 52 27 24\n",
            " 39 50 28 27 31 60 48 45 54 28 56 49 24 50 26 54 59 30 27 26 28 57 50 27\n",
            " 51 48 31 64 50 30 55 29 25 47 34 47 64 55 52 30 54 48 51 28 64 24 36 25\n",
            " 58 23 50 48 57 39 48 52 28 29 51 53 45 46 46 54 45 26 63 26 27 50 54 26\n",
            " 42 26 48 44 62 52 49 25 58 50 52 31 43 33 53 58 26 59 27 21 59 45 54 27\n",
            " 26 55 46 44 51 24 59 45 35 29 28 25 54 69 47 59 57 22 54 25 27 30 32 52\n",
            " 27 57 32 59 28 52 50 51 30 49 53 54 68 58 32 30 50 24 56 49 59 51 28 29\n",
            " 57 30 60 57 57 34 45 49 52 58 30 33 50 43 48 62 26 28 50 48 45 30 26 61\n",
            " 44 27 51 53 48 54 51 48 32 66 58 27 59 52 55 53 50 47 61 53 24 29 59 50\n",
            " 26 25 57 30 57 24 31 25 52 29 50 42 47 45 48 54 24 37 25 53]\n"
          ],
          "name": "stdout"
        }
      ]
    },
    {
      "cell_type": "code",
      "metadata": {
        "colab": {
          "base_uri": "https://localhost:8080/"
        },
        "id": "qA1fQEra2bzq",
        "outputId": "9488365c-e150-4593-d418-05d65706c597"
      },
      "source": [
        "population_ages.mean() - sample_ages.mean()"
      ],
      "execution_count": 27,
      "outputs": [
        {
          "output_type": "execute_result",
          "data": {
            "text/plain": [
              "0.6431223999999958"
            ]
          },
          "metadata": {
            "tags": []
          },
          "execution_count": 27
        }
      ]
    },
    {
      "cell_type": "code",
      "metadata": {
        "id": "RCVuxeBp2oUH"
      },
      "source": [
        "population_races = ([\"blanca\"]*1000000) + ([\"negra\"]*500000) + ([\"hispana\"]*500000) + ([\"asiatica\"]*250000) + ([\"otros\"]*250000)"
      ],
      "execution_count": 28,
      "outputs": []
    },
    {
      "cell_type": "code",
      "metadata": {
        "colab": {
          "base_uri": "https://localhost:8080/"
        },
        "id": "mwn_BzDn3RB9",
        "outputId": "04377c72-1e7e-4959-e8a9-4b53036c7e35"
      },
      "source": [
        "for race in set(population_races):\n",
        "  print(\"Proporcion de \"+race)\n",
        "  print(population_races.count(race) / 2500000)"
      ],
      "execution_count": 29,
      "outputs": [
        {
          "output_type": "stream",
          "text": [
            "Proporcion de asiatica\n",
            "0.1\n",
            "Proporcion de blanca\n",
            "0.4\n",
            "Proporcion de hispana\n",
            "0.2\n",
            "Proporcion de otros\n",
            "0.1\n",
            "Proporcion de negra\n",
            "0.2\n"
          ],
          "name": "stdout"
        }
      ]
    },
    {
      "cell_type": "code",
      "metadata": {
        "id": "90TzPBF43kUk"
      },
      "source": [
        "random.seed(31)\n",
        "race_sample = random.sample(population_races, 1000)"
      ],
      "execution_count": 30,
      "outputs": []
    },
    {
      "cell_type": "code",
      "metadata": {
        "colab": {
          "base_uri": "https://localhost:8080/"
        },
        "id": "sPh3rlAG5OyJ",
        "outputId": "cd53dd55-7f89-4c38-f2e7-c6541b169705"
      },
      "source": [
        "for race in set(race_sample):\n",
        "  print(\"Proporcion de \"+race)\n",
        "  print(race_sample.count(race) / 1000)"
      ],
      "execution_count": 31,
      "outputs": [
        {
          "output_type": "stream",
          "text": [
            "Proporcion de asiatica\n",
            "0.101\n",
            "Proporcion de blanca\n",
            "0.379\n",
            "Proporcion de hispana\n",
            "0.201\n",
            "Proporcion de otros\n",
            "0.102\n",
            "Proporcion de negra\n",
            "0.217\n"
          ],
          "name": "stdout"
        }
      ]
    },
    {
      "cell_type": "code",
      "metadata": {
        "colab": {
          "base_uri": "https://localhost:8080/",
          "height": 641
        },
        "id": "_wDE0XtZ5cRW",
        "outputId": "2a95c27b-3049-48b8-e7b5-4c5a541cf3b0"
      },
      "source": [
        "pd.DataFrame(population_ages).hist(bins = 60, range = (17.5, 77.5), figsize = (10,10))"
      ],
      "execution_count": 32,
      "outputs": [
        {
          "output_type": "execute_result",
          "data": {
            "text/plain": [
              "array([[<matplotlib.axes._subplots.AxesSubplot object at 0x7fcfc03a0510>]],\n",
              "      dtype=object)"
            ]
          },
          "metadata": {
            "tags": []
          },
          "execution_count": 32
        },
        {
          "output_type": "display_data",
          "data": {
            "image/png": "[encoded data removed]",
            "text/plain": [
              "<Figure size 720x720 with 1 Axes>"
            ]
          },
          "metadata": {
            "tags": [],
            "needs_background": "light"
          }
        }
      ]
    },
    {
      "cell_type": "code",
      "metadata": {
        "colab": {
          "base_uri": "https://localhost:8080/",
          "height": 641
        },
        "id": "rle0RZvW5iiS",
        "outputId": "7523b063-8b83-4474-f04d-753b483f1c5c"
      },
      "source": [
        "pd.DataFrame(sample_ages).hist(bins = 60, range = (17.5, 77.5), figsize = (10,10))"
      ],
      "execution_count": 33,
      "outputs": [
        {
          "output_type": "execute_result",
          "data": {
            "text/plain": [
              "array([[<matplotlib.axes._subplots.AxesSubplot object at 0x7fcfc0293c10>]],\n",
              "      dtype=object)"
            ]
          },
          "metadata": {
            "tags": []
          },
          "execution_count": 33
        },
        {
          "output_type": "display_data",
          "data": {
            "image/png": "[encoded data removed]",
            "text/plain": [
              "<Figure size 720x720 with 1 Axes>"
            ]
          },
          "metadata": {
            "tags": [],
            "needs_background": "light"
          }
        }
      ]
    },
    {
      "cell_type": "code",
      "metadata": {
        "colab": {
          "base_uri": "https://localhost:8080/",
          "height": 554
        },
        "id": "OAEqLgTr-7qb",
        "outputId": "6035394b-48cb-4da6-ce2b-31f5e80dcc3f"
      },
      "source": [
        "np.random.sample(1988)\n",
        "\n",
        "point_estimates = []\n",
        "\n",
        "for x in range(200):\n",
        "  sample = np.random.choice(population_ages, size = 500)\n",
        "  point_estimates.append(sample.mean())\n",
        "\n",
        "pd.DataFrame(point_estimates).plot(kind = \"density\", figsize = (9,9), xlim = (40, 46) )"
      ],
      "execution_count": 34,
      "outputs": [
        {
          "output_type": "execute_result",
          "data": {
            "text/plain": [
              "<matplotlib.axes._subplots.AxesSubplot at 0x7fcfc2948d90>"
            ]
          },
          "metadata": {
            "tags": []
          },
          "execution_count": 34
        },
        {
          "output_type": "display_data",
          "data": {
            "image/png": "[encoded data removed]",
            "text/plain": [
              "<Figure size 648x648 with 1 Axes>"
            ]
          },
          "metadata": {
            "tags": [],
            "needs_background": "light"
          }
        }
      ]
    },
    {
      "cell_type": "code",
      "metadata": {
        "colab": {
          "base_uri": "https://localhost:8080/"
        },
        "id": "AHmFyolt_AAR",
        "outputId": "cbb6a7f9-dd99-4d69-b098-4247f5e386b7"
      },
      "source": [
        "np.array(point_estimates).mean()"
      ],
      "execution_count": 35,
      "outputs": [
        {
          "output_type": "execute_result",
          "data": {
            "text/plain": [
              "42.94352"
            ]
          },
          "metadata": {
            "tags": []
          },
          "execution_count": 35
        }
      ]
    },
    {
      "cell_type": "markdown",
      "metadata": {
        "id": "nnKWAtlE_H44"
      },
      "source": [
        "**Si conocemos la desviación típica**\n",
        "\n",
        "1.   Elemento de la lista\n",
        "2.   Elemento de la lista"
      ]
    },
    {
      "cell_type": "code",
      "metadata": {
        "colab": {
          "base_uri": "https://localhost:8080/"
        },
        "id": "Z-lwm_EB_EIu",
        "outputId": "68c23e04-6c86-4106-a55c-cfc4297ea558"
      },
      "source": [
        "np.random.seed(10)\n",
        "\n",
        "n = 1000\n",
        "alpha = 0.05\n",
        "\n",
        "sample = np.random.choice(population_ages, size = n)\n",
        "sample_mean = sample.mean()\n",
        "\n",
        "z_critical = stats.norm.ppf(q = 1-alpha/2)\n",
        "\n",
        "sigma = population_ages.std()## sigma de la población\n",
        "\n",
        "sample_error = z_critical * sigma / math.sqrt(n)\n",
        "\n",
        "ci = (sample_mean - sample_error, sample_mean + sample_error)\n",
        "ci"
      ],
      "execution_count": 36,
      "outputs": [
        {
          "output_type": "execute_result",
          "data": {
            "text/plain": [
              "(42.23912299964774, 43.878877000352254)"
            ]
          },
          "metadata": {
            "tags": []
          },
          "execution_count": 36
        }
      ]
    },
    {
      "cell_type": "code",
      "metadata": {
        "id": "oG9eKSEj_LFA"
      },
      "source": [
        "np.random.seed(10)\n",
        "\n",
        "n = 1000\n",
        "alpha = 0.05\n",
        "\n",
        "intervals = []\n",
        "sample_means = []\n",
        "\n",
        "z_critical = stats.norm.ppf(q = 1-alpha/2)\n",
        "\n",
        "sigma = population_ages.std()## sigma de la población\n",
        "\n",
        "sample_error = z_critical * sigma / math.sqrt(n)\n",
        "\n",
        "for sample in range(100):\n",
        "\n",
        "  sample = np.random.choice(population_ages, size = n)\n",
        "  sample_mean = sample.mean()\n",
        "  sample_means.append(sample_mean)\n",
        "\n",
        "  ci = (sample_mean - sample_error, sample_mean + sample_error)\n",
        "  intervals.append(ci)"
      ],
      "execution_count": 37,
      "outputs": []
    },
    {
      "cell_type": "code",
      "metadata": {
        "colab": {
          "base_uri": "https://localhost:8080/",
          "height": 609
        },
        "id": "vjJDQxhG_Ohb",
        "outputId": "b9083281-c573-4a1b-e64f-a9d7f4caaa10"
      },
      "source": [
        "plt.figure(figsize=(10,10))\n",
        "plt.errorbar(x = np.arange(0.1, 100, 1), y = sample_means, yerr=[(top-bottom)/2 for top, bottom in intervals], fmt='o')\n",
        "plt.hlines(xmin = 0, xmax = 100, y = population_ages.mean(), linewidth=2.0, color=\"red\")"
      ],
      "execution_count": 38,
      "outputs": [
        {
          "output_type": "execute_result",
          "data": {
            "text/plain": [
              "<matplotlib.collections.LineCollection at 0x7fcfc05a7d90>"
            ]
          },
          "metadata": {
            "tags": []
          },
          "execution_count": 38
        },
        {
          "output_type": "display_data",
          "data": {
            "image/png": "[encoded data removed]",
            "text/plain": [
              "<Figure size 720x720 with 1 Axes>"
            ]
          },
          "metadata": {
            "tags": [],
            "needs_background": "light"
          }
        }
      ]
    },
    {
      "cell_type": "code",
      "metadata": {
        "colab": {
          "base_uri": "https://localhost:8080/",
          "height": 1000
        },
        "id": "8LEzBS1OEFet",
        "outputId": "7e2cfdb6-d3a1-42c4-9423-d0163174b699"
      },
      "source": [
        "# **Si la desviación típica no es conocida...**\n",
        "\n",
        "\n",
        "np.random.seed(10)\n",
        "\n",
        "n = 25\n",
        "alpha = 0.05\n",
        "\n",
        "sample = np.random.choice(population_ages, size = n)\n",
        "sample_mean = sample.mean()\n",
        "\n",
        "t_critical = stats.t.ppf(q = 1-alpha/2, df = n-1)\n",
        "\n",
        "sample_sd = sample.std(ddof=1)## desviación estándar de la muestra\n",
        "\n",
        "sample_error = t_critical * sample_sd / math.sqrt(n)\n",
        "\n",
        "ci = (sample_mean - sample_error, sample_mean + sample_error)\n",
        "ci\n",
        "\n",
        "stats.t.ppf(q = 1-alpha, df = n-1) - stats.norm.ppf(1-alpha)\n",
        "\n",
        "stats.t.ppf(q = 1-alpha, df = 999) - stats.norm.ppf(1-alpha)\n",
        "\n",
        "stats.t.interval(alpha = 0.95, df = 24, loc = sample_mean, scale = sample_sd/math.sqrt(n))\n",
        "\n",
        "# **Intervalo para la proporción poblacional**\n",
        "\n",
        "alpha = 0.05\n",
        "n = 1000\n",
        "z_critical = stats.norm.ppf(q=1-alpha/2)\n",
        "p_hat = race_sample.count(\"blanca\") / n\n",
        "\n",
        "sample_error = z_critical * math.sqrt((p_hat*(1-p_hat)/n))\n",
        "\n",
        "ci = (p_hat - sample_error, p_hat + sample_error)\n",
        "ci\n",
        "\n",
        "stats.norm.interval(alpha = 0.95, loc = p_hat, scale = math.sqrt(p_hat*(1-p_hat)/n))\n",
        "\n",
        "# **Cómo interpretar el intervalo de confianza**\n",
        "\n",
        "shape, scale = 2.0, 2.0 #mean = 4, std = 2*sqrt(2)\n",
        "s = np.random.gamma(shape, scale, 1000000)\n",
        "\n",
        "mu = shape*scale \n",
        "sigma = scale*np.sqrt(shape)\n",
        "\n",
        "print(mu)\n",
        "print(sigma)\n",
        "\n",
        "meansample = []\n",
        "sample_size = 500\n",
        "for i in range(0,50000):\n",
        "  sample = random.choices(s, k=sample_size)\n",
        "  meansample.append(sum(sample)/len(sample))\n",
        "\n",
        "plt.figure(figsize=(20,10))\n",
        "plt.hist(meansample, 200, density=True, color=\"lightblue\")\n",
        "plt.show()\n",
        "\n",
        "plt.figure(figsize=(20,10))\n",
        "plt.hist(meansample, 200, density=True, color=\"lightblue\")\n",
        "plt.plot([mu,mu], [0, 3.5], 'k-', lw=4, color='green')\n",
        "plt.plot([mu-1.96*sigma/np.sqrt(sample_size), mu-1.96*sigma/np.sqrt(sample_size)], [0, 3.5], 'k-', lw=2, color=\"navy\")\n",
        "plt.plot([mu+1.96*sigma/np.sqrt(sample_size), mu+1.96*sigma/np.sqrt(sample_size)], [0, 3.5], 'k-', lw=2, color=\"navy\")\n",
        "plt.show()\n",
        "\n",
        "sample_data = np.random.choice(s, size = sample_size)\n",
        "x_bar = sample_data.mean()\n",
        "ss = sample_data.std()\n",
        "\n",
        "plt.figure(figsize=(20,10))\n",
        "plt.hist(meansample, 200, density=True, color=\"lightblue\")\n",
        "plt.plot([mu,mu], [0, 3.5], 'k-', lw=4, color='green')\n",
        "plt.plot([mu-1.96*sigma/np.sqrt(sample_size), mu-1.96*sigma/np.sqrt(sample_size)], [0, 3.5], 'k-', lw=2, color=\"navy\")\n",
        "plt.plot([mu+1.96*sigma/np.sqrt(sample_size), mu+1.96*sigma/np.sqrt(sample_size)], [0, 3.5], 'k-', lw=2, color=\"navy\")\n",
        "plt.plot([x_bar, x_bar], [0,3.5], 'k-', lw=2, color=\"red\")\n",
        "plt.plot([x_bar-1.96*ss/np.sqrt(sample_size), x_bar-1.96*ss/np.sqrt(sample_size)], [0, 3.5], 'k-', lw=1, color=\"red\")\n",
        "plt.plot([x_bar+1.96*ss/np.sqrt(sample_size), x_bar+1.96*ss/np.sqrt(sample_size)], [0, 3.5], 'k-', lw=1, color=\"red\")\n",
        "plt.gca().add_patch(plt.Rectangle((x_bar-1.96*ss/np.sqrt(sample_size), 0), 2*(1.96*ss/np.sqrt(sample_size)), 3.5, fill=True, fc=(0.9, 0.1, 0.1, 0.15)))\n",
        "plt.show()\n",
        "\n",
        "interval_list = []\n",
        "z_critical = 1.96 #z_0.975\n",
        "sample_size = 5000\n",
        "c = 0\n",
        "error = z_critical*sigma/np.sqrt(sample_size)\n",
        "\n",
        "for i in range(0,100):\n",
        "  rs = random.choices(s, k=sample_size)\n",
        "  mean = np.mean(rs)\n",
        "  ub = mean + error\n",
        "  lb = mean - error\n",
        "  interval_list.append([lb, mean, ub])\n",
        "  if ub >= mu and lb <= mu:\n",
        "    c += 1  \n",
        "\n",
        "c\n",
        "\n",
        "print(\"Número de intervalos de confianza que contienen el valor real de mu: \",c)\n",
        "plt.figure(figsize = (20, 10))\n",
        "plt.boxplot(interval_list)\n",
        "plt.plot([1,100], [mu, mu], 'k-', lw=2, color=\"red\")\n",
        "plt.show()"
      ],
      "execution_count": 43,
      "outputs": [
        {
          "output_type": "stream",
          "text": [
            "4.0\n",
            "2.8284271247461903\n"
          ],
          "name": "stdout"
        },
        {
          "output_type": "display_data",
          "data": {
            "image/png": "[encoded data removed]",
            "text/plain": [
              "<Figure size 1440x720 with 1 Axes>"
            ]
          },
          "metadata": {
            "tags": [],
            "needs_background": "light"
          }
        },
        {
          "output_type": "display_data",
          "data": {
            "image/png": "[encoded data removed]",
            "text/plain": [
              "<Figure size 1440x720 with 1 Axes>"
            ]
          },
          "metadata": {
            "tags": [],
            "needs_background": "light"
          }
        },
        {
          "output_type": "display_data",
          "data": {
            "image/png": "[encoded data removed]",
            "text/plain": [
              "<Figure size 1440x720 with 1 Axes>"
            ]
          },
          "metadata": {
            "tags": [],
            "needs_background": "light"
          }
        },
        {
          "output_type": "stream",
          "text": [
            "Número de intervalos de confianza que contienen el valor real de mu:  94\n"
          ],
          "name": "stdout"
        },
        {
          "output_type": "display_data",
          "data": {
            "image/png": "[encoded data removed]",
            "text/plain": [
              "<Figure size 1440x720 with 1 Axes>"
            ]
          },
          "metadata": {
            "tags": [],
            "needs_background": "light"
          }
        }
      ]
    }
  ]
}