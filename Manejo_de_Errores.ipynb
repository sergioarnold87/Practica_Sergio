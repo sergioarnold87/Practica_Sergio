{
  "nbformat": 4,
  "nbformat_minor": 0,
  "metadata": {
    "colab": {
      "name": "Manejo_de_Errores.ipynb",
      "provenance": [],
      "authorship_tag": "ABX9TyN4igiAFNaCEICpIhxc3MRL",
      "include_colab_link": true
    },
    "kernelspec": {
      "name": "python3",
      "display_name": "Python 3"
    },
    "language_info": {
      "name": "python"
    }
  },
  "cells": [
    {
      "cell_type": "markdown",
      "metadata": {
        "id": "view-in-github",
        "colab_type": "text"
      },
      "source": [
        "<a href=\"https://colab.research.google.com/github/sergioarnold87/Practica_Sergio/blob/main/Manejo_de_Errores.ipynb\" target=\"_parent\"><img src=\"https://colab.research.google.com/assets/colab-badge.svg\" alt=\"Open In Colab\"/></a>"
      ]
    },
    {
      "cell_type": "markdown",
      "metadata": {
        "id": "zOKYI5UeLD-9"
      },
      "source": [
        "# Librerías necesarias para el tema"
      ]
    },
    {
      "cell_type": "code",
      "metadata": {
        "id": "6wfXyBrWrujj"
      },
      "source": [
        "import numpy as np\n",
        "import math\n",
        "import matplotlib.pyplot as plt\n",
        "from IPython.display import display, Math"
      ],
      "execution_count": 3,
      "outputs": []
    },
    {
      "cell_type": "markdown",
      "metadata": {
        "id": "VcJd8OQxjVT1"
      },
      "source": [
        "# Ejemplo 1: Descomposición binaria.\n",
        "\n",
        "Funciones en `python` que nos dan la descomposición binaria de una número en base 10 y hacen la conversión contraria, dado un número en binario, lo pasan a decimal."
      ]
    },
    {
      "cell_type": "code",
      "metadata": {
        "id": "ZLO1tSHyxbYq"
      },
      "source": [
        "def float2bin(N):\n",
        "\n",
        "  \"\"\"\n",
        "    Dado N un número decimal, devuelve su representación en binario\n",
        "    \n",
        "\n",
        "    Parámetros:\n",
        "    * N: número decimal\n",
        "    \n",
        "\n",
        "    Valor de retorno \n",
        "    * representación binario\n",
        "  \"\"\"\n",
        "  Nb =abs(N)\n",
        "  integ =  int(Nb)\n",
        "  dec = Nb- float(int(Nb))\n",
        "  a = \"\"\n",
        "  while dec != 0.0:\n",
        "    dec = dec * 2 \n",
        "    if dec < 1:\n",
        "      a = a + \"0\"\n",
        "    if dec >= 1:\n",
        "      a = a + \"1\"\n",
        "      dec = dec -1\n",
        "\n",
        "  if (N<0):\n",
        "    return \"-\" + bin(integ).replace(\"0b\",\"\") + \".\"+ a.replace(\"0b\",\"\")\n",
        "  if (N>0):\n",
        "    return bin(integ).replace(\"0b\", \"\") + \".\"+a.replace(\"0b\",\"\")\n",
        "  return \"0\"\n",
        "\n",
        "def bin2float(B):\n",
        "\n",
        "  \"\"\"\n",
        "    Dado B un número binario, devuelve su representación en decimal\n",
        "    \n",
        "\n",
        "    Parámetros:\n",
        "    * B: número binario\n",
        "    \n",
        "    \n",
        "    Valor de retorno \n",
        "    * representación decimal\n",
        "  \"\"\"\n",
        "  B = B.replace(\"0b\", \"\")\n",
        "  entera = \"\"\n",
        "  decimal = \"\"\n",
        "  flot = 0\n",
        "  exp = 1\n",
        "  for i in B:\n",
        "    if i == \".\":\n",
        "      break\n",
        "    entera = entera + i\n",
        "    B = B[1:]\n",
        "  for i in B:\n",
        "    decimal = decimal + i\n",
        "  for i in entera:\n",
        "    if i == \"1\":\n",
        "      flot = flot + 2 **(len(entera) - exp)\n",
        "    exp = exp + 1\n",
        "  exp = 0\n",
        "  for i in decimal:\n",
        "    if i == \"1\":\n",
        "      flot = flot + 1/2**(exp)\n",
        "    exp = exp + 1\n",
        "  return flot"
      ],
      "execution_count": 6,
      "outputs": []
    },
    {
      "cell_type": "code",
      "metadata": {
        "colab": {
          "base_uri": "https://localhost:8080/",
          "height": 35
        },
        "id": "NIv1QvOo8Kch",
        "outputId": "8c99c9f2-ac04-45e8-f2fa-0e75f3a7e69d"
      },
      "source": [
        "float2bin(10.2345)"
      ],
      "execution_count": 7,
      "outputs": [
        {
          "output_type": "execute_result",
          "data": {
            "application/vnd.google.colaboratory.intrinsic+json": {
              "type": "string"
            },
            "text/plain": [
              "'1010.001111000000100000110001001001101110100101111001'"
            ]
          },
          "metadata": {},
          "execution_count": 7
        }
      ]
    },
    {
      "cell_type": "code",
      "metadata": {
        "id": "EtcixgCw8bOb"
      },
      "source": [
        ""
      ],
      "execution_count": null,
      "outputs": []
    }
  ]
}