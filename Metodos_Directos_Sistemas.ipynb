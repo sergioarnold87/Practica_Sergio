{
  "nbformat": 4,
  "nbformat_minor": 0,
  "metadata": {
    "colab": {
      "name": "Metodos_Directos_Sistemas.ipynb",
      "provenance": [],
      "collapsed_sections": [],
      "toc_visible": true,
      "authorship_tag": "ABX9TyNIpNpuiTZ2FuRsvDbQc2jM",
      "include_colab_link": true
    },
    "kernelspec": {
      "name": "python3",
      "display_name": "Python 3"
    },
    "language_info": {
      "name": "python"
    }
  },
  "cells": [
    {
      "cell_type": "markdown",
      "metadata": {
        "id": "view-in-github",
        "colab_type": "text"
      },
      "source": [
        "<a href=\"https://colab.research.google.com/github/sergioarnold87/Practica_Sergio/blob/main/Metodos_Directos_Sistemas.ipynb\" target=\"_parent\"><img src=\"https://colab.research.google.com/assets/colab-badge.svg\" alt=\"Open In Colab\"/></a>"
      ]
    },
    {
      "cell_type": "markdown",
      "metadata": {
        "id": "QQGhALXaHMq9"
      },
      "source": [
        "# Librerías necesarias"
      ]
    },
    {
      "cell_type": "code",
      "metadata": {
        "id": "959p7o6GHSae"
      },
      "source": [
        "import numpy as np\n",
        "import math"
      ],
      "execution_count": 16,
      "outputs": []
    },
    {
      "cell_type": "markdown",
      "metadata": {
        "id": "2XIQvWfxHWmx"
      },
      "source": [
        "# Función Helper"
      ]
    },
    {
      "cell_type": "code",
      "metadata": {
        "id": "s50EhLIZHVZw"
      },
      "source": [
        "def sustitucionAtras(Ab):\n",
        "  \"\"\"\n",
        "  Esta función resuelve un sistema triangular superior mediante sustitución hacia atrás\n",
        "\n",
        "  Args:\n",
        "    Ab: Array bidimensional (Matriz ampliada del sistema triangular superior)\n",
        "    verbose: Booleano para mostrar o no los resultados relevantes\n",
        "\n",
        "  Returns:\n",
        "    x: Array unidimensional con la solución del sistema\n",
        "  \"\"\"\n",
        "\n",
        "  n = Ab.shape[0]\n",
        "  x = np.empty(n)\n",
        "  x[n - 1] = Ab[n - 1, n] / Ab[n - 1, n - 1]\n",
        "  for i in range(n - 2, -1, -1):\n",
        "    x[i] = (Ab[i, n] - np.sum(Ab[i, (i + 1):n] * x[(i + 1):n])) / Ab[i, i]\n",
        "\n",
        "  return x"
      ],
      "execution_count": 17,
      "outputs": []
    },
    {
      "cell_type": "code",
      "metadata": {
        "id": "oWQPQ7XPNIcl"
      },
      "source": [
        "def sustitucionDelante(Ab):\n",
        "  \"\"\"\n",
        "  Esta función resuelve un sistema triangular inferior mediante sustitución\n",
        "  hacia delante\n",
        "\n",
        "  Args:\n",
        "    Ab: Array bidimensional (Matriz ampliada del sistema triangular inferior)\n",
        "\n",
        "  Returns:\n",
        "    x: Array unidimensional con la solución del sistema\n",
        "  \"\"\"\n",
        "  n = Ab.shape[0]\n",
        "  x = np.empty(n)\n",
        "  x[0] = Ab[0, n] / Ab[0, 0]\n",
        "  for i in range(1, n):\n",
        "    x[i] = (Ab[i, n] - np.sum(Ab[i, :i] * x[:i])) / Ab[i, i]\n",
        "\n",
        "  return x"
      ],
      "execution_count": 18,
      "outputs": []
    },
    {
      "cell_type": "markdown",
      "metadata": {
        "id": "FMJVp71oaWoD"
      },
      "source": [
        "# Ejemplo 1: Método de eliminación de Gauss para resolver un sistema lineal de ecuaciones\n",
        "Dado un sistema lineal de la forma $\\mathbf{A}\\mathbf{x}=\\mathbf{b}$ que suponemos **compatible determinado**, es decir, con solución única, devuelve la solución del sistema usando el método de **eliminación de Gauss** y resuelve el sistema resultante con matriz **triangular superior** por el método de **sustitución hacia atrás.**"
      ]
    },
    {
      "cell_type": "code",
      "metadata": {
        "id": "Hwhhx0x0NRKE"
      },
      "source": [
        "Ab = [[1, 1, -3, -1, -2, 2], \n",
        "     [1, 2, 2, 0, 3, 2], \n",
        "     [1, -1, 3, 2, 0, 2],\n",
        "     [0, 1, 0, 4, -1, 3], \n",
        "     [1, 3, 1, 0, 5, 1]]\n",
        "Ab = np.array(Ab)"
      ],
      "execution_count": 19,
      "outputs": []
    },
    {
      "cell_type": "code",
      "metadata": {
        "colab": {
          "base_uri": "https://localhost:8080/"
        },
        "id": "5rWDHcOYNg1B",
        "outputId": "5ada42e4-8659-4a14-d99b-3d2c14f51c71"
      },
      "source": [
        "print(Ab)"
      ],
      "execution_count": 20,
      "outputs": [
        {
          "output_type": "stream",
          "name": "stdout",
          "text": [
            "[[ 1  1 -3 -1 -2  2]\n",
            " [ 1  2  2  0  3  2]\n",
            " [ 1 -1  3  2  0  2]\n",
            " [ 0  1  0  4 -1  3]\n",
            " [ 1  3  1  0  5  1]]\n"
          ]
        }
      ]
    },
    {
      "cell_type": "code",
      "metadata": {
        "id": "y7PXU63PNjVM"
      },
      "source": [
        "def metodoGauss(Ab, verbose = False):\n",
        "  \"\"\"\n",
        "  Esta función transforma un sistema lineal Ax = b en otro equivalente con matriz \n",
        "  del sistema triangular superior y devuelve la solución al sistema calculada\n",
        "  mediante sustitución hacia atrás\n",
        "\n",
        "  Args:\n",
        "    Ab: Array bidimensional de numpy (Matriz ampliada del sistema)\n",
        "    verbose: Booleano para mostrar o no los resultados relevantes\n",
        "  Returns:\n",
        "    x: Array unidimensional con la solución del sistema\n",
        "\n",
        "  \"\"\"\n",
        "\n",
        "  # Pasamos todas las entradas del array bidimensional a tipo float\n",
        "  Ab = Ab.astype(\"float\")\n",
        "  # Número de filas de Ab\n",
        "  n = Ab.shape[0]\n",
        "\n",
        "  # Convertimos la matriz del sistema en triangular superior \n",
        "  for k in range(n - 1):\n",
        "    p = k\n",
        "    if Ab[k, k] == 0:\n",
        "      for i in range(k + 1, n):\n",
        "        if Ab[i, k] != 0:\n",
        "          p = i\n",
        "          break\n",
        "\n",
        "    if p == k and Ab[k,k] == 0:\n",
        "        print(\"El sistema no es compatible determinado\")\n",
        "        return\n",
        "    \n",
        "    # Cambiamos las filas si es necesario\n",
        "    if p != k:\n",
        "      row = Ab[p].copy()\n",
        "      Ab[p] = Ab[k]\n",
        "      Ab[k] = row\n",
        "\n",
        "    for j in range(k + 1, n):\n",
        "      m = Ab[j, k] / Ab[k, k]\n",
        "      Ab[j] = Ab[j] - m  * Ab[k]\n",
        "\n",
        "  # Mostramos, si verbose = True, la matriz triangular superior resultante\n",
        "  if verbose:\n",
        "      print(\"Ab =\\n\", Ab)\n",
        "\n",
        "  # Mostramos, si verbose = True, la matriz triangular superior resultante\n",
        "  if verbose:\n",
        "      print(\"Ab =\\n\", Ab)\n",
        "\n",
        "  # Resolvemos el sistema con sustitución hacia atrás\n",
        "  x = sustitucionAtras(Ab)\n",
        "\n",
        "  if verbose:\n",
        "    print(\"X =\", x)\n",
        "  \n",
        "  return x"
      ],
      "execution_count": 23,
      "outputs": []
    },
    {
      "cell_type": "code",
      "metadata": {
        "colab": {
          "base_uri": "https://localhost:8080/"
        },
        "id": "XyjatAFFTzBx",
        "outputId": "190ce16a-28ab-4f5e-c636-22721929f91a"
      },
      "source": [
        "x = metodoGauss(Ab, verbose = True)"
      ],
      "execution_count": 24,
      "outputs": [
        {
          "output_type": "stream",
          "name": "stdout",
          "text": [
            "Ab =\n",
            " [[ 1.          1.         -3.         -1.         -2.          2.        ]\n",
            " [ 0.          1.          5.          1.          5.          0.        ]\n",
            " [ 0.          0.         16.          5.         12.          0.        ]\n",
            " [ 0.          0.          0.          4.5625     -2.25        3.        ]\n",
            " [ 0.          0.          0.          0.          1.93150685 -1.57534247]]\n",
            "Ab =\n",
            " [[ 1.          1.         -3.         -1.         -2.          2.        ]\n",
            " [ 0.          1.          5.          1.          5.          0.        ]\n",
            " [ 0.          0.         16.          5.         12.          0.        ]\n",
            " [ 0.          0.          0.          4.5625     -2.25        3.        ]\n",
            " [ 0.          0.          0.          0.          1.93150685 -1.57534247]]\n",
            "X = [ 1.05673759  1.16312057  0.53191489  0.25531915 -0.81560284]\n"
          ]
        }
      ]
    },
    {
      "cell_type": "code",
      "metadata": {
        "colab": {
          "base_uri": "https://localhost:8080/"
        },
        "id": "-e84H-6gT3DW",
        "outputId": "79891812-805e-4041-cac1-9b11d0e5aaa4"
      },
      "source": [
        "B = [[0, 1, 0, 4, -1, 3],\n",
        "     [1, 1, -3, -1, -2, 2], \n",
        "     [1, 2, 2, 0, 3, 2], \n",
        "     [1, -1, 3, 2, 0, 2], \n",
        "     [1, 3, 1, 0, 5, 1]]\n",
        "B = np.array(B)\n",
        "y = metodoGauss(B)\n",
        "print(y)"
      ],
      "execution_count": 25,
      "outputs": [
        {
          "output_type": "stream",
          "name": "stdout",
          "text": [
            "[ 1.05673759  1.16312057  0.53191489  0.25531915 -0.81560284]\n"
          ]
        }
      ]
    },
    {
      "cell_type": "code",
      "metadata": {
        "id": "Zhym4VZRVE8U"
      },
      "source": [
        ""
      ],
      "execution_count": null,
      "outputs": []
    }
  ]
}