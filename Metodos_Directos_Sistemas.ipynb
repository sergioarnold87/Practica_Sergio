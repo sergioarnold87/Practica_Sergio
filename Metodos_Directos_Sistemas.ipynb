{
  "nbformat": 4,
  "nbformat_minor": 0,
  "metadata": {
    "colab": {
      "name": "Metodos_Directos_Sistemas.ipynb",
      "provenance": [],
      "collapsed_sections": [],
      "toc_visible": true,
      "authorship_tag": "ABX9TyOv77U6BW6huCnRJKejmhTh",
      "include_colab_link": true
    },
    "kernelspec": {
      "name": "python3",
      "display_name": "Python 3"
    },
    "language_info": {
      "name": "python"
    }
  },
  "cells": [
    {
      "cell_type": "markdown",
      "metadata": {
        "id": "view-in-github",
        "colab_type": "text"
      },
      "source": [
        "<a href=\"https://colab.research.google.com/github/sergioarnold87/Practica_Sergio/blob/main/Metodos_Directos_Sistemas.ipynb\" target=\"_parent\"><img src=\"https://colab.research.google.com/assets/colab-badge.svg\" alt=\"Open In Colab\"/></a>"
      ]
    },
    {
      "cell_type": "markdown",
      "metadata": {
        "id": "QQGhALXaHMq9"
      },
      "source": [
        "# Librerías necesarias"
      ]
    },
    {
      "cell_type": "code",
      "metadata": {
        "id": "959p7o6GHSae"
      },
      "source": [
        "import numpy as np\n",
        "import math"
      ],
      "execution_count": 2,
      "outputs": []
    },
    {
      "cell_type": "markdown",
      "metadata": {
        "id": "2XIQvWfxHWmx"
      },
      "source": [
        "# Función Helper"
      ]
    },
    {
      "cell_type": "code",
      "metadata": {
        "id": "s50EhLIZHVZw"
      },
      "source": [
        "def sustitucionAtras(Ab):\n",
        "  \"\"\"\n",
        "  Esta función resuelve un sistema triangular superior mediante sustitución hacia atrás\n",
        "\n",
        "  Args:\n",
        "    Ab: Array bidimensional (Matriz ampliada del sistema triangular superior)\n",
        "    verbose: Booleano para mostrar o no los resultados relevantes\n",
        "\n",
        "  Returns:\n",
        "    x: Array unidimensional con la solución del sistema\n",
        "  \"\"\"\n",
        "\n",
        "  n = Ab.shape[0]\n",
        "  x = np.empty(n)\n",
        "  x[n - 1] = Ab[n - 1, n] / Ab[n - 1, n - 1]\n",
        "  for i in range(n - 2, -1, -1):\n",
        "    x[i] = (Ab[i, n] - np.sum(Ab[i, (i + 1):n] * x[(i + 1):n])) / Ab[i, i]\n",
        "\n",
        "  return x"
      ],
      "execution_count": 3,
      "outputs": []
    },
    {
      "cell_type": "code",
      "metadata": {
        "id": "oWQPQ7XPNIcl"
      },
      "source": [
        "def sustitucionDelante(Ab):\n",
        "  \"\"\"\n",
        "  Esta función resuelve un sistema triangular inferior mediante sustitución\n",
        "  hacia delante\n",
        "\n",
        "  Args:\n",
        "    Ab: Array bidimensional (Matriz ampliada del sistema triangular inferior)\n",
        "\n",
        "  Returns:\n",
        "    x: Array unidimensional con la solución del sistema\n",
        "  \"\"\"\n",
        "  n = Ab.shape[0]\n",
        "  x = np.empty(n)\n",
        "  x[0] = Ab[0, n] / Ab[0, 0]\n",
        "  for i in range(1, n):\n",
        "    x[i] = (Ab[i, n] - np.sum(Ab[i, :i] * x[:i])) / Ab[i, i]\n",
        "\n",
        "  return x"
      ],
      "execution_count": 4,
      "outputs": []
    },
    {
      "cell_type": "markdown",
      "metadata": {
        "id": "FMJVp71oaWoD"
      },
      "source": [
        "# Ejemplo 1: Método de eliminación de Gauss para resolver un sistema lineal de ecuaciones\n",
        "Dado un sistema lineal de la forma $\\mathbf{A}\\mathbf{x}=\\mathbf{b}$ que suponemos **compatible determinado**, es decir, con solución única, devuelve la solución del sistema usando el método de **eliminación de Gauss** y resuelve el sistema resultante con matriz **triangular superior** por el método de **sustitución hacia atrás.**"
      ]
    },
    {
      "cell_type": "code",
      "metadata": {
        "id": "Hwhhx0x0NRKE"
      },
      "source": [
        "Ab = [[1, 1, -3, -1, -2, 2], \n",
        "     [1, 2, 2, 0, 3, 2], \n",
        "     [1, -1, 3, 2, 0, 2],\n",
        "     [0, 1, 0, 4, -1, 3], \n",
        "     [1, 3, 1, 0, 5, 1]]\n",
        "Ab = np.array(Ab)"
      ],
      "execution_count": 5,
      "outputs": []
    },
    {
      "cell_type": "code",
      "metadata": {
        "colab": {
          "base_uri": "https://localhost:8080/"
        },
        "id": "5rWDHcOYNg1B",
        "outputId": "0dfe4fb5-9d7d-49f2-8624-90ca050d8ff5"
      },
      "source": [
        "print(Ab)"
      ],
      "execution_count": 6,
      "outputs": [
        {
          "output_type": "stream",
          "name": "stdout",
          "text": [
            "[[ 1  1 -3 -1 -2  2]\n",
            " [ 1  2  2  0  3  2]\n",
            " [ 1 -1  3  2  0  2]\n",
            " [ 0  1  0  4 -1  3]\n",
            " [ 1  3  1  0  5  1]]\n"
          ]
        }
      ]
    },
    {
      "cell_type": "code",
      "metadata": {
        "id": "y7PXU63PNjVM"
      },
      "source": [
        "def metodoGauss(Ab, verbose = False):\n",
        "  \"\"\"\n",
        "  Esta función transforma un sistema lineal Ax = b en otro equivalente con matriz \n",
        "  del sistema triangular superior y devuelve la solución al sistema calculada\n",
        "  mediante sustitución hacia atrás\n",
        "\n",
        "  Args:\n",
        "    Ab: Array bidimensional de numpy (Matriz ampliada del sistema)\n",
        "    verbose: Booleano para mostrar o no los resultados relevantes\n",
        "  Returns:\n",
        "    x: Array unidimensional con la solución del sistema\n",
        "\n",
        "  \"\"\"\n",
        "\n",
        "  # Pasamos todas las entradas del array bidimensional a tipo float\n",
        "  Ab = Ab.astype(\"float\")\n",
        "  # Número de filas de Ab\n",
        "  n = Ab.shape[0]\n",
        "\n",
        "  # Convertimos la matriz del sistema en triangular superior \n",
        "  for k in range(n - 1):\n",
        "    p = k\n",
        "    if Ab[k, k] == 0:\n",
        "      for i in range(k + 1, n):\n",
        "        if Ab[i, k] != 0:\n",
        "          p = i\n",
        "          break\n",
        "\n",
        "    if p == k and Ab[k,k] == 0:\n",
        "        print(\"El sistema no es compatible determinado\")\n",
        "        return\n",
        "    \n",
        "    # Cambiamos las filas si es necesario\n",
        "    if p != k:\n",
        "      row = Ab[p].copy()\n",
        "      Ab[p] = Ab[k]\n",
        "      Ab[k] = row\n",
        "\n",
        "    for j in range(k + 1, n):\n",
        "      m = Ab[j, k] / Ab[k, k]\n",
        "      Ab[j] = Ab[j] - m  * Ab[k]\n",
        "\n",
        "  # Mostramos, si verbose = True, la matriz triangular superior resultante\n",
        "  if verbose:\n",
        "      print(\"Ab =\\n\", Ab)\n",
        "\n",
        "  # Mostramos, si verbose = True, la matriz triangular superior resultante\n",
        "  if verbose:\n",
        "      print(\"Ab =\\n\", Ab)\n",
        "\n",
        "  # Resolvemos el sistema con sustitución hacia atrás\n",
        "  x = sustitucionAtras(Ab)\n",
        "\n",
        "  if verbose:\n",
        "    print(\"X =\", x)\n",
        "  \n",
        "  return x"
      ],
      "execution_count": 7,
      "outputs": []
    },
    {
      "cell_type": "code",
      "metadata": {
        "colab": {
          "base_uri": "https://localhost:8080/"
        },
        "id": "XyjatAFFTzBx",
        "outputId": "225d09d9-8d51-4f42-8dbd-4426c2a68623"
      },
      "source": [
        "x = metodoGauss(Ab, verbose = True)"
      ],
      "execution_count": 8,
      "outputs": [
        {
          "output_type": "stream",
          "name": "stdout",
          "text": [
            "Ab =\n",
            " [[ 1.          1.         -3.         -1.         -2.          2.        ]\n",
            " [ 0.          1.          5.          1.          5.          0.        ]\n",
            " [ 0.          0.         16.          5.         12.          0.        ]\n",
            " [ 0.          0.          0.          4.5625     -2.25        3.        ]\n",
            " [ 0.          0.          0.          0.          1.93150685 -1.57534247]]\n",
            "Ab =\n",
            " [[ 1.          1.         -3.         -1.         -2.          2.        ]\n",
            " [ 0.          1.          5.          1.          5.          0.        ]\n",
            " [ 0.          0.         16.          5.         12.          0.        ]\n",
            " [ 0.          0.          0.          4.5625     -2.25        3.        ]\n",
            " [ 0.          0.          0.          0.          1.93150685 -1.57534247]]\n",
            "X = [ 1.05673759  1.16312057  0.53191489  0.25531915 -0.81560284]\n"
          ]
        }
      ]
    },
    {
      "cell_type": "code",
      "metadata": {
        "colab": {
          "base_uri": "https://localhost:8080/"
        },
        "id": "-e84H-6gT3DW",
        "outputId": "c60d5c6b-f4c7-49f9-cf69-56bfefaf8779"
      },
      "source": [
        "B = [[0, 1, 0, 4, -1, 3],\n",
        "     [1, 1, -3, -1, -2, 2], \n",
        "     [1, 2, 2, 0, 3, 2], \n",
        "     [1, -1, 3, 2, 0, 2], \n",
        "     [1, 3, 1, 0, 5, 1]]\n",
        "B = np.array(B)\n",
        "y = metodoGauss(B)\n",
        "print(y)"
      ],
      "execution_count": 9,
      "outputs": [
        {
          "output_type": "stream",
          "name": "stdout",
          "text": [
            "[ 1.05673759  1.16312057  0.53191489  0.25531915 -0.81560284]\n"
          ]
        }
      ]
    },
    {
      "cell_type": "markdown",
      "metadata": {
        "id": "DJmViX12F1Sc"
      },
      "source": [
        "# ***Ejemplo 2: Sistema mal condicionado***\n",
        "Dado un sistema lineal $\\mathbf{A}\\mathbf{x}=\\mathbf{b}$ mal condicionado, es decir $|\\mathrm{det}(\\mathbf{A})|<<1$, da la solución de sistema $\\mathbf{x}$ usando el método de **eliminación de Gauss** y **sustitución hacia atrás** suponiendo que se trabaja com $m$ **dígitos significativos**.\n"
      ]
    },
    {
      "cell_type": "code",
      "metadata": {
        "id": "Zhym4VZRVE8U"
      },
      "source": [
        "Ab = [[0.010534, 0.02, -1],\n",
        "      [1, 2, 3]]\n",
        "Ab = np.array(Ab)"
      ],
      "execution_count": 10,
      "outputs": []
    },
    {
      "cell_type": "code",
      "metadata": {
        "colab": {
          "base_uri": "https://localhost:8080/"
        },
        "id": "ex6lU2E-Ltm_",
        "outputId": "ef44824b-9ae5-4a47-af33-27187df01d24"
      },
      "source": [
        "print(Ab)"
      ],
      "execution_count": 11,
      "outputs": [
        {
          "output_type": "stream",
          "name": "stdout",
          "text": [
            "[[ 0.010534  0.02     -1.      ]\n",
            " [ 1.        2.        3.      ]]\n"
          ]
        }
      ]
    },
    {
      "cell_type": "code",
      "metadata": {
        "id": "QC41FDrLLyHE"
      },
      "source": [
        "def signif(x, m = 0):\n",
        "  \"\"\"\n",
        "  Esta función devuelve el número x con m dígitos significativos \n",
        "\n",
        "  Args:\n",
        "    x: Float\n",
        "    m: Int (Número de dígitos significtivos)\n",
        "\n",
        "  Returns:\n",
        "    Valor float x con m dígitos significativos\n",
        "  \"\"\"\n",
        "  if x == 0:\n",
        "    return 0\n",
        "  else:\n",
        "    return round(x, ndigits = m -1 - int(math.floor(math.log10(abs(x))))) "
      ],
      "execution_count": 12,
      "outputs": []
    },
    {
      "cell_type": "code",
      "metadata": {
        "id": "9X0XcoFTQqZP"
      },
      "source": [
        "# Convertimos la función signif a función universal\n",
        "signif = np.frompyfunc(signif, 2, 1)"
      ],
      "execution_count": 13,
      "outputs": []
    },
    {
      "cell_type": "code",
      "metadata": {
        "id": "liAQwC5YJFoL"
      },
      "source": [
        ""
      ],
      "execution_count": 13,
      "outputs": []
    },
    {
      "cell_type": "code",
      "metadata": {
        "id": "gfW7IQ5ciHeM"
      },
      "source": [
        "def metodoGaussSignif(Ab, sig = 5, verbose = False):\n",
        "  \"\"\"\n",
        "  Esta función transforma un sistema lineal Ax = b en otro equivalente con matriz \n",
        "  del sistema triangular superior y devuelve la solución al sistema calculada\n",
        "  mediante sustitución hacia atrás\n",
        "\n",
        "  Cada vez que hacemos un cálculo, nos quedamos con los sig dígitos signficativos\n",
        "\n",
        "  Args:\n",
        "    Ab: Array bidimensional de numpy (Matriz ampliada del sistema)\n",
        "    sig: Int que indica los dígitos significativos\n",
        "    verbose: Booleano para mostrar o no los resultados relevantes\n",
        "\n",
        "  Returns:\n",
        "    x: Array unidimensional con la solución del sistema\n",
        "  \"\"\"\n",
        "\n",
        "  # Pasamos todas las entradas del array bidimensional a tipo float\n",
        "  Ab = signif(Ab.astype(\"float\"), sig)\n",
        "  # Número de filas de Ab\n",
        "  n = Ab.shape[0]\n",
        "\n",
        "  # Convertimos la matriz del sistema en triangular superior\n",
        "  for k in range(n - 1):\n",
        "    Ab = signif(Ab, sig)\n",
        "    p = k\n",
        "    if Ab[k, k] == 0:\n",
        "      for i in range(k + 1, n):\n",
        "        if Ab[i, k] != 0:\n",
        "          p = i\n",
        "          break\n",
        "\n",
        "    if p == k and Ab[k,k] == 0: \n",
        "        print(\"El sistema no es compatible determinado\")\n",
        "        return\n",
        "\n",
        "    # Cambiamos las filas si es necesario\n",
        "    if p != k:\n",
        "      row = Ab[p].copy()\n",
        "      Ab[p] = Ab[k]\n",
        "      Ab[k] = row\n",
        "\n",
        "    for j in range(k + 1, n):\n",
        "      m = signif(signif(Ab[j, k], sig) / signif(Ab[k, k], sig), sig)\n",
        "      Ab[j] = signif(Ab[j] - signif(m * Ab[k], sig), sig)\n",
        "  \n",
        "  # Mostramos, si verbose = True, la matriz triangular superior resultante\n",
        "  if verbose:\n",
        "      print(\"Ab =\\n\", Ab)\n",
        "  \n",
        "  # Resolvemos el sistema con sustitución hacia atrás\n",
        "  x = np.empty(n)\n",
        "  x[n - 1] = signif(signif(Ab[n - 1, n], sig) / signif(Ab[n - 1, n - 1], sig), sig)\n",
        "  for i in range(n - 2, -1, -1):\n",
        "    x = signif(x, sig)\n",
        "    suma = 0.0\n",
        "    for j in range(i + 1, n):\n",
        "      suma = signif(suma + signif(Ab[i, j] * x[j], sig), sig)\n",
        "    x[i] = signif(signif(Ab[i, n] - suma, sig) / signif(Ab[i, i], sig), sig)\n",
        "\n",
        "  if verbose:\n",
        "    print(\"x =\", x)\n",
        "  \n",
        "  return x"
      ],
      "execution_count": 14,
      "outputs": []
    },
    {
      "cell_type": "code",
      "metadata": {
        "id": "z80SijaDJGF4",
        "outputId": "627c26cb-e549-4dab-803b-76640088fa3c",
        "colab": {
          "base_uri": "https://localhost:8080/"
        }
      },
      "source": [
        "x = metodoGaussSignif(Ab, verbose = True)"
      ],
      "execution_count": 15,
      "outputs": [
        {
          "output_type": "stream",
          "name": "stdout",
          "text": [
            "Ab =\n",
            " [[0.010534 0.02 -1.0]\n",
            " [0 0.1014 97.931]]\n",
            "x = [-1928.6 965.79]\n"
          ]
        }
      ]
    },
    {
      "cell_type": "markdown",
      "metadata": {
        "id": "P9yk4AEUmm_r"
      },
      "source": [
        "# Ejemplo 3: Método de Gauss con pivotaje parcial"
      ]
    },
    {
      "cell_type": "markdown",
      "metadata": {
        "id": "qzaxEXHpoht5"
      },
      "source": [
        "## Ejemplo 3.1: Método de Gauss con pivotaje parcial limitando el número de cifras significativas\n",
        "Dado un sistema lineal de la forma $\\mathbf{A}\\mathbf{x}=\\mathbf{b}$ que suponemos **compatible determinado**, es decir, con solución única, devuelve la solución del sistema usando el método de **eliminación de Gauss con pivotaje parcial** o con permutación de filas y resuelve el sistema resultante con matriz **triangular superior** por el método de **sustitución hacia atrás** suponiendo que se trabaja con $m$ **dígitos significativos**."
      ]
    },
    {
      "cell_type": "code",
      "metadata": {
        "id": "V_GxTRI5JXNQ"
      },
      "source": [
        "Ab = [[0.010534, 0.02, -1], \n",
        "     [1, 2, 3]]\n",
        "Ab = np.array(Ab)"
      ],
      "execution_count": 16,
      "outputs": []
    },
    {
      "cell_type": "code",
      "metadata": {
        "id": "YKu0leAdJh7t",
        "outputId": "76daa0ae-e418-4c08-fe79-e618ef2dcdb1",
        "colab": {
          "base_uri": "https://localhost:8080/"
        }
      },
      "source": [
        "print(Ab)"
      ],
      "execution_count": 17,
      "outputs": [
        {
          "output_type": "stream",
          "name": "stdout",
          "text": [
            "[[ 0.010534  0.02     -1.      ]\n",
            " [ 1.        2.        3.      ]]\n"
          ]
        }
      ]
    },
    {
      "cell_type": "code",
      "metadata": {
        "id": "49vLtJ8QJlcO"
      },
      "source": [
        "def pivotajeParcialSignif(Ab, sig = 5, verbose = False):\n",
        "  \"\"\"\n",
        "  Esta función transforma un sistema lineal Ax = b en otro equivalente con matriz\n",
        "  del sistema triangular superior mediante Pivotaje Parcial y devuelve la solución al sistema\n",
        "  calculada mediante sustitución hacia atrás \n",
        "\n",
        "  Cada vez que hacemos un cálculo, nos quedamos con los sig dígitos significativos\n",
        "\n",
        "  Args:\n",
        "    Ab: Array bidimensional de numpy (Matriz ampliada del sistema)\n",
        "    sig: Int que indica los dígitos significativos\n",
        "    verbose: Bolleano para mostrar o no los resultados relevantes\n",
        "\n",
        "  Returns:\n",
        "    x: Array unidimensional con la solución del sistema \n",
        "  \"\"\"\n",
        "  # Pasamos todas las entradas del array bidimensional a tipo float\n",
        "  Ab = signif(Ab.astype(\"float\"), sig)\n",
        "  # Número de filas de Ab\n",
        "  n = Ab.shape[0]\n",
        "\n",
        "  # Convertimos la matriz del sistema en triangular superior\n",
        "  for k in range(n - 1):\n",
        "    Ab = signif(Ab, sig)\n",
        "    p = k+abs(Ab[k:, k]).argmax()\n",
        "\n",
        "    if Ab[p, k] == 0:\n",
        "      print(\"El sistema no es compatible determinado\")\n",
        "      return\n",
        "\n",
        "    # Cambiamos las filas si es necesario\n",
        "    if p != k:\n",
        "      row = Ab[p].copy()\n",
        "      Ab[p] = Ab[k]\n",
        "      Ab[k] = row\n",
        "\n",
        "    for j in range(k + 1, n):\n",
        "      m = signif(signif(Ab[j, k], sig) / signif(Ab[k, k], sig), sig)\n",
        "      Ab[j] = signif(Ab[j] - signif(m * Ab[k], sig), sig)\n",
        "  \n",
        "  # Mostramos, si verbose = True, la matriz triangular superior resultante\n",
        "  if verbose:\n",
        "      print(\"Ab =\\n\", Ab)\n",
        "  \n",
        "  # Resolvemos el sistema con sustitución hacia atrás\n",
        "  x = np.empty(n)\n",
        "  x[n - 1] = signif(signif(Ab[n - 1, n], sig) / signif(Ab[n - 1, n - 1], sig), sig)\n",
        "  for i in range(n - 2, -1, -1):\n",
        "    x = signif(x, sig)\n",
        "    suma = 0.0\n",
        "    for j in range(i + 1, n):\n",
        "      suma = signif(suma + signif(Ab[i, j] * x[j], sig), sig)\n",
        "    x[i] = signif(signif(Ab[i, n] - suma, sig) / signif(Ab[i, i], sig), sig)\n",
        "\n",
        "  if verbose:\n",
        "    print(\"x =\", x)\n",
        "  \n",
        "  return x"
      ],
      "execution_count": 20,
      "outputs": []
    },
    {
      "cell_type": "code",
      "metadata": {
        "id": "3BG_xnmcQjAQ",
        "outputId": "ea565b9e-54fc-451a-ea50-1bef4e5415f3",
        "colab": {
          "base_uri": "https://localhost:8080/"
        }
      },
      "source": [
        "x = pivotajeParcialSignif(Ab, verbose = True)"
      ],
      "execution_count": 21,
      "outputs": [
        {
          "output_type": "stream",
          "name": "stdout",
          "text": [
            "Ab =\n",
            " [[1.0 2.0 3.0]\n",
            " [0 -0.001068 -1.0316]]\n",
            "x = [-1928.8 965.92]\n"
          ]
        }
      ]
    },
    {
      "cell_type": "markdown",
      "metadata": {
        "id": "S-BtQR5eob8d"
      },
      "source": [
        "## Ejemplo 3.2: Método de Gauss con Pivotaje Parcial\n",
        "Dado un sistema lineal de la forma $\\mathbf{A}\\mathbf{x}=\\mathbf{b}$ que suponemos **compatible determinado**, es decir, con solución única, devuelve la solución del sistema usando el método de **eliminación de Gauss con pivotaje parcial** o con permutación de filas y resuelve el sistema resultante con matriz **triangular superior** por el método de **sustitución hacia atrás.**"
      ]
    },
    {
      "cell_type": "code",
      "metadata": {
        "id": "z9rUgKijRayT"
      },
      "source": [
        "Ab = [[1, 1, -3, -1, -2, 2], \n",
        "     [1, 2, 2, 0, 3, 2], \n",
        "     [1, -1, 3, 2, 0, 2],\n",
        "     [0, 1, 0, 4, -1, 3], \n",
        "     [1, 3, 1, 0, 5, 1]]\n",
        "Ab = np.array(Ab)"
      ],
      "execution_count": 22,
      "outputs": []
    },
    {
      "cell_type": "code",
      "metadata": {
        "id": "N1Gx8Wz4RwFN",
        "outputId": "f4f8b62d-613f-41e7-9d88-8f6bdaa3bb2c",
        "colab": {
          "base_uri": "https://localhost:8080/"
        }
      },
      "source": [
        "print(Ab)"
      ],
      "execution_count": 23,
      "outputs": [
        {
          "output_type": "stream",
          "name": "stdout",
          "text": [
            "[[ 1  1 -3 -1 -2  2]\n",
            " [ 1  2  2  0  3  2]\n",
            " [ 1 -1  3  2  0  2]\n",
            " [ 0  1  0  4 -1  3]\n",
            " [ 1  3  1  0  5  1]]\n"
          ]
        }
      ]
    },
    {
      "cell_type": "code",
      "metadata": {
        "id": "fsDrZnLpRxc_"
      },
      "source": [
        "def pivotajeParcial(Ab, verbose = False):\n",
        "  \"\"\"\n",
        "  Esta función transforma un sistema lineal Ax = b en otro equivalente con matriz \n",
        "  del sistema triangular superior mediante Pivotaje Parcial y devuelve la \n",
        "  solución al sistema calculada mediante sustitución hacia atrás\n",
        "  \n",
        "  Args:\n",
        "    Ab: Array bidimensional de numpy (Matriz ampliada del sistema)\n",
        "    verbose: Booleano para mostrar o no los resultados relevantes\n",
        "\n",
        "  Returns:\n",
        "    x: Array unidimensional con la solución del sistema\n",
        "  \"\"\"\n",
        "\n",
        "  # Pasamos todas las entradas del array bidimensional a tipo float\n",
        "  Ab = Ab.astype(\"float\")\n",
        "  # Número de filas de Ab\n",
        "  n = Ab.shape[0]\n",
        "\n",
        "  # Convertimos la matriz del sistema en triangular superior\n",
        "  for k in range(n - 1):\n",
        "    p = k+abs(Ab[k:, k]).argmax()\n",
        "\n",
        "    if Ab[p, k] == 0:\n",
        "      print(\"El sistema no es compatible determinado\")\n",
        "      return\n",
        "\n",
        "    # Cambiamos las filas si es necesario\n",
        "    if p != k:\n",
        "      row = Ab[p].copy()\n",
        "      Ab[p] = Ab[k]\n",
        "      Ab[k] = row\n",
        "\n",
        "    for j in range(k + 1, n):\n",
        "      m = Ab[j, k] / Ab[k, k]\n",
        "      Ab[j] = Ab[j] - m * Ab[k]\n",
        "  \n",
        "  # Mostramos, si verbose = True, la matriz triangular superior resultante\n",
        "  if verbose:\n",
        "      print(\"Ab =\\n\", Ab)\n",
        "  \n",
        "  # Resolvemos el sistema con sustitución hacia atrás\n",
        "  x = sustitucionAtras(Ab)\n",
        "\n",
        "  if verbose:\n",
        "    print(\"x =\", x)\n",
        "  \n",
        "  return x"
      ],
      "execution_count": 31,
      "outputs": []
    },
    {
      "cell_type": "code",
      "metadata": {
        "id": "n41ujLeSUF9t",
        "outputId": "b7087f23-d35f-41f2-aa29-1f725cc24996",
        "colab": {
          "base_uri": "https://localhost:8080/"
        }
      },
      "source": [
        "x = pivotajeParcial(Ab, verbose = True)"
      ],
      "execution_count": 32,
      "outputs": [
        {
          "output_type": "stream",
          "name": "stdout",
          "text": [
            "Ab =\n",
            " [[ 1.          1.         -3.         -1.         -2.          2.        ]\n",
            " [ 0.         -2.          6.          3.          2.          0.        ]\n",
            " [ 0.          0.         10.          4.          9.         -1.        ]\n",
            " [ 0.          0.          0.          4.3        -2.7         3.3       ]\n",
            " [ 0.          0.          0.          0.         -1.63953488  1.3372093 ]]\n",
            "x = [ 1.05673759  1.16312057  0.53191489  0.25531915 -0.81560284]\n"
          ]
        }
      ]
    },
    {
      "cell_type": "markdown",
      "metadata": {
        "id": "KZ5qeEDwrfEm"
      },
      "source": [
        "# Ejemplo 4: Método de Gauss con Pivotaje Maximal\n",
        "Dado un sistema lineal de la forma $\\mathbf{A}\\mathbf{x}=\\mathbf{b}$ que suponemos **compatible determinado**, es decir, con solución única, devuelve la solución del sistema usando el método de **eliminación de Gauss con pivotaje maximal** o con permutación de filas y columnas y resuelve el sistema resultante con matriz **triangular superior** por el método de **sustitución hacia atrás.**"
      ]
    },
    {
      "cell_type": "code",
      "metadata": {
        "id": "38jWDz1SUuBE"
      },
      "source": [
        "Ab = [[1, 1, -3, -1, -2, 2], \n",
        "     [1, 2, 2, 0, 3, 2], \n",
        "     [1, -1, 3, 2, 0, 2],\n",
        "     [0, 1, 0, 4, -1, 3], \n",
        "     [1, 3, 1, 0, 5, 1]]\n",
        "Ab = np.array(Ab)"
      ],
      "execution_count": 33,
      "outputs": []
    },
    {
      "cell_type": "code",
      "metadata": {
        "id": "yzerpUQgU_9X",
        "outputId": "264b9bdb-5e2a-469e-dbad-28ccb772d5dc",
        "colab": {
          "base_uri": "https://localhost:8080/"
        }
      },
      "source": [
        "print(Ab)"
      ],
      "execution_count": 34,
      "outputs": [
        {
          "output_type": "stream",
          "name": "stdout",
          "text": [
            "[[ 1  1 -3 -1 -2  2]\n",
            " [ 1  2  2  0  3  2]\n",
            " [ 1 -1  3  2  0  2]\n",
            " [ 0  1  0  4 -1  3]\n",
            " [ 1  3  1  0  5  1]]\n"
          ]
        }
      ]
    },
    {
      "cell_type": "code",
      "metadata": {
        "id": "rfd4Z2kJVB3n"
      },
      "source": [
        "def pivotajeMaximal(Ab, verbose = False):\n",
        "  \"\"\"\n",
        "  Esta función trasforma un sistema lineal Ax = b en otro equivalente con matriz\n",
        "  del sistema triangular superior mediante Pivotaje Maximal y devuelve la solución \n",
        "  al sistema calculada mediante sustitución hacia atrás\n",
        "\n",
        "  Args:\n",
        "    Ab: Array bidimensional de numpy (Matriz ampliada del sistema)\n",
        "    verbose: Booleano para mostrar o no los resultados relevantes\n",
        "  \n",
        "  Returns: \n",
        "    x: Array unidimensional con la solución del sistema\n",
        "  \n",
        "  \"\"\"\n",
        "\n",
        "  # Pasamos todas las entradas del array bidimensional a tipo float\n",
        "  Ab = Ab.astype(\"float\")\n",
        "  \n"
      ],
      "execution_count": null,
      "outputs": []
    }
  ]
}