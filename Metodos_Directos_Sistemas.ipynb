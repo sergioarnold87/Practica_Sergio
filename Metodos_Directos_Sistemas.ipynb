{
  "nbformat": 4,
  "nbformat_minor": 0,
  "metadata": {
    "colab": {
      "name": "Metodos_Directos_Sistemas.ipynb",
      "provenance": [],
      "collapsed_sections": [],
      "toc_visible": true,
      "authorship_tag": "ABX9TyMlpC83jvjofRFKnltBHDKY",
      "include_colab_link": true
    },
    "kernelspec": {
      "name": "python3",
      "display_name": "Python 3"
    },
    "language_info": {
      "name": "python"
    }
  },
  "cells": [
    {
      "cell_type": "markdown",
      "metadata": {
        "id": "view-in-github",
        "colab_type": "text"
      },
      "source": [
        "<a href=\"https://colab.research.google.com/github/sergioarnold87/Practica_Sergio/blob/main/Metodos_Directos_Sistemas.ipynb\" target=\"_parent\"><img src=\"https://colab.research.google.com/assets/colab-badge.svg\" alt=\"Open In Colab\"/></a>"
      ]
    },
    {
      "cell_type": "markdown",
      "metadata": {
        "id": "QQGhALXaHMq9"
      },
      "source": [
        "# Librerías necesarias"
      ]
    },
    {
      "cell_type": "code",
      "metadata": {
        "id": "959p7o6GHSae"
      },
      "source": [
        "import numpy as np\n",
        "import math"
      ],
      "execution_count": 29,
      "outputs": []
    },
    {
      "cell_type": "markdown",
      "metadata": {
        "id": "2XIQvWfxHWmx"
      },
      "source": [
        "# Función Helper"
      ]
    },
    {
      "cell_type": "code",
      "metadata": {
        "id": "s50EhLIZHVZw"
      },
      "source": [
        "def sustitucionAtras(Ab):\n",
        "  \"\"\"\n",
        "  Esta función resuelve un sistema triangular superior mediante sustitución hacia atrás\n",
        "\n",
        "  Args:\n",
        "    Ab: Array bidimensional (Matriz ampliada del sistema triangular superior)\n",
        "    verbose: Booleano para mostrar o no los resultados relevantes\n",
        "\n",
        "  Returns:\n",
        "    x: Array unidimensional con la solución del sistema\n",
        "  \"\"\"\n",
        "\n",
        "  n = Ab.shape[0]\n",
        "  x = np.empty(n)\n",
        "  x[n - 1] = Ab[n - 1, n] / Ab[n - 1, n - 1]\n",
        "  for i in range(n - 2, -1, -1):\n",
        "    x[i] = (Ab[i, n] - np.sum(Ab[i, (i + 1):n] * x[(i + 1):n])) / Ab[i, i]\n",
        "\n",
        "  return x"
      ],
      "execution_count": 30,
      "outputs": []
    },
    {
      "cell_type": "code",
      "metadata": {
        "id": "oWQPQ7XPNIcl"
      },
      "source": [
        "def sustitucionDelante(Ab):\n",
        "  \"\"\"\n",
        "  Esta función resuelve un sistema triangular inferior mediante sustitución\n",
        "  hacia delante\n",
        "\n",
        "  Args:\n",
        "    Ab: Array bidimensional (Matriz ampliada del sistema triangular inferior)\n",
        "\n",
        "  Returns:\n",
        "    x: Array unidimensional con la solución del sistema\n",
        "  \"\"\"\n",
        "  n = Ab.shape[0]\n",
        "  x = np.empty(n)\n",
        "  x[0] = Ab[0, n] / Ab[0, 0]\n",
        "  for i in range(1, n):\n",
        "    x[i] = (Ab[i, n] - np.sum(Ab[i, :i] * x[:i])) / Ab[i, i]\n",
        "\n",
        "  return x"
      ],
      "execution_count": 31,
      "outputs": []
    },
    {
      "cell_type": "markdown",
      "metadata": {
        "id": "FMJVp71oaWoD"
      },
      "source": [
        "# Ejemplo 1: Método de eliminación de Gauss para resolver un sistema lineal de ecuaciones\n",
        "Dado un sistema lineal de la forma $\\mathbf{A}\\mathbf{x}=\\mathbf{b}$ que suponemos **compatible determinado**, es decir, con solución única, devuelve la solución del sistema usando el método de **eliminación de Gauss** y resuelve el sistema resultante con matriz **triangular superior** por el método de **sustitución hacia atrás.**"
      ]
    },
    {
      "cell_type": "code",
      "metadata": {
        "id": "Hwhhx0x0NRKE"
      },
      "source": [
        "Ab = [[1, 1, -3, -1, -2, 2], \n",
        "     [1, 2, 2, 0, 3, 2], \n",
        "     [1, -1, 3, 2, 0, 2],\n",
        "     [0, 1, 0, 4, -1, 3], \n",
        "     [1, 3, 1, 0, 5, 1]]\n",
        "Ab = np.array(Ab)"
      ],
      "execution_count": 32,
      "outputs": []
    },
    {
      "cell_type": "code",
      "metadata": {
        "colab": {
          "base_uri": "https://localhost:8080/"
        },
        "id": "5rWDHcOYNg1B",
        "outputId": "14c1635b-c342-4354-f686-a9adf809b2c2"
      },
      "source": [
        "print(Ab)"
      ],
      "execution_count": 33,
      "outputs": [
        {
          "output_type": "stream",
          "name": "stdout",
          "text": [
            "[[ 1  1 -3 -1 -2  2]\n",
            " [ 1  2  2  0  3  2]\n",
            " [ 1 -1  3  2  0  2]\n",
            " [ 0  1  0  4 -1  3]\n",
            " [ 1  3  1  0  5  1]]\n"
          ]
        }
      ]
    },
    {
      "cell_type": "code",
      "metadata": {
        "id": "y7PXU63PNjVM"
      },
      "source": [
        "def metodoGauss(Ab, verbose = False):\n",
        "  \"\"\"\n",
        "  Esta función transforma un sistema lineal Ax = b en otro equivalente con matriz \n",
        "  del sistema triangular superior y devuelve la solución al sistema calculada\n",
        "  mediante sustitución hacia atrás\n",
        "\n",
        "  Args:\n",
        "    Ab: Array bidimensional de numpy (Matriz ampliada del sistema)\n",
        "    verbose: Booleano para mostrar o no los resultados relevantes\n",
        "  Returns:\n",
        "    x: Array unidimensional con la solución del sistema\n",
        "\n",
        "  \"\"\"\n",
        "\n",
        "  # Pasamos todas las entradas del array bidimensional a tipo float\n",
        "  Ab = Ab.astype(\"float\")\n",
        "  # Número de filas de Ab\n",
        "  n = Ab.shape[0]\n",
        "\n",
        "  # Convertimos la matriz del sistema en triangular superior \n",
        "  for k in range(n - 1):\n",
        "    p = k\n",
        "    if Ab[k, k] == 0:\n",
        "      for i in range(k + 1, n):\n",
        "        if Ab[i, k] != 0:\n",
        "          p = i\n",
        "          break\n",
        "\n",
        "    if p == k and Ab[k,k] == 0:\n",
        "        print(\"El sistema no es compatible determinado\")\n",
        "        return\n",
        "    \n",
        "    # Cambiamos las filas si es necesario\n",
        "    if p != k:\n",
        "      row = Ab[p].copy()\n",
        "      Ab[p] = Ab[k]\n",
        "      Ab[k] = row\n",
        "\n",
        "    for j in range(k + 1, n):\n",
        "      m = Ab[j, k] / Ab[k, k]\n",
        "      Ab[j] = Ab[j] - m  * Ab[k]\n",
        "\n",
        "  # Mostramos, si verbose = True, la matriz triangular superior resultante\n",
        "  if verbose:\n",
        "      print(\"Ab =\\n\", Ab)\n",
        "\n",
        "  # Mostramos, si verbose = True, la matriz triangular superior resultante\n",
        "  if verbose:\n",
        "      print(\"Ab =\\n\", Ab)\n",
        "\n",
        "  # Resolvemos el sistema con sustitución hacia atrás\n",
        "  x = sustitucionAtras(Ab)\n",
        "\n",
        "  if verbose:\n",
        "    print(\"X =\", x)\n",
        "  \n",
        "  return x"
      ],
      "execution_count": 34,
      "outputs": []
    },
    {
      "cell_type": "code",
      "metadata": {
        "colab": {
          "base_uri": "https://localhost:8080/"
        },
        "id": "XyjatAFFTzBx",
        "outputId": "6ace7790-5f9a-4393-fbaf-51a16666b3ea"
      },
      "source": [
        "x = metodoGauss(Ab, verbose = True)"
      ],
      "execution_count": 35,
      "outputs": [
        {
          "output_type": "stream",
          "name": "stdout",
          "text": [
            "Ab =\n",
            " [[ 1.          1.         -3.         -1.         -2.          2.        ]\n",
            " [ 0.          1.          5.          1.          5.          0.        ]\n",
            " [ 0.          0.         16.          5.         12.          0.        ]\n",
            " [ 0.          0.          0.          4.5625     -2.25        3.        ]\n",
            " [ 0.          0.          0.          0.          1.93150685 -1.57534247]]\n",
            "Ab =\n",
            " [[ 1.          1.         -3.         -1.         -2.          2.        ]\n",
            " [ 0.          1.          5.          1.          5.          0.        ]\n",
            " [ 0.          0.         16.          5.         12.          0.        ]\n",
            " [ 0.          0.          0.          4.5625     -2.25        3.        ]\n",
            " [ 0.          0.          0.          0.          1.93150685 -1.57534247]]\n",
            "X = [ 1.05673759  1.16312057  0.53191489  0.25531915 -0.81560284]\n"
          ]
        }
      ]
    },
    {
      "cell_type": "code",
      "metadata": {
        "colab": {
          "base_uri": "https://localhost:8080/"
        },
        "id": "-e84H-6gT3DW",
        "outputId": "8af6fc1f-5d50-4fb6-a632-387bfa5fadb0"
      },
      "source": [
        "B = [[0, 1, 0, 4, -1, 3],\n",
        "     [1, 1, -3, -1, -2, 2], \n",
        "     [1, 2, 2, 0, 3, 2], \n",
        "     [1, -1, 3, 2, 0, 2], \n",
        "     [1, 3, 1, 0, 5, 1]]\n",
        "B = np.array(B)\n",
        "y = metodoGauss(B)\n",
        "print(y)"
      ],
      "execution_count": 36,
      "outputs": [
        {
          "output_type": "stream",
          "name": "stdout",
          "text": [
            "[ 1.05673759  1.16312057  0.53191489  0.25531915 -0.81560284]\n"
          ]
        }
      ]
    },
    {
      "cell_type": "markdown",
      "metadata": {
        "id": "DJmViX12F1Sc"
      },
      "source": [
        "# ***Ejemplo 2: Sistema mal condicionado***\n",
        "Dado un sistema lineal $\\mathbf{A}\\mathbf{x}=\\mathbf{b}$ mal condicionado, es decir $|\\mathrm{det}(\\mathbf{A})|<<1$, da la solución de sistema $\\mathbf{x}$ usando el método de **eliminación de Gauss** y **sustitución hacia atrás** suponiendo que se trabaja com $m$ **dígitos significativos**.\n"
      ]
    },
    {
      "cell_type": "code",
      "metadata": {
        "id": "Zhym4VZRVE8U"
      },
      "source": [
        "Ab = [[0.010534, 0.02, -1],\n",
        "      [1, 2, 3]]\n",
        "Ab = np.array(Ab)"
      ],
      "execution_count": 37,
      "outputs": []
    },
    {
      "cell_type": "code",
      "metadata": {
        "colab": {
          "base_uri": "https://localhost:8080/"
        },
        "id": "ex6lU2E-Ltm_",
        "outputId": "ca2734de-17ed-40f8-e4e3-cea39b08e0be"
      },
      "source": [
        "print(Ab)"
      ],
      "execution_count": 38,
      "outputs": [
        {
          "output_type": "stream",
          "name": "stdout",
          "text": [
            "[[ 0.010534  0.02     -1.      ]\n",
            " [ 1.        2.        3.      ]]\n"
          ]
        }
      ]
    },
    {
      "cell_type": "code",
      "metadata": {
        "id": "QC41FDrLLyHE"
      },
      "source": [
        "def signif(x, m = 0):\n",
        "  \"\"\"\n",
        "  Esta función devuelve el número x con m dígitos significativos \n",
        "\n",
        "  Args:\n",
        "    x: Float\n",
        "    m: Int (Número de dígitos significtivos)\n",
        "\n",
        "  Returns:\n",
        "    Valor float x con m dígitos significativos\n",
        "  \"\"\"\n",
        "  if x == 0:\n",
        "    return 0\n",
        "  else:\n",
        "    return round(x, ndigits = m -1 - int(math.floor(math.log10(abs(x))))) "
      ],
      "execution_count": 39,
      "outputs": []
    },
    {
      "cell_type": "code",
      "metadata": {
        "id": "9X0XcoFTQqZP"
      },
      "source": [
        "# Convertimos la función signif a función universal\n",
        "signif = np.frompyfunc(signif, 2, 1)"
      ],
      "execution_count": 40,
      "outputs": []
    },
    {
      "cell_type": "code",
      "metadata": {
        "id": "liAQwC5YJFoL"
      },
      "source": [
        ""
      ],
      "execution_count": 40,
      "outputs": []
    },
    {
      "cell_type": "code",
      "metadata": {
        "id": "gfW7IQ5ciHeM"
      },
      "source": [
        "def metodoGaussSignif(Ab, sig = 5, verbose = False):\n",
        "  \"\"\"\n",
        "  Esta función transforma un sistema lineal Ax = b en otro equivalente con matriz \n",
        "  del sistema triangular superior y devuelve la solución al sistema calculada\n",
        "  mediante sustitución hacia atrás\n",
        "\n",
        "  Cada vez que hacemos un cálculo, nos quedamos con los sig dígitos signficativos\n",
        "\n",
        "  Args:\n",
        "    Ab: Array bidimensional de numpy (Matriz ampliada del sistema)\n",
        "    sig: Int que indica los dígitos significativos\n",
        "    verbose: Booleano para mostrar o no los resultados relevantes\n",
        "\n",
        "  Returns:\n",
        "    x: Array unidimensional con la solución del sistema\n",
        "  \"\"\"\n",
        "\n",
        "  # Pasamos todas las entradas del array bidimensional a tipo float\n",
        "  Ab = signif(Ab.astype(\"float\"), sig)\n",
        "  # Número de filas de Ab\n",
        "  n = Ab.shape[0]\n",
        "\n",
        "  # Convertimos la matriz del sistema en triangular superior\n",
        "  for k in range(n - 1):\n",
        "    Ab = signif(Ab, sig)\n",
        "    p = k\n",
        "    if Ab[k, k] == 0:\n",
        "      for i in range(k + 1, n):\n",
        "        if Ab[i, k] != 0:\n",
        "          p = i\n",
        "          break\n",
        "\n",
        "    if p == k and Ab[k,k] == 0: \n",
        "        print(\"El sistema no es compatible determinado\")\n",
        "        return\n",
        "\n",
        "    # Cambiamos las filas si es necesario\n",
        "    if p != k:\n",
        "      row = Ab[p].copy()\n",
        "      Ab[p] = Ab[k]\n",
        "      Ab[k] = row\n",
        "\n",
        "    for j in range(k + 1, n):\n",
        "      m = signif(signif(Ab[j, k], sig) / signif(Ab[k, k], sig), sig)\n",
        "      Ab[j] = signif(Ab[j] - signif(m * Ab[k], sig), sig)\n",
        "  \n",
        "  # Mostramos, si verbose = True, la matriz triangular superior resultante\n",
        "  if verbose:\n",
        "      print(\"Ab =\\n\", Ab)\n",
        "  \n",
        "  # Resolvemos el sistema con sustitución hacia atrás\n",
        "  x = np.empty(n)\n",
        "  x[n - 1] = signif(signif(Ab[n - 1, n], sig) / signif(Ab[n - 1, n - 1], sig), sig)\n",
        "  for i in range(n - 2, -1, -1):\n",
        "    x = signif(x, sig)\n",
        "    suma = 0.0\n",
        "    for j in range(i + 1, n):\n",
        "      suma = signif(suma + signif(Ab[i, j] * x[j], sig), sig)\n",
        "    x[i] = signif(signif(Ab[i, n] - suma, sig) / signif(Ab[i, i], sig), sig)\n",
        "\n",
        "  if verbose:\n",
        "    print(\"x =\", x)\n",
        "  \n",
        "  return x"
      ],
      "execution_count": 41,
      "outputs": []
    },
    {
      "cell_type": "code",
      "metadata": {
        "colab": {
          "base_uri": "https://localhost:8080/"
        },
        "id": "z80SijaDJGF4",
        "outputId": "d80941d9-a5bd-49d1-983d-e9f651e5d0d0"
      },
      "source": [
        "x = metodoGaussSignif(Ab, verbose = True)"
      ],
      "execution_count": 42,
      "outputs": [
        {
          "output_type": "stream",
          "name": "stdout",
          "text": [
            "Ab =\n",
            " [[0.010534 0.02 -1.0]\n",
            " [0 0.1014 97.931]]\n",
            "x = [-1928.6 965.79]\n"
          ]
        }
      ]
    },
    {
      "cell_type": "markdown",
      "metadata": {
        "id": "P9yk4AEUmm_r"
      },
      "source": [
        "# Ejemplo 3: Método de Gauss con pivotaje parcial"
      ]
    },
    {
      "cell_type": "markdown",
      "metadata": {
        "id": "qzaxEXHpoht5"
      },
      "source": [
        "## Ejemplo 3.1: Método de Gauss con pivotaje parcial limitando el número de cifras significativas\n",
        "Dado un sistema lineal de la forma $\\mathbf{A}\\mathbf{x}=\\mathbf{b}$ que suponemos **compatible determinado**, es decir, con solución única, devuelve la solución del sistema usando el método de **eliminación de Gauss con pivotaje parcial** o con permutación de filas y resuelve el sistema resultante con matriz **triangular superior** por el método de **sustitución hacia atrás** suponiendo que se trabaja con $m$ **dígitos significativos**."
      ]
    },
    {
      "cell_type": "code",
      "metadata": {
        "id": "V_GxTRI5JXNQ"
      },
      "source": [
        "Ab = [[0.010534, 0.02, -1], \n",
        "     [1, 2, 3]]\n",
        "Ab = np.array(Ab)"
      ],
      "execution_count": 43,
      "outputs": []
    },
    {
      "cell_type": "code",
      "metadata": {
        "colab": {
          "base_uri": "https://localhost:8080/"
        },
        "id": "YKu0leAdJh7t",
        "outputId": "0e8fe8d5-f9d1-44b2-b1c4-cbd8e43127aa"
      },
      "source": [
        "print(Ab)"
      ],
      "execution_count": 44,
      "outputs": [
        {
          "output_type": "stream",
          "name": "stdout",
          "text": [
            "[[ 0.010534  0.02     -1.      ]\n",
            " [ 1.        2.        3.      ]]\n"
          ]
        }
      ]
    },
    {
      "cell_type": "code",
      "metadata": {
        "id": "49vLtJ8QJlcO"
      },
      "source": [
        "def pivotajeParcialSignif(Ab, sig = 5, verbose = False):\n",
        "  \"\"\"\n",
        "  Esta función transforma un sistema lineal Ax = b en otro equivalente con matriz\n",
        "  del sistema triangular superior mediante Pivotaje Parcial y devuelve la solución al sistema\n",
        "  calculada mediante sustitución hacia atrás \n",
        "\n",
        "  Cada vez que hacemos un cálculo, nos quedamos con los sig dígitos significativos\n",
        "\n",
        "  Args:\n",
        "    Ab: Array bidimensional de numpy (Matriz ampliada del sistema)\n",
        "    sig: Int que indica los dígitos significativos\n",
        "    verbose: Bolleano para mostrar o no los resultados relevantes\n",
        "\n",
        "  Returns:\n",
        "    x: Array unidimensional con la solución del sistema \n",
        "  \"\"\"\n",
        "  # Pasamos todas las entradas del array bidimensional a tipo float\n",
        "  Ab = signif(Ab.astype(\"float\"), sig)\n",
        "  # Número de filas de Ab\n",
        "  n = Ab.shape[0]\n",
        "\n",
        "  # Convertimos la matriz del sistema en triangular superior\n",
        "  for k in range(n - 1):\n",
        "    Ab = signif(Ab, sig)\n",
        "    p = k+abs(Ab[k:, k]).argmax()\n",
        "\n",
        "    if Ab[p, k] == 0:\n",
        "      print(\"El sistema no es compatible determinado\")\n",
        "      return\n",
        "\n",
        "    # Cambiamos las filas si es necesario\n",
        "    if p != k:\n",
        "      row = Ab[p].copy()\n",
        "      Ab[p] = Ab[k]\n",
        "      Ab[k] = row\n",
        "\n",
        "    for j in range(k + 1, n):\n",
        "      m = signif(signif(Ab[j, k], sig) / signif(Ab[k, k], sig), sig)\n",
        "      Ab[j] = signif(Ab[j] - signif(m * Ab[k], sig), sig)\n",
        "  \n",
        "  # Mostramos, si verbose = True, la matriz triangular superior resultante\n",
        "  if verbose:\n",
        "      print(\"Ab =\\n\", Ab)\n",
        "  \n",
        "  # Resolvemos el sistema con sustitución hacia atrás\n",
        "  x = np.empty(n)\n",
        "  x[n - 1] = signif(signif(Ab[n - 1, n], sig) / signif(Ab[n - 1, n - 1], sig), sig)\n",
        "  for i in range(n - 2, -1, -1):\n",
        "    x = signif(x, sig)\n",
        "    suma = 0.0\n",
        "    for j in range(i + 1, n):\n",
        "      suma = signif(suma + signif(Ab[i, j] * x[j], sig), sig)\n",
        "    x[i] = signif(signif(Ab[i, n] - suma, sig) / signif(Ab[i, i], sig), sig)\n",
        "\n",
        "  if verbose:\n",
        "    print(\"x =\", x)\n",
        "  \n",
        "  return x"
      ],
      "execution_count": 45,
      "outputs": []
    },
    {
      "cell_type": "code",
      "metadata": {
        "colab": {
          "base_uri": "https://localhost:8080/"
        },
        "id": "3BG_xnmcQjAQ",
        "outputId": "d7ab96a3-b94b-48dd-fd47-1d1752d9fd38"
      },
      "source": [
        "x = pivotajeParcialSignif(Ab, verbose = True)"
      ],
      "execution_count": 46,
      "outputs": [
        {
          "output_type": "stream",
          "name": "stdout",
          "text": [
            "Ab =\n",
            " [[1.0 2.0 3.0]\n",
            " [0 -0.001068 -1.0316]]\n",
            "x = [-1928.8 965.92]\n"
          ]
        }
      ]
    },
    {
      "cell_type": "markdown",
      "metadata": {
        "id": "S-BtQR5eob8d"
      },
      "source": [
        "## Ejemplo 3.2: Método de Gauss con Pivotaje Parcial\n",
        "Dado un sistema lineal de la forma $\\mathbf{A}\\mathbf{x}=\\mathbf{b}$ que suponemos **compatible determinado**, es decir, con solución única, devuelve la solución del sistema usando el método de **eliminación de Gauss con pivotaje parcial** o con permutación de filas y resuelve el sistema resultante con matriz **triangular superior** por el método de **sustitución hacia atrás.**"
      ]
    },
    {
      "cell_type": "code",
      "metadata": {
        "id": "z9rUgKijRayT"
      },
      "source": [
        "Ab = [[1, 1, -3, -1, -2, 2], \n",
        "     [1, 2, 2, 0, 3, 2], \n",
        "     [1, -1, 3, 2, 0, 2],\n",
        "     [0, 1, 0, 4, -1, 3], \n",
        "     [1, 3, 1, 0, 5, 1]]\n",
        "Ab = np.array(Ab)"
      ],
      "execution_count": 47,
      "outputs": []
    },
    {
      "cell_type": "code",
      "metadata": {
        "colab": {
          "base_uri": "https://localhost:8080/"
        },
        "id": "N1Gx8Wz4RwFN",
        "outputId": "cfbbb4fd-3577-4ebe-dc8c-c517b056a686"
      },
      "source": [
        "print(Ab)"
      ],
      "execution_count": 48,
      "outputs": [
        {
          "output_type": "stream",
          "name": "stdout",
          "text": [
            "[[ 1  1 -3 -1 -2  2]\n",
            " [ 1  2  2  0  3  2]\n",
            " [ 1 -1  3  2  0  2]\n",
            " [ 0  1  0  4 -1  3]\n",
            " [ 1  3  1  0  5  1]]\n"
          ]
        }
      ]
    },
    {
      "cell_type": "code",
      "metadata": {
        "id": "fsDrZnLpRxc_"
      },
      "source": [
        "def pivotajeParcial(Ab, verbose = False):\n",
        "  \"\"\"\n",
        "  Esta función transforma un sistema lineal Ax = b en otro equivalente con matriz \n",
        "  del sistema triangular superior mediante Pivotaje Parcial y devuelve la \n",
        "  solución al sistema calculada mediante sustitución hacia atrás\n",
        "  \n",
        "  Args:\n",
        "    Ab: Array bidimensional de numpy (Matriz ampliada del sistema)\n",
        "    verbose: Booleano para mostrar o no los resultados relevantes\n",
        "\n",
        "  Returns:\n",
        "    x: Array unidimensional con la solución del sistema\n",
        "  \"\"\"\n",
        "\n",
        "  # Pasamos todas las entradas del array bidimensional a tipo float\n",
        "  Ab = Ab.astype(\"float\")\n",
        "  # Número de filas de Ab\n",
        "  n = Ab.shape[0]\n",
        "\n",
        "  # Convertimos la matriz del sistema en triangular superior\n",
        "  for k in range(n - 1):\n",
        "    p = k+abs(Ab[k:, k]).argmax()\n",
        "\n",
        "    if Ab[p, k] == 0:\n",
        "      print(\"El sistema no es compatible determinado\")\n",
        "      return\n",
        "\n",
        "    # Cambiamos las filas si es necesario\n",
        "    if p != k:\n",
        "      row = Ab[p].copy()\n",
        "      Ab[p] = Ab[k]\n",
        "      Ab[k] = row\n",
        "\n",
        "    for j in range(k + 1, n):\n",
        "      m = Ab[j, k] / Ab[k, k]\n",
        "      Ab[j] = Ab[j] - m * Ab[k]\n",
        "  \n",
        "  # Mostramos, si verbose = True, la matriz triangular superior resultante\n",
        "  if verbose:\n",
        "      print(\"Ab =\\n\", Ab)\n",
        "  \n",
        "  # Resolvemos el sistema con sustitución hacia atrás\n",
        "  x = sustitucionAtras(Ab)\n",
        "\n",
        "  if verbose:\n",
        "    print(\"x =\", x)\n",
        "  \n",
        "  return x"
      ],
      "execution_count": 49,
      "outputs": []
    },
    {
      "cell_type": "code",
      "metadata": {
        "colab": {
          "base_uri": "https://localhost:8080/"
        },
        "id": "n41ujLeSUF9t",
        "outputId": "1190049f-bf1e-4b36-a508-770e23367a29"
      },
      "source": [
        "x = pivotajeParcial(Ab, verbose = True)"
      ],
      "execution_count": 50,
      "outputs": [
        {
          "output_type": "stream",
          "name": "stdout",
          "text": [
            "Ab =\n",
            " [[ 1.          1.         -3.         -1.         -2.          2.        ]\n",
            " [ 0.         -2.          6.          3.          2.          0.        ]\n",
            " [ 0.          0.         10.          4.          9.         -1.        ]\n",
            " [ 0.          0.          0.          4.3        -2.7         3.3       ]\n",
            " [ 0.          0.          0.          0.         -1.63953488  1.3372093 ]]\n",
            "x = [ 1.05673759  1.16312057  0.53191489  0.25531915 -0.81560284]\n"
          ]
        }
      ]
    },
    {
      "cell_type": "markdown",
      "metadata": {
        "id": "KZ5qeEDwrfEm"
      },
      "source": [
        "# Ejemplo 4: Método de Gauss con Pivotaje Maximal\n",
        "Dado un sistema lineal de la forma $\\mathbf{A}\\mathbf{x}=\\mathbf{b}$ que suponemos **compatible determinado**, es decir, con solución única, devuelve la solución del sistema usando el método de **eliminación de Gauss con pivotaje maximal** o con permutación de filas y columnas y resuelve el sistema resultante con matriz **triangular superior** por el método de **sustitución hacia atrás.**"
      ]
    },
    {
      "cell_type": "code",
      "metadata": {
        "id": "38jWDz1SUuBE"
      },
      "source": [
        "Ab = [[1, 1, -3, -1, -2, 2], \n",
        "     [1, 2, 2, 0, 3, 2], \n",
        "     [1, -1, 3, 2, 0, 2],\n",
        "     [0, 1, 0, 4, -1, 3], \n",
        "     [1, 3, 1, 0, 5, 1]]\n",
        "Ab = np.array(Ab)"
      ],
      "execution_count": 51,
      "outputs": []
    },
    {
      "cell_type": "code",
      "metadata": {
        "colab": {
          "base_uri": "https://localhost:8080/"
        },
        "id": "yzerpUQgU_9X",
        "outputId": "22c88cc5-aff4-4e11-f2dd-257f2030a851"
      },
      "source": [
        "print(Ab)"
      ],
      "execution_count": 52,
      "outputs": [
        {
          "output_type": "stream",
          "name": "stdout",
          "text": [
            "[[ 1  1 -3 -1 -2  2]\n",
            " [ 1  2  2  0  3  2]\n",
            " [ 1 -1  3  2  0  2]\n",
            " [ 0  1  0  4 -1  3]\n",
            " [ 1  3  1  0  5  1]]\n"
          ]
        }
      ]
    },
    {
      "cell_type": "code",
      "metadata": {
        "id": "rfd4Z2kJVB3n"
      },
      "source": [
        "def pivotajeMaximal(Ab, verbose = False):\n",
        "  \"\"\"\n",
        "  Esta función transforma un sistema lineal Ax = b en otro equivalente con matriz \n",
        "  del sistema triangular superior mediante Pivotaje Maximal y devuelve la \n",
        "  solución al sistema calculada mediante sustitución hacia atrás\n",
        "  \n",
        "  Args:\n",
        "    Ab: Array bidimensional de numpy (Matriz ampliada del sistema)\n",
        "    verbose: Booleano para mostrar o no los resultados relevantes\n",
        "\n",
        "  Returns:\n",
        "    x: Array unidimensional con la solución del sistema\n",
        "  \"\"\"\n",
        "\n",
        "  # Pasamos todas las entradas del array bidimensional a tipo float\n",
        "  Ab = Ab.astype(\"float\")\n",
        "  # Número de variables del sistema\n",
        "  n = Ab.shape[0]\n",
        "  # Hay que recordar los cambios de columnas realizados\n",
        "  x_index = np.array(range(n)) #[0, 1, 2, ..., n-1]\n",
        "\n",
        "  # Convertimos la matriz del sistema en triangular superior\n",
        "  for k in range(n - 1):\n",
        "    (p, q) = np.where(abs(Ab[k:, k:-1]) == abs(Ab[k:, k:-1]).max()) # (i_max, j_max)\n",
        "\n",
        "    p = p[0]\n",
        "    q = q[0]\n",
        "    \n",
        "    p+=k\n",
        "    q+=k\n",
        "\n",
        "    if Ab[p, q] == 0:\n",
        "      print(\"El sistema no es compatible determinado\")\n",
        "      return\n",
        "\n",
        "    # Cambiamos las filas si es necesario\n",
        "    if p != k:\n",
        "      row = Ab[p].copy()\n",
        "      Ab[p] = Ab[k]\n",
        "      Ab[k] = row\n",
        "\n",
        "    # Cambiamos las columnas si es necesario y guardamos el cambio realizado\n",
        "    if q != k:\n",
        "      col = Ab[:, q].copy()\n",
        "      Ab[:, q] = Ab[:, k]\n",
        "      Ab[:, k] = col\n",
        "      \n",
        "      val = x_index[k]\n",
        "      x_index[k] = x_index[q]\n",
        "      x_index[q] = val\n",
        "\n",
        "    # Hacemos ceros por debajo del pivote  \n",
        "    for j in range(k + 1, n):\n",
        "      m = Ab[j, k] / Ab[k, k]\n",
        "      Ab[j] = Ab[j] - m * Ab[k]\n",
        "  \n",
        "  # Mostramos, si verbose = True, la matriz triangular superior resultante\n",
        "  if verbose:\n",
        "      print(\"Ab =\\n\", Ab)\n",
        "      print(\"X_index =\", x_index)\n",
        "\n",
        "  # Resolvemos el sistema con sustitución hacia atrás\n",
        "  x = sustitucionAtras(Ab)\n",
        "    \n",
        "  # Reordenamos el array de soluciones invirtiendo los cambios de columnas realizados  \n",
        "  x = x[np.argsort(x_index)]\n",
        "  \n",
        "  if verbose:\n",
        "    print(\"x =\", x)\n",
        "  \n",
        "  return x"
      ],
      "execution_count": 53,
      "outputs": []
    },
    {
      "cell_type": "code",
      "metadata": {
        "id": "d89xLLO_7n0_",
        "outputId": "dfcccd88-f044-4dee-ff10-260aba97fe2b",
        "colab": {
          "base_uri": "https://localhost:8080/"
        }
      },
      "source": [
        "x = pivotajeMaximal(Ab, verbose = True)"
      ],
      "execution_count": 54,
      "outputs": [
        {
          "output_type": "stream",
          "name": "stdout",
          "text": [
            "Ab =\n",
            " [[ 5.          0.          1.          1.          3.          1.        ]\n",
            " [ 0.          4.          0.2         0.2         1.6         3.2       ]\n",
            " [ 0.          0.          2.9         0.9        -1.8         0.4       ]\n",
            " [ 0.          0.          0.          2.24137931  1.01724138  3.55172414]\n",
            " [ 0.          0.          0.          0.          1.08461538  1.26153846]]\n",
            "X_index = [4 3 2 0 1]\n",
            "x = [ 1.05673759  1.16312057  0.53191489  0.25531915 -0.81560284]\n"
          ]
        }
      ]
    },
    {
      "cell_type": "code",
      "metadata": {
        "id": "lgvotLvE7p-0"
      },
      "source": [
        ""
      ],
      "execution_count": 54,
      "outputs": []
    },
    {
      "cell_type": "markdown",
      "metadata": {
        "id": "gcjCYOVjzFjS"
      },
      "source": [
        "# Ejemplo 5: Descomposición $LU$\n",
        "Dado un sistema lineal de la forma $\\mathbf{A}\\mathbf{x}=\\mathbf{b}$ que suponemos **compatible determinado**, es decir, con solución única, devuelve la solución del sistema usando el método de **descomposición $LU$** y da la solución del sistema usando la descomposición anterior."
      ]
    },
    {
      "cell_type": "code",
      "metadata": {
        "id": "xXLLp49tyfv6"
      },
      "source": [
        "Ab = [[1, 1, -3, -1, -2, 2], \n",
        "     [1, 2, 2, 0, 3, 2], \n",
        "     [1, -1, 3, 2, 0, 2],\n",
        "     [0, 1, 0, 4, -1, 3], \n",
        "     [1, 3, 1, 0, 5, 1]]\n",
        "Ab = np.array(Ab)"
      ],
      "execution_count": 55,
      "outputs": []
    },
    {
      "cell_type": "code",
      "metadata": {
        "colab": {
          "base_uri": "https://localhost:8080/"
        },
        "id": "1_EYYg18ygMP",
        "outputId": "f3aa345d-52af-4cb7-b92e-9f2c6de39e82"
      },
      "source": [
        "print(Ab)"
      ],
      "execution_count": 56,
      "outputs": [
        {
          "output_type": "stream",
          "name": "stdout",
          "text": [
            "[[ 1  1 -3 -1 -2  2]\n",
            " [ 1  2  2  0  3  2]\n",
            " [ 1 -1  3  2  0  2]\n",
            " [ 0  1  0  4 -1  3]\n",
            " [ 1  3  1  0  5  1]]\n"
          ]
        }
      ]
    },
    {
      "cell_type": "code",
      "metadata": {
        "id": "EwiYQAqfybUI"
      },
      "source": [
        "def LU(A, verbose = False):\n",
        "  \"\"\"\n",
        "  Esta función realiza la descomposición LU de la matriz cuadrada\n",
        "  \n",
        "  Args:\n",
        "    A: Array bidimensional de numpy (Matriz cuadrada)\n",
        "    verbose: Booleano para mostrar o no los resultados relevantes\n",
        "\n",
        "  Returns:\n",
        "    (L, U): Tupla de arrays bidimensionales\n",
        "  \"\"\"\n",
        "\n",
        "  # Pasamos todas las entradas del array bidimensional a tipo float\n",
        "  A = A.astype(\"float\")\n",
        "  # Número de filas de A\n",
        "  n = A.shape[0]\n",
        "  # Inicializamos las matrices L y U\n",
        "  L = np.zeros((n, n))\n",
        "  U = np.zeros((n, n))\n",
        "\n",
        "  # Calculamos la primera fila de U y la primera columna de L\n",
        "  U[0, 0] = A[0, 0]\n",
        "  for i in range(n):\n",
        "    L[i, i] = 1\n",
        "    U[0, i] = A[0, i]\n",
        "    L[i, 0] = A[i, 0] / U[0, 0]\n",
        "\n",
        "  # Calculamos la fila i-ésima de L y la columna i-ésima de U\n",
        "  for i in range(1, n): \n",
        "    sum = 0\n",
        "    for k in range(i):\n",
        "      sum += L[i, k] * U[k, i]\n",
        "    U[i, i] = A[i, i] - sum\n",
        "    for j in range(i + 1, n):\n",
        "      sum = 0\n",
        "      for k in range(i):\n",
        "        sum += L[i, k] * U[k, j]\n",
        "      U[i, j] = A[i, j] - sum\n",
        "      sum = 0\n",
        "      for k in range(i):\n",
        "        sum += L[j, k] * U[k, i]\n",
        "      L[j, i] = 1 / U[i, i] * (A[j, i] - sum)\n",
        "\n",
        "  if verbose:\n",
        "    print(\"L =\\n\", L)\n",
        "    print(\"U =\\n\", U)\n",
        "\n",
        "  return (L, U)"
      ],
      "execution_count": 57,
      "outputs": []
    },
    {
      "cell_type": "code",
      "metadata": {
        "colab": {
          "base_uri": "https://localhost:8080/"
        },
        "id": "_mYZpeBj12A-",
        "outputId": "3c653bbd-917a-4460-d9fe-939ec87b0bcc"
      },
      "source": [
        "lu = LU(Ab[:, :-1], verbose = True)"
      ],
      "execution_count": 58,
      "outputs": [
        {
          "output_type": "stream",
          "name": "stdout",
          "text": [
            "L =\n",
            " [[ 1.          0.          0.          0.          0.        ]\n",
            " [ 1.          1.          0.          0.          0.        ]\n",
            " [ 1.         -2.          1.          0.          0.        ]\n",
            " [ 0.          1.         -0.3125      1.          0.        ]\n",
            " [ 1.          2.         -0.375       0.19178082  1.        ]]\n",
            "U =\n",
            " [[ 1.          1.         -3.         -1.         -2.        ]\n",
            " [ 0.          1.          5.          1.          5.        ]\n",
            " [ 0.          0.         16.          5.         12.        ]\n",
            " [ 0.          0.          0.          4.5625     -2.25      ]\n",
            " [ 0.          0.          0.          0.          1.93150685]]\n"
          ]
        }
      ]
    },
    {
      "cell_type": "code",
      "metadata": {
        "id": "B31uTqtr9Wfe"
      },
      "source": [
        "def metodoLU(Ab, verbose = False):\n",
        "  \"\"\"\n",
        "  Esta función transforma un sistema lineal Ax = b al sistema equivalente \n",
        "  LUx = b de modo que primero resuelve el sistema triangular inferior Ly = b y\n",
        "  finalmente resuelve el sistema triangular superior Ux = y. Devuelve la \n",
        "  solución del segundo sistema\n",
        "  \n",
        "  Args:\n",
        "    Ab: Array bidimensional de numpy (Matriz ampliada del sistema)\n",
        "    verbose: Booleano para mostrar o no los resultados relevantes\n",
        "\n",
        "  Returns:\n",
        "    x: Array unidimensional con la solución del sistema\n",
        "  \"\"\"\n",
        "\n",
        "  # Pasamos todas las entradas del array bidimensional a tipo float\n",
        "  Ab = Ab.astype(\"float\")\n",
        "  # Número de filas y columnas de la matriz de coeficientes\n",
        "  n = Ab.shape[0]\n",
        "  \n",
        "  # Obtenemos matriz de coeficientes y vector de términos independientes\n",
        "  A = Ab[:, :-1].copy()\n",
        "  b = Ab[:, -1].copy()\n",
        "  b = b.reshape((n, 1))\n",
        "\n",
        "  # Obtenemos la descomposición LU\n",
        "  L, U = LU(A, verbose = verbose)\n",
        "  \n",
        "  # Resolvemos el sistema triangular inferior Ly = b\n",
        "  Lb = np.concatenate((L, b), axis = 1)\n",
        "  y = sustitucionDelante(Lb)\n",
        "\n",
        "  if verbose:\n",
        "    print(\"y =\", y)  \n",
        "\n",
        "  # Resolvemos el sistema triangular superior Ux = y\n",
        "  y = y.reshape((n, 1))\n",
        "  Uy = np.concatenate((U, y), axis = 1)\n",
        "  x = sustitucionAtras(Uy)\n",
        "\n",
        "  if verbose:\n",
        "    print(\"x =\", x)\n",
        "\n",
        "  return x"
      ],
      "execution_count": 59,
      "outputs": []
    },
    {
      "cell_type": "code",
      "metadata": {
        "colab": {
          "base_uri": "https://localhost:8080/"
        },
        "id": "NVpmzencELTL",
        "outputId": "9a5e30ab-8d52-4745-b042-9d4796dc6b82"
      },
      "source": [
        "x = metodoLU(Ab, verbose = True)"
      ],
      "execution_count": 60,
      "outputs": [
        {
          "output_type": "stream",
          "name": "stdout",
          "text": [
            "L =\n",
            " [[ 1.          0.          0.          0.          0.        ]\n",
            " [ 1.          1.          0.          0.          0.        ]\n",
            " [ 1.         -2.          1.          0.          0.        ]\n",
            " [ 0.          1.         -0.3125      1.          0.        ]\n",
            " [ 1.          2.         -0.375       0.19178082  1.        ]]\n",
            "U =\n",
            " [[ 1.          1.         -3.         -1.         -2.        ]\n",
            " [ 0.          1.          5.          1.          5.        ]\n",
            " [ 0.          0.         16.          5.         12.        ]\n",
            " [ 0.          0.          0.          4.5625     -2.25      ]\n",
            " [ 0.          0.          0.          0.          1.93150685]]\n",
            "y = [ 2.          0.          0.          3.         -1.57534247]\n",
            "x = [ 1.05673759  1.16312057  0.53191489  0.25531915 -0.81560284]\n"
          ]
        }
      ]
    },
    {
      "cell_type": "markdown",
      "metadata": {
        "id": "8464tE4e0Ujk"
      },
      "source": [
        "# Ejemplo 6: Descomposición $LU$ con matrices de permutación\n",
        "Dado un sistema lineal de la forma $\\mathbf{A}\\mathbf{x}=\\mathbf{b}$ que suponemos **compatible determinado**, es decir, con solución única, devuelve la solución del sistema usando el método de **descomposición $LU$** usando **matrices de permutación** y da la solución del sistema usando la descomposición anterior.\n"
      ]
    },
    {
      "cell_type": "code",
      "metadata": {
        "id": "uN8QfvCby5h_"
      },
      "source": [
        "Ab = [[0, 1, -3, -1, -2, 2], \n",
        "     [1, 2, 2, 0, 3, 2], \n",
        "     [1, -1, 3, 2, 0, 2],\n",
        "     [0, 1, 0, 4, -1, 3], \n",
        "     [1, 3, 1, 0, 5, 1]]\n",
        "Ab = np.array(Ab)"
      ],
      "execution_count": 61,
      "outputs": []
    },
    {
      "cell_type": "code",
      "metadata": {
        "colab": {
          "base_uri": "https://localhost:8080/"
        },
        "id": "uH40SDM0zEsZ",
        "outputId": "7373041d-2700-42ce-ce8b-4a653523ca46"
      },
      "source": [
        "print(Ab)"
      ],
      "execution_count": 62,
      "outputs": [
        {
          "output_type": "stream",
          "name": "stdout",
          "text": [
            "[[ 0  1 -3 -1 -2  2]\n",
            " [ 1  2  2  0  3  2]\n",
            " [ 1 -1  3  2  0  2]\n",
            " [ 0  1  0  4 -1  3]\n",
            " [ 1  3  1  0  5  1]]\n"
          ]
        }
      ]
    },
    {
      "cell_type": "code",
      "metadata": {
        "id": "-GvFxtpzyuWF"
      },
      "source": [
        "def P_LU(A, permutations = None, verbose = False):\n",
        "  \"\"\"\n",
        "  Esta función realiza la descomposición LU de la matriz cuadrada\n",
        "    realizando las permutaciones indicadas\n",
        "  \n",
        "  Args:\n",
        "    A: Array bidimensional de numpy (Matriz cuadrada)\n",
        "    permutations: Lista de tuplas de permutaciones de filas\n",
        "    verbose: Booleano para mostrar o no los resultados relevantes\n",
        "\n",
        "  Returns:\n",
        "    (P, L, U): Tupla de arrays bidimensionales\n",
        "  \"\"\"\n",
        "\n",
        "  # Pasamos todas las entradas del array bidimensional a tipo float\n",
        "  A = A.astype(\"float\")\n",
        "  # Número de filas de A\n",
        "  n = A.shape[0]\n",
        "  # Inicializamos las matrices P, L y U\n",
        "  P = np.identity(n)\n",
        "  L = np.zeros((n, n))\n",
        "  U = np.zeros((n, n))\n",
        "  \n",
        "  # Permutamos filas en caso de que sea necesario\n",
        "  if permutations is not None:\n",
        "    for (i, j) in permutations:\n",
        "      row = P[i].copy()\n",
        "      P[i] = P[j]\n",
        "      P[j] = row\n",
        "\n",
        "  A = P.dot(A)\n",
        "\n",
        "  if verbose:\n",
        "    print(\"P =\\n\", P)\n",
        "\n",
        "  L, U = LU(A, verbose = verbose)\n",
        "\n",
        "  return (P, L, U)"
      ],
      "execution_count": 63,
      "outputs": []
    },
    {
      "cell_type": "code",
      "metadata": {
        "colab": {
          "base_uri": "https://localhost:8080/"
        },
        "id": "jPKAubIvzWWk",
        "outputId": "2dc653be-7994-44f9-d53e-4d8f7bfcf765"
      },
      "source": [
        "lu = P_LU(Ab[:, :-1], permutations = [(0,4)], verbose = True)"
      ],
      "execution_count": 64,
      "outputs": [
        {
          "output_type": "stream",
          "name": "stdout",
          "text": [
            "P =\n",
            " [[0. 0. 0. 0. 1.]\n",
            " [0. 1. 0. 0. 0.]\n",
            " [0. 0. 1. 0. 0.]\n",
            " [0. 0. 0. 1. 0.]\n",
            " [1. 0. 0. 0. 0.]]\n",
            "L =\n",
            " [[ 1.   0.   0.   0.   0. ]\n",
            " [ 1.   1.   0.   0.   0. ]\n",
            " [ 1.   4.   1.   0.   0. ]\n",
            " [ 0.  -1.  -0.5  1.   0. ]\n",
            " [ 0.  -1.   1.  -0.6  1. ]]\n",
            "U =\n",
            " [[ 1.   3.   1.   0.   5. ]\n",
            " [ 0.  -1.   1.   0.  -2. ]\n",
            " [ 0.   0.  -2.   2.   3. ]\n",
            " [ 0.   0.   0.   5.  -1.5]\n",
            " [ 0.   0.   0.   0.  -7.9]]\n"
          ]
        }
      ]
    },
    {
      "cell_type": "code",
      "metadata": {
        "id": "uPmA3BNizYHL"
      },
      "source": [
        "def metodoPLU(Ab, permutations = None, verbose = False):\n",
        "  \"\"\"\n",
        "  Esta función transforma un sistema lineal Ax = b al sistema equivalente \n",
        "  LUx = b de modo que primero resuelve el sistema triangular inferior Ly = b y\n",
        "  finalmente resuelve el sistema triangular superior Ux = y. Devuelve la \n",
        "  solución del segundo sistema.\n",
        "\n",
        "  También tiene en cuenta una posible permutación de filas, de modo que en este\n",
        "  caso transforma el sistema PAx = Pb al sistema equivalente LUx = Pb y\n",
        "  resuelve los sistemas triangulares resultantes para obtener la solución del \n",
        "  sistema.\n",
        "  \n",
        "  Args:\n",
        "    Ab: Array bidimensional de numpy (Matriz ampliada del sistema)\n",
        "    permutations: Lista de tuplas de permutaciones de filas\n",
        "    verbose: Booleano para mostrar o no los resultados relevantes\n",
        "\n",
        "  Returns:\n",
        "    x: Array unidimensional con la solución del sistema\n",
        "  \"\"\"\n",
        "\n",
        "  # Pasamos todas las entradas del array bidimensional a tipo float\n",
        "  Ab = Ab.astype(\"float\")\n",
        "  # Número de filas y columnas de la matriz de coeficientes\n",
        "  n = Ab.shape[0]\n",
        "  \n",
        "  # Obtenemos matriz de coeficientes y vector de términos independientes\n",
        "  A = Ab[:, :-1].copy()\n",
        "  b = Ab[:, -1].copy()\n",
        "  b = b.reshape((n, 1))\n",
        "\n",
        "  # Obtenemos la descomposición LU\n",
        "  P, L, U = P_LU(A, permutations = permutations, verbose = verbose)\n",
        "  b = P.dot(b)\n",
        "  \n",
        "  # Resolvemos el sistema triangular inferior Ly = b\n",
        "  Lb = np.concatenate((L, b), axis = 1)\n",
        "  y = sustitucionDelante(Lb)\n",
        "\n",
        "  if verbose:\n",
        "    print(\"y =\", y)\n",
        "  \n",
        "  # Resolvemos el sistema triangular superior Ux = y\n",
        "  y = y.reshape((n, 1))\n",
        "  Uy = np.concatenate((U, y), axis = 1)\n",
        "  x = sustitucionAtras(Uy)\n",
        "\n",
        "  if verbose:\n",
        "    print(\"x =\", x)\n",
        "\n",
        "  return x"
      ],
      "execution_count": 65,
      "outputs": []
    },
    {
      "cell_type": "code",
      "metadata": {
        "colab": {
          "base_uri": "https://localhost:8080/"
        },
        "id": "9N1sviqr3HSk",
        "outputId": "f19c0af9-b39f-4e52-95d5-bcf6889ac9ed"
      },
      "source": [
        "x = metodoPLU(Ab, permutations = [(0, 4)], verbose = True)"
      ],
      "execution_count": 66,
      "outputs": [
        {
          "output_type": "stream",
          "name": "stdout",
          "text": [
            "P =\n",
            " [[0. 0. 0. 0. 1.]\n",
            " [0. 1. 0. 0. 0.]\n",
            " [0. 0. 1. 0. 0.]\n",
            " [0. 0. 0. 1. 0.]\n",
            " [1. 0. 0. 0. 0.]]\n",
            "L =\n",
            " [[ 1.   0.   0.   0.   0. ]\n",
            " [ 1.   1.   0.   0.   0. ]\n",
            " [ 1.   4.   1.   0.   0. ]\n",
            " [ 0.  -1.  -0.5  1.   0. ]\n",
            " [ 0.  -1.   1.  -0.6  1. ]]\n",
            "U =\n",
            " [[ 1.   3.   1.   0.   5. ]\n",
            " [ 0.  -1.   1.   0.  -2. ]\n",
            " [ 0.   0.  -2.   2.   3. ]\n",
            " [ 0.   0.   0.   5.  -1.5]\n",
            " [ 0.   0.   0.   0.  -7.9]]\n",
            "y = [ 1.   1.  -3.   2.5  7.5]\n",
            "x = [ 1.88607595  1.18987342  0.29113924  0.21518987 -0.94936709]\n"
          ]
        }
      ]
    },
    {
      "cell_type": "code",
      "metadata": {
        "id": "p8N22620GTiu",
        "outputId": "23fa4e84-89d9-46cb-9618-2299637670a2",
        "colab": {
          "base_uri": "https://localhost:8080/",
          "height": 130
        }
      },
      "source": [
        "def metodoPLU(Ab, permutations = None, verbose = False):\n",
        "  \"\"\"\n",
        "  Ésta función transforma un sistema lineal Ax = b al sistema  equivalente LUx = b de modo\n",
        "  que primero resuelve el sistema triangular inferior Ly = b y finalmente resuelve \n",
        "  el sistema triangular superior Ux = y. Devuelve la solución del segundo sistema.\n",
        "\n",
        "  También tiene en cuenta una posible permutación de filas, de modo que en este\n",
        "  caso transforma el sistem a PAx = Pb al sistema equivalente LUx = Pb y resuelve\n",
        "  los sistemas triangulares resultantes para obtener la solución del sistema.\n",
        "\n",
        "  Args:\n",
        "    Ab: Array bidimensional de numpy (Matriz ampliada del sistema)\n",
        "    permutations: Lista de tuplas de permutaciones de filas\n",
        "    verbose: Booleano para mostrar o no los resultados relevantes\n",
        "\n",
        "  Returns:\n",
        "    x: Array unidimensional con la solución del sistema\n",
        "  \"\"\"\n",
        "  # Pasamos todas las entradas del array bidimensional a tipo float\n",
        "  Ab = Ab.astype(\"float\")\n",
        "  # Número de filas y columnas de la matriz "
      ],
      "execution_count": 67,
      "outputs": [
        {
          "output_type": "error",
          "ename": "SyntaxError",
          "evalue": "ignored",
          "traceback": [
            "\u001b[0;36m  File \u001b[0;32m\"<ipython-input-67-cb7868bbe1b3>\"\u001b[0;36m, line \u001b[0;32m20\u001b[0m\n\u001b[0;31m    Ab =\u001b[0m\n\u001b[0m        ^\u001b[0m\n\u001b[0;31mSyntaxError\u001b[0m\u001b[0;31m:\u001b[0m invalid syntax\n"
          ]
        }
      ]
    }
  ]
}