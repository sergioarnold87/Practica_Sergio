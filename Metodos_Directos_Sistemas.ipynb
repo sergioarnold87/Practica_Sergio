{
  "nbformat": 4,
  "nbformat_minor": 0,
  "metadata": {
    "colab": {
      "name": "Metodos_Directos_Sistemas.ipynb",
      "provenance": [],
      "collapsed_sections": [],
      "toc_visible": true,
      "authorship_tag": "ABX9TyPfI+Q9Sn0nDvt+aXH6BXdF",
      "include_colab_link": true
    },
    "kernelspec": {
      "name": "python3",
      "display_name": "Python 3"
    },
    "language_info": {
      "name": "python"
    }
  },
  "cells": [
    {
      "cell_type": "markdown",
      "metadata": {
        "id": "view-in-github",
        "colab_type": "text"
      },
      "source": [
        "<a href=\"https://colab.research.google.com/github/sergioarnold87/Practica_Sergio/blob/main/Metodos_Directos_Sistemas.ipynb\" target=\"_parent\"><img src=\"https://colab.research.google.com/assets/colab-badge.svg\" alt=\"Open In Colab\"/></a>"
      ]
    },
    {
      "cell_type": "markdown",
      "metadata": {
        "id": "QQGhALXaHMq9"
      },
      "source": [
        "# Librerías necesarias"
      ]
    },
    {
      "cell_type": "code",
      "metadata": {
        "id": "959p7o6GHSae"
      },
      "source": [
        "import numpy as np\n",
        "import math"
      ],
      "execution_count": 1,
      "outputs": []
    },
    {
      "cell_type": "markdown",
      "metadata": {
        "id": "2XIQvWfxHWmx"
      },
      "source": [
        "# Función Helper"
      ]
    },
    {
      "cell_type": "code",
      "metadata": {
        "id": "s50EhLIZHVZw"
      },
      "source": [
        "def sustitucionAtras(Ab):\n",
        "  \"\"\"\n",
        "  Esta función resuelve un sistema triangular superior mediante sustitución hacia atrás\n",
        "\n",
        "  Args:\n",
        "    Ab: Array bidimensional (Matriz ampliada del sistema triangular superior)\n",
        "    verbose: Booleano para mostrar o no los resultados relevantes\n",
        "\n",
        "  Returns:\n",
        "    x: Array unidimensional con la solución del sistema\n",
        "  \"\"\"\n",
        "\n",
        "  n = Ab.shape[0]\n",
        "  x = np.empty(n)\n",
        "  x[n - 1] = Ab[n - 1, n] / Ab[n - 1, n - 1]\n",
        "  for i in range(n - 2, -1, -1):\n",
        "    x[i] = (Ab[i, n] - np.sum(Ab[i, (i + 1):n] * x[(i + 1):n])) / Ab[i, i]\n",
        "\n",
        "  return x"
      ],
      "execution_count": 2,
      "outputs": []
    },
    {
      "cell_type": "code",
      "metadata": {
        "id": "oWQPQ7XPNIcl"
      },
      "source": [
        "def sustitucionDelante(Ab):\n",
        "  \"\"\"\n",
        "  Esta función resuelve un sistema triangular inferior mediante sustitución\n",
        "  hacia delante\n",
        "\n",
        "  Args:\n",
        "    Ab: Array bidimensional (Matriz ampliada del sistema triangular inferior)\n",
        "\n",
        "  Returns:\n",
        "    x: Array unidimensional con la solución del sistema\n",
        "  \"\"\"\n",
        "  n = Ab.shape[0]\n",
        "  x = np.empty(n)\n",
        "  x[0] = Ab[0, n] / Ab[0, 0]\n",
        "  for i in range(1, n):\n",
        "    x[i] = (Ab[i, n] - np.sum(Ab[i, :i] * x[:i])) / Ab[i, i]\n",
        "\n",
        "  return x"
      ],
      "execution_count": 3,
      "outputs": []
    },
    {
      "cell_type": "markdown",
      "metadata": {
        "id": "FMJVp71oaWoD"
      },
      "source": [
        "# Ejemplo 1: Método de eliminación de Gauss para resolver un sistema lineal de ecuaciones\n",
        "Dado un sistema lineal de la forma $\\mathbf{A}\\mathbf{x}=\\mathbf{b}$ que suponemos **compatible determinado**, es decir, con solución única, devuelve la solución del sistema usando el método de **eliminación de Gauss** y resuelve el sistema resultante con matriz **triangular superior** por el método de **sustitución hacia atrás.**"
      ]
    },
    {
      "cell_type": "code",
      "metadata": {
        "id": "Hwhhx0x0NRKE"
      },
      "source": [
        "Ab = [[1, 1, -3, -1, -2, 2], \n",
        "     [1, 2, 2, 0, 3, 2], \n",
        "     [1, -1, 3, 2, 0, 2],\n",
        "     [0, 1, 0, 4, -1, 3], \n",
        "     [1, 3, 1, 0, 5, 1]]\n",
        "Ab = np.array(Ab)"
      ],
      "execution_count": 4,
      "outputs": []
    },
    {
      "cell_type": "code",
      "metadata": {
        "colab": {
          "base_uri": "https://localhost:8080/"
        },
        "id": "5rWDHcOYNg1B",
        "outputId": "d0859a34-1e01-4de0-bc79-deb8c47582ff"
      },
      "source": [
        "print(Ab)"
      ],
      "execution_count": 5,
      "outputs": [
        {
          "output_type": "stream",
          "name": "stdout",
          "text": [
            "[[ 1  1 -3 -1 -2  2]\n",
            " [ 1  2  2  0  3  2]\n",
            " [ 1 -1  3  2  0  2]\n",
            " [ 0  1  0  4 -1  3]\n",
            " [ 1  3  1  0  5  1]]\n"
          ]
        }
      ]
    },
    {
      "cell_type": "code",
      "metadata": {
        "id": "y7PXU63PNjVM"
      },
      "source": [
        "def metodoGauss(Ab, verbose = False):\n",
        "  \"\"\"\n",
        "  Esta función transforma un sistema lineal Ax = b en otro equivalente con matriz \n",
        "  del sistema triangular superior y devuelve la solución al sistema calculada\n",
        "  mediante sustitución hacia atrás\n",
        "\n",
        "  Args:\n",
        "    Ab: Array bidimensional de numpy (Matriz ampliada del sistema)\n",
        "    verbose: Booleano para mostrar o no los resultados relevantes\n",
        "  Returns:\n",
        "    x: Array unidimensional con la solución del sistema\n",
        "\n",
        "  \"\"\"\n",
        "\n",
        "  # Pasamos todas las entradas del array bidimensional a tipo float\n",
        "  Ab = Ab.astype(\"float\")\n",
        "  # Número de filas de Ab\n",
        "  n = Ab.shape[0]\n",
        "\n",
        "  # Convertimos la matriz del sistema en triangular superior \n",
        "  for k in range(n - 1):\n",
        "    p = k\n",
        "    if Ab[k, k] == 0:\n",
        "      for i in range(k + 1, n):\n",
        "        if Ab[i, k] != 0:\n",
        "          p = i\n",
        "          break\n",
        "\n",
        "    if p == k and Ab[k,k] == 0:\n",
        "        print(\"El sistema no es compatible determinado\")\n",
        "        return\n",
        "    \n",
        "    # Cambiamos las filas si es necesario\n",
        "    if p != k:\n",
        "      row = Ab[p].copy()\n",
        "      Ab[p] = Ab[k]\n",
        "      Ab[k] = row\n",
        "\n",
        "    for j in range(k + 1, n):\n",
        "      m = Ab[j, k] / Ab[k, k]\n",
        "      Ab[j] = Ab[j] - m  * Ab[k]\n",
        "\n",
        "  # Mostramos, si verbose = True, la matriz triangular superior resultante\n",
        "  if verbose:\n",
        "      print(\"Ab =\\n\", Ab)\n",
        "\n",
        "  # Mostramos, si verbose = True, la matriz triangular superior resultante\n",
        "  if verbose:\n",
        "      print(\"Ab =\\n\", Ab)\n",
        "\n",
        "  # Resolvemos el sistema con sustitución hacia atrás\n",
        "  x = sustitucionAtras(Ab)\n",
        "\n",
        "  if verbose:\n",
        "    print(\"X =\", x)\n",
        "  \n",
        "  return x"
      ],
      "execution_count": 6,
      "outputs": []
    },
    {
      "cell_type": "code",
      "metadata": {
        "colab": {
          "base_uri": "https://localhost:8080/"
        },
        "id": "XyjatAFFTzBx",
        "outputId": "b46025fc-4b78-4277-83a6-1f3480965db5"
      },
      "source": [
        "x = metodoGauss(Ab, verbose = True)"
      ],
      "execution_count": 7,
      "outputs": [
        {
          "output_type": "stream",
          "name": "stdout",
          "text": [
            "Ab =\n",
            " [[ 1.          1.         -3.         -1.         -2.          2.        ]\n",
            " [ 0.          1.          5.          1.          5.          0.        ]\n",
            " [ 0.          0.         16.          5.         12.          0.        ]\n",
            " [ 0.          0.          0.          4.5625     -2.25        3.        ]\n",
            " [ 0.          0.          0.          0.          1.93150685 -1.57534247]]\n",
            "Ab =\n",
            " [[ 1.          1.         -3.         -1.         -2.          2.        ]\n",
            " [ 0.          1.          5.          1.          5.          0.        ]\n",
            " [ 0.          0.         16.          5.         12.          0.        ]\n",
            " [ 0.          0.          0.          4.5625     -2.25        3.        ]\n",
            " [ 0.          0.          0.          0.          1.93150685 -1.57534247]]\n",
            "X = [ 1.05673759  1.16312057  0.53191489  0.25531915 -0.81560284]\n"
          ]
        }
      ]
    },
    {
      "cell_type": "code",
      "metadata": {
        "colab": {
          "base_uri": "https://localhost:8080/"
        },
        "id": "-e84H-6gT3DW",
        "outputId": "0f5a663e-747d-4f53-ff11-165c6b0c26af"
      },
      "source": [
        "B = [[0, 1, 0, 4, -1, 3],\n",
        "     [1, 1, -3, -1, -2, 2], \n",
        "     [1, 2, 2, 0, 3, 2], \n",
        "     [1, -1, 3, 2, 0, 2], \n",
        "     [1, 3, 1, 0, 5, 1]]\n",
        "B = np.array(B)\n",
        "y = metodoGauss(B)\n",
        "print(y)"
      ],
      "execution_count": 8,
      "outputs": [
        {
          "output_type": "stream",
          "name": "stdout",
          "text": [
            "[ 1.05673759  1.16312057  0.53191489  0.25531915 -0.81560284]\n"
          ]
        }
      ]
    },
    {
      "cell_type": "markdown",
      "metadata": {
        "id": "DJmViX12F1Sc"
      },
      "source": [
        "# ***Ejemplo 2: Sistema mal condicionado***\n",
        "Dado un sistema lineal $\\mathbf{A}\\mathbf{x}=\\mathbf{b}$ mal condicionado, es decir $|\\mathrm{det}(\\mathbf{A})|<<1$, da la solución de sistema $\\mathbf{x}$ usando el método de **eliminación de Gauss** y **sustitución hacia atrás** suponiendo que se trabaja com $m$ **dígitos significativos**.\n"
      ]
    },
    {
      "cell_type": "code",
      "metadata": {
        "id": "Zhym4VZRVE8U"
      },
      "source": [
        "Ab = [[0.010534, 0.02, -1],\n",
        "      [1, 2, 3]]\n",
        "Ab = np.array(Ab)"
      ],
      "execution_count": 11,
      "outputs": []
    },
    {
      "cell_type": "code",
      "metadata": {
        "colab": {
          "base_uri": "https://localhost:8080/"
        },
        "id": "ex6lU2E-Ltm_",
        "outputId": "c9e4b2c8-fb3f-4fa7-dce4-917dc1a9bf2e"
      },
      "source": [
        "print(Ab)"
      ],
      "execution_count": 12,
      "outputs": [
        {
          "output_type": "stream",
          "name": "stdout",
          "text": [
            "[[ 0.010534  0.02     -1.      ]\n",
            " [ 1.        2.        3.      ]]\n"
          ]
        }
      ]
    },
    {
      "cell_type": "code",
      "metadata": {
        "id": "QC41FDrLLyHE"
      },
      "source": [
        "def signif(x, m = 0):\n",
        "  \"\"\"\n",
        "  Esta función devuelve el número x con m dígitos significativos \n",
        "\n",
        "  Args:\n",
        "    x: Float\n",
        "    m: Int (Número de dígitos significtivos)\n",
        "\n",
        "  Returns:\n",
        "    Valor float x con m dígitos significativos\n",
        "  \"\"\"\n",
        "  if x == 0:\n",
        "    return 0\n",
        "  else:\n",
        "    return round(x, ndigits = m -1 - int(math.floor(math.log10(abs(x))))) "
      ],
      "execution_count": 13,
      "outputs": []
    },
    {
      "cell_type": "code",
      "metadata": {
        "id": "9X0XcoFTQqZP"
      },
      "source": [
        "# Convertimos la función signif a función universal\n",
        "signif = np.frompyfunc(signif, 2, 1)"
      ],
      "execution_count": 14,
      "outputs": []
    },
    {
      "cell_type": "code",
      "metadata": {
        "id": "DRt3uopTQ2IH"
      },
      "source": [
        "def metodoGaussSignif(Ab, sig = 5,verbose = False):\n",
        "  \"\"\"\n",
        "  Esta función transforma un sistema lineal Ax = b en otro equivalente con matriz \n",
        "  del sistema triangular superior y devuelve la solución al sistema calculada\n",
        "  mediante sustituciń hacia atrás\n",
        "\n",
        "  Cada vez que hacemos un cálculo, nos quedamos con los sig dígitos significativos\n",
        "\n",
        "  Args:\n",
        "    Ab: Array bidimensional de Numpy (Matriz ampliada del sitema)\n",
        "    sig: Int que indica los dígitos significativos\n",
        "    verbose: Booleano para mostrar o no los resultados relevantes\n",
        "\n",
        "  Returns:\n",
        "    x: Array unidimensional con la solución del sistema\n",
        "  \"\"\"\n",
        "\n",
        "  # Pasamos todas las entradas del array bidimensional a tipio float\n",
        "  Ab = signif(Ab.astype(\"float\"), sig)\n",
        "  # Número de filas de Ab\n",
        "  n = Ab.shape[0]\n",
        "\n",
        "  # Convertimos la matriz del sistema en triangular superior \n",
        "  for k in range(n-1):\n",
        "    Ab = signif(Ab, sig)\n",
        "    p = k\n",
        "    if Ab[k, k] == 0:\n",
        "      for i in range(k + 1, n):\n",
        "        if Ab[i, k] !=0:\n",
        "          p = i\n",
        "          break\n",
        "\n",
        "    if p == k and Ab[k,k] == 0:\n",
        "      print(\"El sistema no es compatible determinado\")\n",
        "      return\n",
        "  \n",
        "    # Cambiamos las filas si es necesario\n",
        "    if p != k:\n",
        "      row = Ab[p].copy()\n",
        "      Ab[p] = Ab[b]\n",
        "      Ab[k] = row\n",
        "\n",
        "    \n"
      ],
      "execution_count": null,
      "outputs": []
    }
  ]
}