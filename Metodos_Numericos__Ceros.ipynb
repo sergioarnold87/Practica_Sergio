{
  "nbformat": 4,
  "nbformat_minor": 0,
  "metadata": {
    "colab": {
      "name": "Metodos_Numericos__Ceros.ipynb",
      "provenance": [],
      "collapsed_sections": [],
      "authorship_tag": "ABX9TyPAIU4roiRjmymrBp7VWCJW",
      "include_colab_link": true
    },
    "kernelspec": {
      "name": "python3",
      "display_name": "Python 3"
    },
    "language_info": {
      "name": "python"
    }
  },
  "cells": [
    {
      "cell_type": "markdown",
      "metadata": {
        "id": "view-in-github",
        "colab_type": "text"
      },
      "source": [
        "<a href=\"https://colab.research.google.com/github/sergioarnold87/Practica_Sergio/blob/main/Metodos_Numericos__Ceros.ipynb\" target=\"_parent\"><img src=\"https://colab.research.google.com/assets/colab-badge.svg\" alt=\"Open In Colab\"/></a>"
      ]
    },
    {
      "cell_type": "code",
      "metadata": {
        "id": "KZvbcbhAqlPN"
      },
      "source": [
        "import math\n",
        "import cmath\n",
        "import numpy as np\n",
        "import matplotlib.pyplot as plt\n",
        "from sklearn.linear_model import LinearRegression\n",
        "import pandas as pd"
      ],
      "execution_count": 1,
      "outputs": []
    },
    {
      "cell_type": "markdown",
      "metadata": {
        "id": "GfHs-lh9rJf7"
      },
      "source": [
        "# Ejemplo 1: cálculo de ceros usando el método de la bisección.\n",
        "\n",
        "Cálculo del cero de la función $f(x)=x^3-x+a$ por el método de la biseccón con valores iniciales $x_0=-2$ y $x_1=-1$."
      ]
    },
    {
      "cell_type": "code",
      "metadata": {
        "id": "9byniksRq_v4"
      },
      "source": [
        "def function(x):\n",
        "  return x**3-x+1"
      ],
      "execution_count": 2,
      "outputs": []
    },
    {
      "cell_type": "markdown",
      "metadata": {
        "id": "zUM3N-LCsVmQ"
      },
      "source": [
        "Se va a implementar el segundo algoritmo visto en las trasparencias"
      ]
    },
    {
      "cell_type": "code",
      "metadata": {
        "id": "PxR9Je6csUr6"
      },
      "source": [
        "def biseccion(x0, x1, TOL, f = function):\n",
        "  \"\"\"\n",
        "    Dada una función f definida en el intervalo [x0,x1] tal que  f(x0)*f(x1)<0,\n",
        "    devuelve un cero de la función contenido en este intervalo usando el método  de la bisección.\n",
        "\n",
        "    Parámtros:\n",
        "    * x0: Extremo izquierdo\n",
        "    * x1: Extremo derecho\n",
        "    * TOL: Diferencia máxima entre dos iteraciones seguidas\n",
        "    * f: función definida en los reales\n",
        "\n",
        "    Valor de retorno\n",
        "    * cero: f(cero) es aproximadamente 0\n",
        "  \"\"\"\n",
        "  x = (x0+x1)/2\n",
        "  y = x+1\n",
        "  while abs(x-y)>= TOL:\n",
        "    x=(x0+x1)/2\n",
        "    if (f(x0)*f(x)<0):\n",
        "      x1 = x\n",
        "    else:\n",
        "      x0 = x\n",
        "    y = (x0 + x1) / 2\n",
        "  cero = x\n",
        "  return cero\n"
      ],
      "execution_count": 3,
      "outputs": []
    },
    {
      "cell_type": "code",
      "metadata": {
        "colab": {
          "base_uri": "https://localhost:8080/"
        },
        "id": "hUI-BGFtxJp7",
        "outputId": "cdc0ff2d-27c0-4018-f425-e0707314c01b"
      },
      "source": [
        "biseccion(-2, -1, 1e-16)"
      ],
      "execution_count": 4,
      "outputs": [
        {
          "output_type": "execute_result",
          "data": {
            "text/plain": [
              "-1.3247179572447458"
            ]
          },
          "metadata": {},
          "execution_count": 4
        }
      ]
    },
    {
      "cell_type": "markdown",
      "metadata": {
        "id": "dxVVDAElYOi-"
      },
      "source": [
        "# Ejemplo 2: Cáculo de ceros usando el método del punto fijo\n",
        "\n",
        "Cálculo del cero de la función $f(x)=x^3-x+a$ usando el método del punto fijo con la función de iteración $g(x)=\\sqrt[3]{x-1}$ con valor inicial $x_0=-1.5$."
      ]
    },
    {
      "cell_type": "code",
      "metadata": {
        "id": "oA8laBokxVFU"
      },
      "source": [
        "def cube_root(x):\n",
        "    return np.sign(x)*(abs(x)**(1/3.))\n",
        "\n",
        "def function(x):\n",
        "  return cube_root(x-1)"
      ],
      "execution_count": 6,
      "outputs": []
    },
    {
      "cell_type": "code",
      "metadata": {
        "id": "VBDY6GVVabb6"
      },
      "source": [
        "def puntofijo(x0,TOL,N_max, g=function).\n",
        "  \"\"\"\n",
        "   Dada una función g definida en los reales dónde g' (x0)<1,\n",
        "   devuelve un punto fijo de la función g usando el método\n",
        "   del punto fijo.\n",
        "\n",
        "   Parámetros:\n",
        "   * x0: Primera iteración\n",
        "   * TOL: Diferencia máxima entre dos iteraciones seguidas\n",
        "   * N_max: Número máximo de iteraciones\n",
        "   * g: función definida en los reales\n",
        "\n",
        "   Valor de retorno\n",
        "   * pf es el punto fijo de la función g(x)\n",
        "  \"\"\"\n",
        "\n"
      ],
      "execution_count": null,
      "outputs": []
    }
  ]
}