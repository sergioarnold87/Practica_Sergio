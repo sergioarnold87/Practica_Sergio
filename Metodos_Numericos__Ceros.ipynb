{
  "nbformat": 4,
  "nbformat_minor": 0,
  "metadata": {
    "colab": {
      "name": "Metodos_Numericos__Ceros.ipynb",
      "provenance": [],
      "collapsed_sections": [],
      "toc_visible": true,
      "authorship_tag": "ABX9TyMrV0GGjofyYyrWeT/0Fe7P",
      "include_colab_link": true
    },
    "kernelspec": {
      "name": "python3",
      "display_name": "Python 3"
    },
    "language_info": {
      "name": "python"
    }
  },
  "cells": [
    {
      "cell_type": "markdown",
      "metadata": {
        "id": "view-in-github",
        "colab_type": "text"
      },
      "source": [
        "<a href=\"https://colab.research.google.com/github/sergioarnold87/Practica_Sergio/blob/main/Metodos_Numericos__Ceros.ipynb\" target=\"_parent\"><img src=\"https://colab.research.google.com/assets/colab-badge.svg\" alt=\"Open In Colab\"/></a>"
      ]
    },
    {
      "cell_type": "code",
      "metadata": {
        "id": "6cM3aCl_UWRQ"
      },
      "source": [
        "import math\n",
        "import cmath\n",
        "import numpy as np \n",
        "import matplotlib.pyplot as plt\n",
        "from sklearn.linear_model import LinearRegression\n",
        "import pandas as pd"
      ],
      "execution_count": 34,
      "outputs": []
    },
    {
      "cell_type": "markdown",
      "metadata": {
        "id": "eRc8xhOdZn4G"
      },
      "source": [
        "# Ejemplo 1: cálculo de ceros usando el método de la bisección\n",
        "\n",
        "Cálculo del cero de la función $f(x)=x^3-x+1$ por el método de la bisección con valores iniciales $x_0=-2$ y $x_1=-1$."
      ]
    },
    {
      "cell_type": "code",
      "metadata": {
        "id": "4Lc81bqXZ_VR"
      },
      "source": [
        "def function(x):\n",
        "  return x**3-x+1"
      ],
      "execution_count": 35,
      "outputs": []
    },
    {
      "cell_type": "markdown",
      "metadata": {
        "id": "JrdmrlwDZmKw"
      },
      "source": [
        "Vamos a implementar el segundo algoritmo visto en las trasparencias"
      ]
    },
    {
      "cell_type": "code",
      "metadata": {
        "id": "wso2OiAhOx5S"
      },
      "source": [
        "def biseccion(x0,x1,TOL,f=function):\n",
        "  \"\"\"\n",
        "    Dada una función f definida en el intervalo [x0,x1] tal que f(x0)*f(x1)<0, \n",
        "    devuelve un cero de la función contenido en este intervalo usando el método de la bisección.\n",
        "    \n",
        "\n",
        "    Parámetros:\n",
        "    * x0: Extremo izquierdo\n",
        "    * x1: Extremo derecho\n",
        "    * TOL: Diferencia máxima entre dos iteraciones seguidas\n",
        "    * f: función definida en los reales\n",
        "\n",
        "    Valor de retorno \n",
        "    * cero: f(cero) es aproximadamente 0\n",
        "  \"\"\"\n",
        "  x=(x0+x1)/2\n",
        "  y=x+1\n",
        "  while abs(x-y)>=TOL:\n",
        "    x=(x0+x1)/2\n",
        "    if (f(x0)*f(x)<0):\n",
        "      x1=x\n",
        "    else:\n",
        "      x0=x\n",
        "    y=(x0+x1)/2\n",
        "  cero=x\n",
        "  return cero  "
      ],
      "execution_count": 36,
      "outputs": []
    },
    {
      "cell_type": "code",
      "metadata": {
        "colab": {
          "base_uri": "https://localhost:8080/"
        },
        "id": "TnE3g_yo0gg7",
        "outputId": "16f6d42e-73b6-4b2e-ae68-5bfcc39fddf4"
      },
      "source": [
        "biseccion(-2,-1,1e-16)"
      ],
      "execution_count": 37,
      "outputs": [
        {
          "output_type": "execute_result",
          "data": {
            "text/plain": [
              "-1.3247179572447458"
            ]
          },
          "metadata": {},
          "execution_count": 37
        }
      ]
    },
    {
      "cell_type": "markdown",
      "metadata": {
        "id": "L2bnvjDSaQNR"
      },
      "source": [
        "# Ejemplo 2: cálculo de ceros usando el método del punto fijo\n",
        "\n",
        "Cálculo del cero de la función $f(x)=x^3-x+1$ usando el método del punto fijo con la función de iteración $g(x)=\\sqrt[3]{x-1}$ con valor inicial $x_0=-1.5$."
      ]
    },
    {
      "cell_type": "code",
      "metadata": {
        "id": "RbCHb161axnA"
      },
      "source": [
        "def cube_root(x):\n",
        "    return np.sign(x)*(abs(x)**(1/3.))\n",
        "\n",
        "def function(x):\n",
        "  return cube_root(x-1)\n"
      ],
      "execution_count": 38,
      "outputs": []
    },
    {
      "cell_type": "code",
      "metadata": {
        "id": "1iMLJeUyMZDg"
      },
      "source": [
        "def puntofijo(x0,TOL,N_max,g=function):\n",
        "  \"\"\"\n",
        "    Dada una función g definida en los reales dónde g'(x0)<1, \n",
        "    devuelve un punto fijo de la función g usando el método \n",
        "    del punto fijo.\n",
        "    \n",
        "\n",
        "    Parámetros:\n",
        "    * x0: Primera iteración\n",
        "    * TOL: Diferencia máxima entre dos iteraciones seguidas\n",
        "    * N_max: Número máximo de iteraciones\n",
        "    * g: función definida en los reales\n",
        "    \n",
        "\n",
        "    Valor de retorno \n",
        "    * pf es el punto fijo de la función g(x)\n",
        "  \"\"\"   \n",
        "  pf=x0;\n",
        "  ant=x0+1\n",
        "  for i in range(N_max):  \n",
        "    if abs(pf-ant)<=TOL:\n",
        "      return pf\n",
        "    ant=pf\n",
        "    pf=g(pf)\n",
        "  return pf , \"Numero maximo de iteraciones superado\""
      ],
      "execution_count": 39,
      "outputs": []
    },
    {
      "cell_type": "code",
      "metadata": {
        "colab": {
          "base_uri": "https://localhost:8080/"
        },
        "id": "YTGKfd1w3cpc",
        "outputId": "614782bd-010f-4063-e898-193260344881"
      },
      "source": [
        "puntofijo(-1.5,1e-8,12)"
      ],
      "execution_count": 40,
      "outputs": [
        {
          "output_type": "execute_result",
          "data": {
            "text/plain": [
              "-1.3247179592198772"
            ]
          },
          "metadata": {},
          "execution_count": 40
        }
      ]
    },
    {
      "cell_type": "markdown",
      "metadata": {
        "id": "QImUs2oIayCa"
      },
      "source": [
        "# Ejemplo 3: cálculo de ceros usando el método de Newton-Raphson\n",
        "\n",
        "Cálculo del cero de la función $f(x)=\\mathrm{e}^{-x}-\\frac{1}{2}\\ln x$ usando el método de Newton-Raphson con valor inicial $x_0=1$."
      ]
    },
    {
      "cell_type": "code",
      "metadata": {
        "id": "hypXRflrIhOZ"
      },
      "source": [
        "x00 = 2.44\n",
        "V0 = 4.83*math.pi\n",
        "rr = 0.03\n",
        "def function(x):\n",
        "  return math.pi*x00*(x**3)-3*V0*x-math.pi*(rr**3)*x00\n",
        "def f_derivate(x):\n",
        "  return 3*math.pi*x00*(x**2)-3*V0"
      ],
      "execution_count": 41,
      "outputs": []
    },
    {
      "cell_type": "code",
      "metadata": {
        "id": "hWROYgb1bNNm"
      },
      "source": [
        "def newtonraphson(x0,TOL,N_max,f=function,fd=f_derivate):\n",
        "  \"\"\"\n",
        "    Dada una función f definida en los reales dónde f'(x0) és distinto de 0, \n",
        "    devuelve un cero de la función usando el método de Newton-Raphson.\n",
        "    \n",
        "\n",
        "    Parámetros:\n",
        "    * x0: Primera iteración\n",
        "    * TOL: Diferencia máxima entre dos iteraciones seguidas\n",
        "    * N_max: Número máximo de iteraciones\n",
        "    * f:funcion definida en los reales\n",
        "    * fd: derivada de f\n",
        "    \n",
        "\n",
        "    Valor de retorno \n",
        "    * cero: f(cero) es aproximadamente 0\n",
        "  \"\"\"    \n",
        "  cero=x0\n",
        "  ant=x0+1\n",
        "  for i in range(N_max):\n",
        "    if abs(cero-ant)<TOL:\n",
        "      return cero\n",
        "    ant=cero\n",
        "    cero=cero-f(cero)/fd(cero)\n",
        "  return cero, \"Numero maximo de iteraciones superado\" "
      ],
      "execution_count": 42,
      "outputs": []
    },
    {
      "cell_type": "code",
      "metadata": {
        "colab": {
          "base_uri": "https://localhost:8080/"
        },
        "id": "vwpgovqeJGSV",
        "outputId": "a555ffb3-ab04-4d95-ac11-caf35d57c8b9"
      },
      "source": [
        "newtonraphson(2,1e-10,100)"
      ],
      "execution_count": 43,
      "outputs": [
        {
          "output_type": "execute_result",
          "data": {
            "text/plain": [
              "2.436911091887408"
            ]
          },
          "metadata": {},
          "execution_count": 43
        }
      ]
    },
    {
      "cell_type": "markdown",
      "metadata": {
        "id": "GdWZKYV8bNx1"
      },
      "source": [
        "# Ejemplo 4: cálculo de ceros usando el método de la secante\n",
        "\n",
        "Cálculo del cero de la función $f(x)=\\mathrm{e}^{-x}-\\frac{2}{x}+1$ usando el método de la secante con valores iniciales $x_0=0.5$ y $x_1=1$."
      ]
    },
    {
      "cell_type": "code",
      "metadata": {
        "id": "8zw9QWb_K7AW"
      },
      "source": [
        "def function(x):\n",
        "  return math.exp(-x)-(2/x)+1"
      ],
      "execution_count": 44,
      "outputs": []
    },
    {
      "cell_type": "code",
      "metadata": {
        "id": "MJ8Jsz6cboe_"
      },
      "source": [
        "def secante(x0,x1,TOL,N_max,f=function):\n",
        "  \"\"\"\n",
        "    Dada una función f definida en los reales con valores iniciales x0 y x1 con f(x0) distinto de f(x1), \n",
        "    devuelve un cero de la función usando el método de la secante.\n",
        "    \n",
        "\n",
        "    Parámetros:\n",
        "    * x0,x1: Primeras iteraciones\n",
        "    * TOL: Diferencia máxima entre dos iteraciones seguidas\n",
        "    * N_max: Número máximo de iteraciones\n",
        "    * f: función definida en los reales\n",
        "    \n",
        "\n",
        "    Valor de retorno \n",
        "    * cero: f(cero) es aproximadamente 0\n",
        "  \"\"\"  \n",
        "  y0=f(x0)  \n",
        "  y1=f(x1)\n",
        "  for i in range(N_max):\n",
        "    x=x1-((x0-x1)/(y0-y1))*y1 \n",
        "    if abs(x-x1)<TOL:\n",
        "      return x\n",
        "    x0=x1\n",
        "    y0=y1\n",
        "    x1=x\n",
        "    y1=f(x)\n",
        "  return x, \"hemos superado el numero maximo de iteraciones\""
      ],
      "execution_count": 45,
      "outputs": []
    },
    {
      "cell_type": "code",
      "metadata": {
        "colab": {
          "base_uri": "https://localhost:8080/"
        },
        "id": "ltEWNYjvKcmg",
        "outputId": "17955141-eec1-4c56-a9e5-a7d3361b9999"
      },
      "source": [
        "secante(0.5,1,1e-10,10)"
      ],
      "execution_count": 46,
      "outputs": [
        {
          "output_type": "execute_result",
          "data": {
            "text/plain": [
              "1.6878939988284736"
            ]
          },
          "metadata": {},
          "execution_count": 46
        }
      ]
    },
    {
      "cell_type": "markdown",
      "metadata": {
        "id": "bClCWmgUbpC1"
      },
      "source": [
        "# Ejemplo 5: cálculo de ceros usando el método de la regula-falsi\n",
        "\n",
        "Cálculo del cero de la función $f(x)=\\mathrm{e}^{-x}-\\frac{2}{x}+1$ usando el método de la regula falsi con valores iniciales $x_0=1$ y $x_1=2$."
      ]
    },
    {
      "cell_type": "code",
      "metadata": {
        "id": "Hu9GfbPMPFzD"
      },
      "source": [
        "def function(x):\n",
        "  return math.exp(-x)-(2/x)+1"
      ],
      "execution_count": 47,
      "outputs": []
    },
    {
      "cell_type": "code",
      "metadata": {
        "id": "I7Nc0Gh2cMTC"
      },
      "source": [
        "def regulafalsi(x0,x1,TOL,N_max,f=function):\n",
        "  \"\"\"\n",
        "    Dada una función f definida en los reales tal que f(x0)*f(x1)<0, \n",
        "    devuelve un cero de la función usando el método de la regula-falsi.\n",
        "    \n",
        "\n",
        "    Parámetros:\n",
        "    * x0,x1: Primeras iteraciones    \n",
        "    * TOL: Diferencia máxima entre dos iteraciones seguidas\n",
        "    * N_max: Número máximo de iteraciones\n",
        "    * f: función definida en los reales\n",
        "\n",
        "    Valor de retorno \n",
        "    * x: f(x) es aproximadamente 0\n",
        "  \"\"\" \n",
        "  y0 = f(x0)\n",
        "  y1 = f(x1)\n",
        "  for i in range(N_max):\n",
        "    x=x1-((x0-x1)/(y0-y1))*y1 \n",
        "    if min(abs(x-x1), abs(x-x0)) <TOL:\n",
        "      return x\n",
        "    y = f(x)\n",
        "    if y*y1<0:\n",
        "      x0=x1\n",
        "      y0=y1\n",
        "    x1=x\n",
        "    y1=y\n",
        "  return x,  \"hemos superado el numero maximo de iteraciones\"\n",
        " "
      ],
      "execution_count": 48,
      "outputs": []
    },
    {
      "cell_type": "code",
      "metadata": {
        "colab": {
          "base_uri": "https://localhost:8080/"
        },
        "id": "KzBbVhHoQKQl",
        "outputId": "da617177-04a9-41ec-eccf-d2188374aa21"
      },
      "source": [
        "regulafalsi(1,2,1e-4,15)"
      ],
      "execution_count": 49,
      "outputs": [
        {
          "output_type": "execute_result",
          "data": {
            "text/plain": [
              "1.6879285829671313"
            ]
          },
          "metadata": {},
          "execution_count": 49
        }
      ]
    },
    {
      "cell_type": "markdown",
      "metadata": {
        "id": "XesOcrF2cMtk"
      },
      "source": [
        "# Ejemplo 6: Cálculo aproximado del orden de convergencia"
      ]
    },
    {
      "cell_type": "markdown",
      "metadata": {
        "id": "pIIiIgh9n7x8"
      },
      "source": [
        "## NR\n",
        "\n",
        "Cálculo aproximado del orden de convergencia de la sucesion generada por el método de Newton-Raphson para calcular un cero de la función $f(x)=\\mathrm{e}^{-x}-\\frac{1}{2}\\ln x$ con valor inicial $x_0=1$ (método de Newton-Raphson) ."
      ]
    },
    {
      "cell_type": "code",
      "metadata": {
        "id": "bApR5lvjKID9"
      },
      "source": [
        "def function(x):\n",
        "  return math.exp(-x)-0.5*math.log(x)\n",
        "def f_derivate(x):\n",
        "  return -math.exp(-x)-1/(2*x)"
      ],
      "execution_count": 50,
      "outputs": []
    },
    {
      "cell_type": "code",
      "metadata": {
        "id": "b9ECqglvLKKH"
      },
      "source": [
        " def convNR(x0, N_max, f = function, fd = f_derivate):\n",
        "  \"\"\"\n",
        "    Dada una función f definida en los reales dónde f'(x0) és distinto de 0, \n",
        "    devuelve una recta cuya pendiente és el orden de convergencia del método de Newton-Raphson.\n",
        "    \n",
        "\n",
        "    Parámetros:\n",
        "    * x0: Primera iteración\n",
        "    * N_max: Número máximo de iteraciones\n",
        "    * f: función definida en los reales\n",
        "    * fd: función derivada de f\n",
        "\n",
        "    Valor de retorno \n",
        "    * w: orden de convergencia del método y pendiente de la recta de regresión\n",
        "    * b: término independiente de la recta de regresión\n",
        "    * gráfica de la recta\n",
        "  \"\"\"  \n",
        "  cero=[x0]\n",
        "  for i in range(1,N_max):\n",
        "    cero.append(cero[i-1]-f(cero[i-1])/fd(cero[i-1]))\n",
        "  diferencias=[]\n",
        "  for i in range(len(cero)-1):\n",
        "    if (cero[len(cero)-1]-cero[i+1] != 0):\n",
        "      diferencias.append(math.log(abs(cero[len(cero)-1]-cero[i])))\n",
        "    else:\n",
        "      break  \n",
        "  v1=[]\n",
        "  v2=[]\n",
        "  for i in range(len(diferencias)-1):\n",
        "    v1.append(diferencias[i])\n",
        "    v2.append(diferencias[i+1])\n",
        "  v1=np.array(v1)\n",
        "  v2=np.array(v2)    \n",
        "  regresion_lineal = LinearRegression() \n",
        "  regresion_lineal.fit(v1.reshape(-1,1), v2) \n",
        "  return 'w = ' + str(regresion_lineal.coef_) + ', b = ' + str(regresion_lineal.intercept_),plt.plot(v1,v2)"
      ],
      "execution_count": 53,
      "outputs": []
    },
    {
      "cell_type": "code",
      "metadata": {
        "id": "ZlBzaTErR17Z",
        "outputId": "32e4d98f-9c38-4367-aa40-057abf6d1030",
        "colab": {
          "base_uri": "https://localhost:8080/",
          "height": 300
        }
      },
      "source": [
        "convNR(1,100)"
      ],
      "execution_count": 54,
      "outputs": [
        {
          "output_type": "execute_result",
          "data": {
            "text/plain": [
              "('w = [1.99891669], b = -0.9349887473608351',\n",
              " [<matplotlib.lines.Line2D at 0x7fc38865e6d0>])"
            ]
          },
          "metadata": {},
          "execution_count": 54
        },
        {
          "output_type": "display_data",
          "data": {
            "image/png": "[encoded data removed]",
            "text/plain": [
              "<Figure size 432x288 with 1 Axes>"
            ]
          },
          "metadata": {
            "needs_background": "light"
          }
        }
      ]
    },
    {
      "cell_type": "markdown",
      "metadata": {
        "id": "09cSvOHaT1sS"
      },
      "source": [
        "## SEC\n",
        "Cálculo aproximado del orden de convergencia de la sucesion generada por el método de la secante para calcular un cero de la función $f(x)=\\mathrm{e}^{-x}-\\frac{1}{2}\\ln x$ con valores iniciales $x_0=0.5$ y $x_1=1$ (método de Newton-Raphson)."
      ]
    },
    {
      "cell_type": "code",
      "metadata": {
        "id": "UpmwwHe_N0JX"
      },
      "source": [
        "\n",
        "def convSec(x0,x1,N_max,f=function):\n",
        "  \"\"\"\n",
        "    Dada una función f definida en los reales dónde f(x0) és distinto de f(x1),\n",
        "     devuelve una recta cuya pendiente és el orden de convergencia del método de la secante.\n",
        "    \n",
        "\n",
        "    Parámetros:\n",
        "    * x0: Primera iteración\n",
        "    * x1: segunda iteración\n",
        "    * N_max: Número máximo de iteraciones\n",
        "    * f: función definida en los reales\n",
        "\n",
        "    Valor de retorno \n",
        "    * w: orden de convergencia del método y pendiente de la recta de regresión\n",
        "    * b: término independiente de la recta de regresión\n",
        "    * gráfica de la recta\n",
        "  \"\"\"  \n",
        "  y1=x1\n",
        "  cero=[x0,x1]\n",
        "  for i in range(2,N_max):\n",
        "    if abs(f(x0)-f(x1))==0:\n",
        "      break\n",
        "    x1=x0-((x0-x1)/(f(x0)-f(x1)))*f(x0)  \n",
        "    cero.append(x1)\n",
        "    x0=y1\n",
        "    y1=x1\n",
        "  diferencias=[]\n",
        "  for i in range(len(cero)-1):\n",
        "    if (cero[len(cero)-1]-cero[i+1] != 0):\n",
        "      diferencias.append(math.log(abs(cero[len(cero)-1]-cero[i])))\n",
        "    else:\n",
        "      break  \n",
        "  v1=[]\n",
        "  v2=[]\n",
        "  for i in range(len(diferencias)-1):\n",
        "    v1.append(diferencias[i])\n",
        "    v2.append(diferencias[i+1])\n",
        "  v1=np.array(v1)\n",
        "  v2=np.array(v2)  \n",
        "  regresion_lineal = LinearRegression() \n",
        "  regresion_lineal.fit(v1.reshape(-1,1), v2) \n",
        "  return 'w = ' + str(regresion_lineal.coef_) + ', b = ' + str(regresion_lineal.intercept_), plt.plot(v1,v2)\n",
        "   "
      ],
      "execution_count": 55,
      "outputs": []
    },
    {
      "cell_type": "code",
      "metadata": {
        "colab": {
          "base_uri": "https://localhost:8080/",
          "height": 302
        },
        "id": "FKQ0KBvizHWn",
        "outputId": "60eb851a-bf14-4359-a79a-570f8840849d"
      },
      "source": [
        "convSec(0.5,1,100)"
      ],
      "execution_count": 56,
      "outputs": [
        {
          "output_type": "execute_result",
          "data": {
            "text/plain": [
              "('w = [1.6138762], b = -0.5981116755691067',\n",
              " [<matplotlib.lines.Line2D at 0x7fc383c09090>])"
            ]
          },
          "metadata": {},
          "execution_count": 56
        },
        {
          "output_type": "display_data",
          "data": {
            "image/png": "[encoded data removed]",
            "text/plain": [
              "<Figure size 432x288 with 1 Axes>"
            ]
          },
          "metadata": {
            "needs_background": "light"
          }
        }
      ]
    },
    {
      "cell_type": "markdown",
      "metadata": {
        "id": "QC24_2TQc7R-"
      },
      "source": [
        "# Ejemplo 7: Cálculo de raíces múltiples\n",
        "\n",
        "Cálculo de la sucesión generada por el método de Newton-Raphson al intentar calcular el cero doble $\\hat{x}=0$ de la función $f(x)=1-\\cos x$ con valor inicial $x_0=1$."
      ]
    },
    {
      "cell_type": "code",
      "metadata": {
        "id": "Fysi0wmu5l1c"
      },
      "source": [
        "def function(x):\n",
        "  return 1-math.cos(x)\n",
        "def f_der(x):\n",
        "  return math.sin(x)"
      ],
      "execution_count": 57,
      "outputs": []
    },
    {
      "cell_type": "code",
      "metadata": {
        "id": "MIei3fGMdTbH"
      },
      "source": [
        "def sucNR(x0,N_max,f=function,fd=f_der):\n",
        "  \"\"\"\n",
        "    Dada una función f definida en los reales dónde f'(x0) és distinto de 0, \n",
        "    devuelve la sucesión generada por el método de Newton-Raphson.\n",
        "    \n",
        "\n",
        "    Parámetros:\n",
        "    * x0: Primera iteración\n",
        "    * N_max: Número máximo de iteraciones\n",
        "    * f: función definida en los reales\n",
        "    * fd: función derivada de f\n",
        "\n",
        "    Valor de retorno \n",
        "    * cero: sucesión generada por el método de Newton-Raphson\n",
        "    * fcero: sucesión generada por el método de Newton-Raphson evaluada en f\n",
        "    * diferencias: diferencia entre dos términos seguidos de cada iteración\n",
        "  \"\"\"\n",
        "  cero=[x0]\n",
        "  for i in range(1,N_max):\n",
        "    if(cero[i-1]==0):\n",
        "      break\n",
        "    cero.append(cero[i-1]-f(cero[i-1])/fd(cero[i-1]))\n",
        "  diferencias=[]\n",
        "  for i in range(len(cero)-1):\n",
        "    if (cero[len(cero)-1]-cero[i+1] != 0):\n",
        "      diferencias.append(abs(cero[i+1]-cero[i]))\n",
        "    else:\n",
        "      diferencias.append(0)\n",
        "  diferencias.append(0)    \n",
        "  fcero=[]\n",
        "  for i in cero:\n",
        "    fcero.append(f(i))    \n",
        "  res=pd.DataFrame(cero,columns=['cero'])\n",
        "  res['f(cero)']=fcero\n",
        "  res['xi-xi+1']=diferencias\n",
        "\n",
        "  return res \n",
        "\n"
      ],
      "execution_count": 58,
      "outputs": []
    },
    {
      "cell_type": "code",
      "metadata": {
        "id": "c_XnwO2_UdbB",
        "outputId": "762f7630-c879-4b6f-a8c5-4c4ae3dead5d",
        "colab": {
          "base_uri": "https://localhost:8080/",
          "height": 363
        }
      },
      "source": [
        "sucNR(1,10)"
      ],
      "execution_count": 59,
      "outputs": [
        {
          "output_type": "execute_result",
          "data": {
            "text/html": [
              "<div>\n",
              "<style scoped>\n",
              "    .dataframe tbody tr th:only-of-type {\n",
              "        vertical-align: middle;\n",
              "    }\n",
              "\n",
              "    .dataframe tbody tr th {\n",
              "        vertical-align: top;\n",
              "    }\n",
              "\n",
              "    .dataframe thead th {\n",
              "        text-align: right;\n",
              "    }\n",
              "</style>\n",
              "<table border=\"1\" class=\"dataframe\">\n",
              "  <thead>\n",
              "    <tr style=\"text-align: right;\">\n",
              "      <th></th>\n",
              "      <th>cero</th>\n",
              "      <th>f(cero)</th>\n",
              "      <th>xi-xi+1</th>\n",
              "    </tr>\n",
              "  </thead>\n",
              "  <tbody>\n",
              "    <tr>\n",
              "      <th>0</th>\n",
              "      <td>1.000000</td>\n",
              "      <td>0.459698</td>\n",
              "      <td>0.546302</td>\n",
              "    </tr>\n",
              "    <tr>\n",
              "      <th>1</th>\n",
              "      <td>0.453698</td>\n",
              "      <td>0.101167</td>\n",
              "      <td>0.230822</td>\n",
              "    </tr>\n",
              "    <tr>\n",
              "      <th>2</th>\n",
              "      <td>0.222876</td>\n",
              "      <td>0.024734</td>\n",
              "      <td>0.111901</td>\n",
              "    </tr>\n",
              "    <tr>\n",
              "      <th>3</th>\n",
              "      <td>0.110974</td>\n",
              "      <td>0.006151</td>\n",
              "      <td>0.055544</td>\n",
              "    </tr>\n",
              "    <tr>\n",
              "      <th>4</th>\n",
              "      <td>0.055430</td>\n",
              "      <td>0.001536</td>\n",
              "      <td>0.027722</td>\n",
              "    </tr>\n",
              "    <tr>\n",
              "      <th>5</th>\n",
              "      <td>0.027708</td>\n",
              "      <td>0.000384</td>\n",
              "      <td>0.013855</td>\n",
              "    </tr>\n",
              "    <tr>\n",
              "      <th>6</th>\n",
              "      <td>0.013853</td>\n",
              "      <td>0.000096</td>\n",
              "      <td>0.006927</td>\n",
              "    </tr>\n",
              "    <tr>\n",
              "      <th>7</th>\n",
              "      <td>0.006926</td>\n",
              "      <td>0.000024</td>\n",
              "      <td>0.003463</td>\n",
              "    </tr>\n",
              "    <tr>\n",
              "      <th>8</th>\n",
              "      <td>0.003463</td>\n",
              "      <td>0.000006</td>\n",
              "      <td>0.000000</td>\n",
              "    </tr>\n",
              "    <tr>\n",
              "      <th>9</th>\n",
              "      <td>0.001732</td>\n",
              "      <td>0.000001</td>\n",
              "      <td>0.000000</td>\n",
              "    </tr>\n",
              "  </tbody>\n",
              "</table>\n",
              "</div>"
            ],
            "text/plain": [
              "       cero   f(cero)   xi-xi+1\n",
              "0  1.000000  0.459698  0.546302\n",
              "1  0.453698  0.101167  0.230822\n",
              "2  0.222876  0.024734  0.111901\n",
              "3  0.110974  0.006151  0.055544\n",
              "4  0.055430  0.001536  0.027722\n",
              "5  0.027708  0.000384  0.013855\n",
              "6  0.013853  0.000096  0.006927\n",
              "7  0.006926  0.000024  0.003463\n",
              "8  0.003463  0.000006  0.000000\n",
              "9  0.001732  0.000001  0.000000"
            ]
          },
          "metadata": {},
          "execution_count": 59
        }
      ]
    },
    {
      "cell_type": "code",
      "metadata": {
        "id": "sFHvvVZFUg4K"
      },
      "source": [
        ""
      ],
      "execution_count": null,
      "outputs": []
    }
  ]
}