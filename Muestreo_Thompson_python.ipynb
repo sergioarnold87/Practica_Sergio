{
  "nbformat": 4,
  "nbformat_minor": 0,
  "metadata": {
    "colab": {
      "name": "Muestreo Thompson_python.ipynb",
      "provenance": [],
      "authorship_tag": "ABX9TyNWnCIOZY3jJvYHTTJkcvFg",
      "include_colab_link": true
    },
    "kernelspec": {
      "name": "python3",
      "display_name": "Python 3"
    },
    "language_info": {
      "name": "python"
    }
  },
  "cells": [
    {
      "cell_type": "markdown",
      "metadata": {
        "id": "view-in-github",
        "colab_type": "text"
      },
      "source": [
        "<a href=\"https://colab.research.google.com/github/sergioarnold87/Practica_Sergio/blob/main/Muestreo_Thompson_python.ipynb\" target=\"_parent\"><img src=\"https://colab.research.google.com/assets/colab-badge.svg\" alt=\"Open In Colab\"/></a>"
      ]
    },
    {
      "cell_type": "code",
      "metadata": {
        "colab": {
          "base_uri": "https://localhost:8080/"
        },
        "id": "_AWcIe6NMde8",
        "outputId": "750dcd01-9790-4f3b-8cf2-6ef76a1266c3"
      },
      "source": [
        "# Damos acceso a nuestro Drive\n",
        "\n",
        "from google.colab import drive\n",
        "drive.mount('/content/drive')"
      ],
      "execution_count": 1,
      "outputs": [
        {
          "output_type": "stream",
          "text": [
            "Mounted at /content/drive\n"
          ],
          "name": "stdout"
        }
      ]
    },
    {
      "cell_type": "code",
      "metadata": {
        "id": "I71aQwkRMiHo"
      },
      "source": [
        "from google.colab import files # Para manejar los archivos y, por ejemplo, exportar a su navegador\n",
        "import glob # Para manejar los archivos y, por ejemplo, exportar a su navegador\n",
        "from google.colab import drive # Montar tu Google drive"
      ],
      "execution_count": 2,
      "outputs": []
    },
    {
      "cell_type": "markdown",
      "metadata": {
        "id": "h9qwQlOLM6zP"
      },
      "source": [
        "# Muestreo *Thompson*"
      ]
    },
    {
      "cell_type": "code",
      "metadata": {
        "id": "Z_IrjrjuM3By"
      },
      "source": [
        "# Importar librerias\n",
        "import numpy as np\n",
        "import matplotlib.pyplot as plt\n",
        "import pandas as pd"
      ],
      "execution_count": 3,
      "outputs": []
    },
    {
      "cell_type": "code",
      "metadata": {
        "id": "nyL0XqMtNN2v"
      },
      "source": [
        "# Dataset\n",
        "dataset = pd.read_csv(\"/content/drive/MyDrive/Datasets/Ads_CTR_Optimisation.csv\")"
      ],
      "execution_count": 5,
      "outputs": []
    },
    {
      "cell_type": "code",
      "metadata": {
        "id": "2KyaqqQDNbtX"
      },
      "source": [
        "# Algoritmo de Muestreo de Thompson\n",
        "import random\n",
        "N = 10000\n",
        "d = 10\n",
        "number_of_rewards_1 = [0] * d\n",
        "number_of_rewards_0 = [0] * d\n",
        "ads_selected = []\n",
        "total_reward = 0\n",
        "for n in range(0,N):\n",
        "    max_random = 0\n",
        "    ad = 0\n",
        "    for i in range(0, d):\n",
        "        random_beta = random.betavariate(number_of_rewards_1[i]+1, number_of_rewards_0[i]+1)\n",
        "        if random_beta > max_random:\n",
        "            max_random = random_beta\n",
        "            ad = i\n",
        "    ads_selected.append(ad)\n",
        "    reward = dataset.values[n, ad]\n",
        "    if reward == 1:\n",
        "        number_of_rewards_1[ad] = number_of_rewards_1[ad] + 1\n",
        "    else:\n",
        "        number_of_rewards_0[ad] = number_of_rewards_0[ad] + 1\n",
        "    total_reward = total_reward + reward"
      ],
      "execution_count": 7,
      "outputs": []
    },
    {
      "cell_type": "code",
      "metadata": {
        "colab": {
          "base_uri": "https://localhost:8080/",
          "height": 295
        },
        "id": "5qZhKhlRQ1Yu",
        "outputId": "b2aaf1a1-c16b-4901-871f-f3cce976c568"
      },
      "source": [
        "plt.hist(ads_selected)\n",
        "plt.title(\"Histograma de anuncios\")\n",
        "plt.xlabel(\"ID del Anuncio\")\n",
        "plt.ylabel(\"Frecuencia de visualización del anuncio\")\n",
        "plt.show()"
      ],
      "execution_count": 8,
      "outputs": [
        {
          "output_type": "display_data",
          "data": {
            "image/png": "[encoded data removed]",
            "text/plain": [
              "<Figure size 432x288 with 1 Axes>"
            ]
          },
          "metadata": {
            "tags": [],
            "needs_background": "light"
          }
        }
      ]
    },
    {
      "cell_type": "code",
      "metadata": {
        "id": "DqIzCAa1VrKm"
      },
      "source": [
        ""
      ],
      "execution_count": null,
      "outputs": []
    }
  ]
}