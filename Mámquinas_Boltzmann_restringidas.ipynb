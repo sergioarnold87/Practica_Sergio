{
  "nbformat": 4,
  "nbformat_minor": 0,
  "metadata": {
    "colab": {
      "name": "Mámquinas_Boltzmann_restringidas.ipynb",
      "provenance": [],
      "mount_file_id": "1aOMQnZ4BhYUPF1UlocfxfnFyCuYphbtk",
      "authorship_tag": "ABX9TyMI5DzcmuddrppcCGVqXqoX",
      "include_colab_link": true
    },
    "kernelspec": {
      "name": "python3",
      "display_name": "Python 3"
    },
    "language_info": {
      "name": "python"
    }
  },
  "cells": [
    {
      "cell_type": "markdown",
      "metadata": {
        "id": "view-in-github",
        "colab_type": "text"
      },
      "source": [
        "<a href=\"https://colab.research.google.com/github/sergioarnold87/Practica_Sergio/blob/main/M%C3%A1mquinas_Boltzmann_restringidas.ipynb\" target=\"_parent\"><img src=\"https://colab.research.google.com/assets/colab-badge.svg\" alt=\"Open In Colab\"/></a>"
      ]
    },
    {
      "cell_type": "code",
      "metadata": {
        "id": "ohPG2ZTXdX2C"
      },
      "source": [
        "# Importar las librerías\n",
        "import numpy as np\n",
        "import pandas as pd\n",
        "import torch\n",
        "import torch.nn as nn\n",
        "import torch.nn.parallel\n",
        "import torch.optim as optim\n",
        "import torch.utils.data\n",
        "from torch.autograd import Variable"
      ],
      "execution_count": 1,
      "outputs": []
    },
    {
      "cell_type": "code",
      "metadata": {
        "colab": {
          "base_uri": "https://localhost:8080/"
        },
        "id": "ITGvc_3Gh3q4",
        "outputId": "7afbcdc6-92ce-42a6-8c87-3fb7dc1e1657"
      },
      "source": [
        "from google.colab import drive\n",
        "drive.mount('/content/drive')"
      ],
      "execution_count": 2,
      "outputs": [
        {
          "output_type": "stream",
          "text": [
            "Mounted at /content/drive\n"
          ],
          "name": "stdout"
        }
      ]
    },
    {
      "cell_type": "code",
      "metadata": {
        "id": "lZNMHHZnh5H4"
      },
      "source": [
        "movies = pd.read_csv(\"/content/drive/MyDrive/Datasets/movies.dat\", sep = '::', header = None, engine = 'python', encoding = 'latin-1')\n",
        "users  = pd.read_csv(\"/content/drive/MyDrive/Datasets/users.dat\", sep = '::', header = None, engine = 'python', encoding = 'latin-1')\n",
        "ratings  = pd.read_csv(\"/content/drive/MyDrive/Datasets/ratings.dat\", sep = '::', header = None, engine = 'python', encoding = 'latin-1')\n"
      ],
      "execution_count": 3,
      "outputs": []
    },
    {
      "cell_type": "markdown",
      "metadata": {
        "id": "-GCm4Nxnicc3"
      },
      "source": [
        "# Preparar el conjunto de entrenamiento y conjunto de testing"
      ]
    },
    {
      "cell_type": "code",
      "metadata": {
        "id": "F8GPe-FFiXrZ"
      },
      "source": [
        "training_set = pd.read_csv(\"/content/drive/MyDrive/Datasets/ml-100k/u1.base\", sep = \"\\t\", header = None)\n",
        "training_set = np.array(training_set, dtype = \"int\")\n",
        "test_set = pd.read_csv(\"/content/drive/MyDrive/Datasets/ml-100k/u1.test\", sep = \"\\t\", header = None)\n",
        "test_set = np.array(test_set, dtype = \"int\")"
      ],
      "execution_count": 4,
      "outputs": []
    }
  ]
}