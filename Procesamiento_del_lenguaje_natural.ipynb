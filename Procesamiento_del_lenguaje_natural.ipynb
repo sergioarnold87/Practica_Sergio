{
  "nbformat": 4,
  "nbformat_minor": 0,
  "metadata": {
    "colab": {
      "name": "Procesamiento_del_lenguaje natural.ipynb",
      "provenance": [],
      "authorship_tag": "ABX9TyMpWExB197RlElxBR4G0GSM",
      "include_colab_link": true
    },
    "kernelspec": {
      "name": "python3",
      "display_name": "Python 3"
    },
    "language_info": {
      "name": "python"
    }
  },
  "cells": [
    {
      "cell_type": "markdown",
      "metadata": {
        "id": "view-in-github",
        "colab_type": "text"
      },
      "source": [
        "<a href=\"https://colab.research.google.com/github/sergioarnold87/Practica_Sergio/blob/main/Procesamiento_del_lenguaje_natural.ipynb\" target=\"_parent\"><img src=\"https://colab.research.google.com/assets/colab-badge.svg\" alt=\"Open In Colab\"/></a>"
      ]
    },
    {
      "cell_type": "markdown",
      "metadata": {
        "id": "GPKIQjWkkd0I"
      },
      "source": [
        "# Ejercicio de Procesamiento del lenguaje natural en Python.\n",
        "  ### Un analisis que nos pueda ayudar para analizar textos, particularmente este ejercico nos ayuda a ver si una reseña de un restaurante es positivo o negativo.\n"
      ]
    },
    {
      "cell_type": "code",
      "metadata": {
        "id": "q0SdTAEJkNCx"
      },
      "source": [
        ""
      ],
      "execution_count": null,
      "outputs": []
    }
  ]
}