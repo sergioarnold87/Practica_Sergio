{
  "nbformat": 4,
  "nbformat_minor": 0,
  "metadata": {
    "colab": {
      "name": "TD3_Sergio.ipynb",
      "provenance": [],
      "collapsed_sections": [],
      "toc_visible": true,
      "authorship_tag": "ABX9TyNDMDOwkhqObNdmnP1BbC+K",
      "include_colab_link": true
    },
    "kernelspec": {
      "name": "python3",
      "display_name": "Python 3"
    },
    "language_info": {
      "name": "python"
    }
  },
  "cells": [
    {
      "cell_type": "markdown",
      "metadata": {
        "id": "view-in-github",
        "colab_type": "text"
      },
      "source": [
        "<a href=\"https://colab.research.google.com/github/sergioarnold87/Practica_Sergio/blob/main/TD3_Sergio.ipynb\" target=\"_parent\"><img src=\"https://colab.research.google.com/assets/colab-badge.svg\" alt=\"Open In Colab\"/></a>"
      ]
    },
    {
      "cell_type": "markdown",
      "metadata": {
        "id": "WXu1r8qvSzWf"
      },
      "source": [
        "# Gradiente de política determinista profunda (TD3) de doble retardo"
      ]
    },
    {
      "cell_type": "markdown",
      "metadata": {
        "id": "Zt3aUlD0NQmB"
      },
      "source": [
        "## Instalación de los paquetes"
      ]
    },
    {
      "cell_type": "code",
      "metadata": {
        "colab": {
          "base_uri": "https://localhost:8080/"
        },
        "id": "Ke110BUJNVg5",
        "outputId": "17db6efe-3b4c-41d3-ad73-4bac037e63bf"
      },
      "source": [
        "!pip install pybullet"
      ],
      "execution_count": 1,
      "outputs": [
        {
          "output_type": "stream",
          "name": "stdout",
          "text": [
            "Collecting pybullet\n",
            "  Downloading pybullet-3.2.0-cp37-cp37m-manylinux1_x86_64.whl (89.3 MB)\n",
            "\u001b[K     |████████████████████████████████| 89.3 MB 29 kB/s \n",
            "\u001b[?25hInstalling collected packages: pybullet\n",
            "Successfully installed pybullet-3.2.0\n"
          ]
        }
      ]
    },
    {
      "cell_type": "markdown",
      "metadata": {
        "id": "xDId92XkNcrO"
      },
      "source": [
        "## Importar las librerías"
      ]
    },
    {
      "cell_type": "code",
      "metadata": {
        "id": "Ikr2p0Js8iB4"
      },
      "source": [
        "import os\n",
        "import time\n",
        "import random\n",
        "import numpy as np\n",
        "import matplotlib.pyplot as plt\n",
        "import pybullet_envs\n",
        "import gym\n",
        "import torch\n",
        "import torch.nn as nn\n",
        "import torch.nn.functional as F\n",
        "from gym import wrappers\n",
        "from torch.autograd import Variable\n",
        "from collections import deque"
      ],
      "execution_count": 2,
      "outputs": []
    },
    {
      "cell_type": "markdown",
      "metadata": {
        "id": "QUr3sPWNOli-"
      },
      "source": [
        "## Paso 1: Inicializar la memoria de la repeteción de experiencias"
      ]
    },
    {
      "cell_type": "code",
      "metadata": {
        "id": "2r07f4amOi6I"
      },
      "source": [
        "\"\"\"\n",
        "La clase RipleyBuffers define unos conceptos, una plantilla y las futuras instancias de esta clase van a ser los objetos\n",
        "que no serán ni más ni menos que la memoria en sí mismo que utilizaremos en el código. De hecho, este shelf que aparece \n",
        "por aquí y que ya he guardado en él algunas variables harán referencia al propio objeto memoria que será creado a partir de la \n",
        "clase RipleyBuffer.\n",
        "\"\"\"\n",
        "\n",
        "class ReplayBuffer(object):\n",
        "  def __init__(self, max_size =1e6):\n",
        "    self.storage = []\n",
        "    self.max_size = max_size\n",
        "    self.ptr = 0\n",
        "\n",
        "# -----------------------------------------------------------------------------\n",
        " # Vamos a construir la primera herramienta, la primera funcionalidad de esta \n",
        " # clase. el metodo ADD\n",
        "# -----------------------------------------------------------------------------\n",
        "  def add(self, transition):\n",
        "    if len(self.storage)== self.max_size:\n",
        "      self.storage[int(self.ptr)] = transition\n",
        "      self.ptr = (self.ptr +1) % self.max_size\n",
        "    else:\n",
        "      self.storage.append(transition)\n",
        "\n",
        "\n",
        "# -----------------------------------------------------------------------------\n",
        "  #CREAR EL METODO SAMPLE\n",
        "\n",
        "  def sample(self, batch_size):\n",
        "    ind = np.random.randint(0, len(self.storage), size = batch_size)\n",
        "    batch_states, batch_next_states, batch_actions, batch_rewards, batch_dones = [], [], [], [], []\n",
        "    for i in ind:\n",
        "      state, next_state, action, reward, done = self.storage[i]\n",
        "      batch_states.append(np.array(state, copy = False))\n",
        "      batch_next_states.append(np.array(new_state, copy = False))\n",
        "      batch_actions.append(np.array(actions, copy = False))\n",
        "      batch_rewards.append(np.array(reward, copy = False))\n",
        "      batch_dones.append(np.array(done, copy = False))\n",
        "    return np.array(batch_states), np.array(batch_next_states), np.array(batch_actions), np.array(batch_rewards).reshape(-1, 1), np.array(batch_dones).reshape(-1, 1)"
      ],
      "execution_count": 4,
      "outputs": []
    },
    {
      "cell_type": "markdown",
      "metadata": {
        "id": "Jb7TTaHxWbQD"
      },
      "source": [
        "## Paso 2: Construimos una red neuronal para el **actor del modelo** y una red neuronal para el **actor del objetivo**"
      ]
    },
    {
      "cell_type": "code",
      "metadata": {
        "id": "4CeRW4D79HL0"
      },
      "source": [
        "class Actor(nn.Module):\n",
        "\n",
        "  def __init__(self, state_dim, action_dim, max_action):\n",
        "    super(Actor, self).__init__()\n",
        "    self.layer_1 = nn.Linear(state_dim, 400)\n",
        "    self.layer_2 = nn.Linear(400, 300)\n",
        "    señf.layer_3 = nn.Linear(300, action_dim)\n",
        "    self.max_action = max_action\n",
        "\n",
        "  def forward(self, x):\n",
        "    x = F.relu(self.layer_1(x))\n",
        "    x = F.relu(self.layer_2(x))\n",
        "    x = self.max_action * torch.tanh(self.layer_3(x))\n",
        "    return x"
      ],
      "execution_count": 9,
      "outputs": []
    },
    {
      "cell_type": "markdown",
      "metadata": {
        "id": "EJQ2XomMcRfd"
      },
      "source": [
        "# Paso 3: Construimos dos redes neuronales para los dos críticos del modelo y dos redes neuronales para los dos críticos del objetivo"
      ]
    },
    {
      "cell_type": "code",
      "metadata": {
        "id": "2Ld80NvCcQ8S"
      },
      "source": [
        "class Critic(nn.Module):\n",
        "\n",
        "  def __init__(self, state_dim, action_dim):\n",
        "    super(Critic, self).__init__()\n",
        "    # Definimos el primero de los Criticos como una red neuronal profunda\n",
        "    self.layer_1 = nn.Linear(state_dim + action_dim, 400)\n",
        "    self.layer_2 = nn.Linear(400, 300)\n",
        "    self.layer_3 = nn.Linear(300, 1)\n",
        "    # Definimos el segundo de los Críticos como red neuronal profunda\n",
        "    self.layer_4 = nn.Linear(state_dim + action_dim, 400)\n",
        "    self.layer_5 = nn.Linear(400, 300)\n",
        "    self.layer_6 = nn.Linear(300, 1)\n",
        "\n",
        "    def forward(self, x, u):\n",
        "      xu = torch.cat([x,u], 1)\n",
        "      # Propagación hacia adelante del primero de los Críticos\n",
        "      x1 = F.relu(self.layer_1(xu))\n",
        "      x1 = F.relu(self.layer_2(x1))\n",
        "      x1 = self.layer_3(x1)\n",
        "      # Propagación hacia adelante del segundo de los Críticos\n",
        "      x2 = F.relu(self.layer_4(xu))\n",
        "      x2 = F.relu(self.layer_5(x2))\n",
        "      x2 = self.layer_6(x2)\n",
        "      return x1, x2\n",
        "\n",
        "    def Q1(self, x, u):\n",
        "      xu = torch.cat([x, u], 1)\n",
        "      x1 = F.relu(self.layer_1(xu))\n",
        "      x1 = F.relu(self.layer_2(x1))\n",
        "      x1 = self.layer_3(x1)\n",
        "      return x1 "
      ],
      "execution_count": 10,
      "outputs": []
    },
    {
      "cell_type": "markdown",
      "metadata": {
        "id": "0JQxrwCLfoBq"
      },
      "source": [
        "# Paso 4: Proceso de Entrenamiento"
      ]
    },
    {
      "cell_type": "code",
      "metadata": {
        "id": "-x4A3n6_XqIt"
      },
      "source": [
        "# Selección del dispositivo (CPU o GPU)\n",
        "device = torch.device(\"cuda\" if torch.cuda.is_available() else \"cpu\")\n",
        "\n",
        "# Construir todo el proceso de entrenamiento en una clase\n",
        "class TD3(object):\n",
        "\n",
        "  def __init__(self, state_dim, action_dim, max_action):\n",
        "    self.actor = Actor(state_dim, action_dim, max_action).to(device)\n",
        "    self.actor_target = Actor(state_dim, action_dim, max_action).to(device)\n",
        "    self.actor_target.load_state_dict(self.actor.state_dict())\n",
        "    self.actor_optimizer = torch.optim.Adam(self.actor.parameters())\n",
        "    self.critic = Critic(state_dim, action_dim).to(device)\n",
        "    self.critic_target = Critic(state_dim, action_dim).to(device)\n",
        "    self.critic_target.load_state_dict(self.critic.state_dict())\n",
        "    self.critic_optimizer = torch.optim.Adam(self.critic.parameters())\n",
        "    self.max_action = max_action\n",
        "  \n",
        "  def select_action(self, state):\n",
        "    state = torch.Tensor(state.reshape(1, -1 )).to(device)\n",
        "    return self.actor(state).cpu().data.numpy().flatten()\n",
        "\n",
        "  def train(self, replay_buffer, iterations, batch_size=100, discount=0.99, tau=0.005, policy_noise=0.2, noise_clipping=0.5, policy_freq=2):\n",
        "    for it in range(iterations):\n",
        "\n",
        "      # Paso 4: Tomamos una muestra de transiciones (s, s’, a, r) de la memoria.\n",
        "      batch_states, batch_next_states, batch_actions, batch_rewards, batch_dones = replay_buffer.sample(batch_size)\n",
        "      state = torch.Tensor(batch_states).to(device)\n",
        "      next_state = torch.Tensor(batch_next_states).to(device)\n",
        "      action = torch.Tensor(batch_actions).to(device)\n",
        "      reward = torch.Tensor(batch_rewards).to(device)\n",
        "      done = torch.Tensor(batch_dones).to(device)\n",
        "\n",
        "      # Paso 5: A partir del estado siguiente s', el Actor del target ejecuta la siguiente acción a'.\n",
        "      next_action = self.actor_target(next_stage)\n",
        "\n",
        "      # Paso 6: Añadimos ruido gaussiano a la siguiente acción a' y lo cortamos para tenerlo en el rango de valores aceptado por el entorno\n",
        "      noise = torch.Tensor(batch_actions).data.normal_(0, policy_noise).to(device)\n",
        "      noise = noise.clamp(-noise_clipping, noise_clipping)\n",
        "      next_action = (next_action + noise).clamp(-self.max_action, self,max_action)\n",
        "\n",
        "      # Paso 7: Los dos Críticos del Target toman un par (s’, a’) como entrada y devuelven dos Q-values Qt1(s’,a’) y Qt2(s’,a’) como salida.\n",
        "      target_Q1, target_Q2 = self.critic_target(next_state, next_action)\n",
        "\n",
        "      # Paso 8: Nos quedamos con el mínimo de los dos Q-values: min(Qt1, Qt2). Representa el valor aproximado del estado siguiente.\n",
        "      target_Q = torch.min(target_Q1, target_Q2)\n",
        "\n",
        "      # Paso 9: Obtenemos el target final de los dos Crítico del Modelo, que es: Qt = r + γ * min(Qt1, Qt2), donde γ es el factor de descuento.\n",
        "      target_Q = reward + ((1-done) * discount * target_Q).detach()\n",
        "\n",
        "      # Paso 10: Los dos Críticos del Modelo toman un par (s, a) como entrada y devuelven dos Q-values\n",
        "      current_Q1, current_Q2 = self.critic(state, action)\n",
        "      \n",
        "      # Paso 11: Calculamos la pérdida procedente de los Crítico del Modelo: Critic Loss = MSE_Loss(Q1(s,a), Qt) + MSE_Loss(Q2(s,a), Qt)\n",
        "      critic_loss = F.mse_loss(current_Q1, target_Q) + F.mse_loss(current_Q2, target_Q)\n",
        "\n",
        "      # Paso 12: Propagamos hacia atrás la pérdida del crítico y actualizamos los parámetros de los dos Crítico del Modelo con un SGD.\n",
        "      self.critic_optimizer.zero_grad()\n",
        "      critic_loss.backward()\n",
        "      self.critic_optimizer.step()\n",
        "\n",
        "      # Paso 13: Cada dos iteraciones, actualizamos nuestro modelo de Actor ejecutando el gradiente ascendente en la salida del primer modelo crítico.\n",
        "      if it % policy_freq == 0:\n",
        "        actor_loss = -self.critic.Q1(state, self.actor(state)).mean()\n",
        "        self.actor_optimizer.zero_grad()\n",
        "        actor_loss.backward()\n",
        "        self.actor_optimizer.step()\n",
        "    \n",
        "        # Paso 14: Todavía cada dos iteraciones, actualizamos los pesos del Actor del Target usando el promedio Polyak.\n",
        "        for param, target_param in zip(self.actor.parameters(), self.actor_target.parameters()):\n",
        "          target_param.data.copy_(tau * param.data + (1-tau) * target_param.data)\n",
        "\n",
        "  \n",
        "  # Método para guardar el modelo entrenado\n",
        "\n",
        "  def save(self, filename, directory):\n",
        "    torch.save(self.actor.state_dict(), \"%s/%s_actor.pth\" % (directory, filename))\n",
        "    torch.save(self.actor.state_dict(), \"%s/%s_critic.pth\" % (directory, filename))\n",
        "\n",
        "  # Método para cargar el modelo entrenado\n",
        "  def load(self, filename, directory):\n",
        "    self.actor.load_state_dict(torch.load(\"%s/%s_actor.pth\" % (directory, filename)))\n",
        "    self.critic.load_state_dict(torch.loa(\"%s/%s_actor.pth\" % (directory, filename)))"
      ],
      "execution_count": 15,
      "outputs": []
    },
    {
      "cell_type": "code",
      "metadata": {
        "id": "M228IrWRgFeU"
      },
      "source": [
        ""
      ],
      "execution_count": null,
      "outputs": []
    }
  ]
}