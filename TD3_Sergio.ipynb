{
  "nbformat": 4,
  "nbformat_minor": 0,
  "metadata": {
    "colab": {
      "name": "TD3_Sergio.ipynb",
      "provenance": [],
      "collapsed_sections": [],
      "toc_visible": true,
      "authorship_tag": "ABX9TyPzG5JhrPBzRvyPdyCuBtWT",
      "include_colab_link": true
    },
    "kernelspec": {
      "name": "python3",
      "display_name": "Python 3"
    },
    "language_info": {
      "name": "python"
    }
  },
  "cells": [
    {
      "cell_type": "markdown",
      "metadata": {
        "id": "view-in-github",
        "colab_type": "text"
      },
      "source": [
        "<a href=\"https://colab.research.google.com/github/sergioarnold87/Practica_Sergio/blob/main/TD3_Sergio.ipynb\" target=\"_parent\"><img src=\"https://colab.research.google.com/assets/colab-badge.svg\" alt=\"Open In Colab\"/></a>"
      ]
    },
    {
      "cell_type": "markdown",
      "metadata": {
        "id": "WXu1r8qvSzWf"
      },
      "source": [
        "# Gradiente de política determinista profunda (TD3) de doble retardo"
      ]
    },
    {
      "cell_type": "markdown",
      "metadata": {
        "id": "Zt3aUlD0NQmB"
      },
      "source": [
        "## Instalación de los paquetes"
      ]
    },
    {
      "cell_type": "code",
      "metadata": {
        "colab": {
          "base_uri": "https://localhost:8080/"
        },
        "id": "Ke110BUJNVg5",
        "outputId": "17db6efe-3b4c-41d3-ad73-4bac037e63bf"
      },
      "source": [
        "!pip install pybullet"
      ],
      "execution_count": 1,
      "outputs": [
        {
          "output_type": "stream",
          "name": "stdout",
          "text": [
            "Collecting pybullet\n",
            "  Downloading pybullet-3.2.0-cp37-cp37m-manylinux1_x86_64.whl (89.3 MB)\n",
            "\u001b[K     |████████████████████████████████| 89.3 MB 29 kB/s \n",
            "\u001b[?25hInstalling collected packages: pybullet\n",
            "Successfully installed pybullet-3.2.0\n"
          ]
        }
      ]
    },
    {
      "cell_type": "markdown",
      "metadata": {
        "id": "xDId92XkNcrO"
      },
      "source": [
        "## Importar las librerías"
      ]
    },
    {
      "cell_type": "code",
      "metadata": {
        "id": "Ikr2p0Js8iB4"
      },
      "source": [
        "import os\n",
        "import time\n",
        "import random\n",
        "import numpy as np\n",
        "import matplotlib.pyplot as plt\n",
        "import pybullet_envs\n",
        "import gym\n",
        "import torch\n",
        "import torch.nn as nn\n",
        "import torch.nn.functional as F\n",
        "from gym import wrappers\n",
        "from torch.autograd import Variable\n",
        "from collections import deque"
      ],
      "execution_count": 2,
      "outputs": []
    },
    {
      "cell_type": "markdown",
      "metadata": {
        "id": "QUr3sPWNOli-"
      },
      "source": [
        "## Paso 1: Inicializar la memoria de la repeteción de experiencias"
      ]
    },
    {
      "cell_type": "code",
      "metadata": {
        "id": "2r07f4amOi6I"
      },
      "source": [
        "\"\"\"\n",
        "La clase RipleyBuffers define unos conceptos, una plantilla y las futuras instancias de esta clase van a ser los objetos\n",
        "que no serán ni más ni menos que la memoria en sí mismo que utilizaremos en el código. De hecho, este shelf que aparece \n",
        "por aquí y que ya he guardado en él algunas variables harán referencia al propio objeto memoria que será creado a partir de la \n",
        "clase RipleyBuffer.\n",
        "\"\"\"\n",
        "\n",
        "class ReplayBuffer(object):\n",
        "  def __init__(self, max_size =1e6):\n",
        "    self.storage = []\n",
        "    self.max_size = max_size\n",
        "    self.ptr = 0\n",
        "\n",
        "# -----------------------------------------------------------------------------\n",
        " # Vamos a construir la primera herramienta, la primera funcionalidad de esta \n",
        " # clase. el metodo ADD\n",
        "# -----------------------------------------------------------------------------\n",
        "  def add(self, transition):\n",
        "    if len(self.storage)== self.max_size:\n",
        "      self.storage[int(self.ptr)] = transition\n",
        "      self.ptr = (self.ptr +1) % self.max_size\n",
        "    else:\n",
        "      self.storage.append(transition)\n",
        "\n",
        "\n",
        "# -----------------------------------------------------------------------------\n",
        "  #CREAR EL METODO SAMPLE\n",
        "\n",
        "  def sample(self, batch_size):\n",
        "    ind = np.random.randint(0, len(self.storage), size = batch_size)\n",
        "    batch_states, batch_next_states, batch_actions, batch_rewards, batch_dones = [], [], [], [], []\n",
        "    for i in ind:\n",
        "      state, next_state, action, reward, done = self.storage[i]\n",
        "      batch_states.append(np.array(state, copy = False))\n",
        "      batch_next_states.append(np.array(new_state, copy = False))\n",
        "      batch_actions.append(np.array(actions, copy = False))\n",
        "      batch_rewards.append(np.array(reward, copy = False))\n",
        "      batch_dones.append(np.array(done, copy = False))\n",
        "    return np.array(batch_states), np.array(batch_next_states), np.array(batch_actions), np.array(batch_rewards).reshape(-1, 1), np.array(batch_dones).reshape(-1, 1)"
      ],
      "execution_count": 4,
      "outputs": []
    },
    {
      "cell_type": "markdown",
      "metadata": {
        "id": "Jb7TTaHxWbQD"
      },
      "source": [
        "## Paso 2: Construimos una red neuronal para el **actor del modelo** y una red neuronal para el **actor del objetivo**"
      ]
    },
    {
      "cell_type": "code",
      "metadata": {
        "id": "4CeRW4D79HL0"
      },
      "source": [
        "class Actor(nn.Module):\n",
        "\n",
        "  def __init__(self, state_dim, action_dim_max_action):\n",
        "    super(Actor, self).__init__()\n",
        "    self.layer_1 = nn.Linear(state_dim, 400)\n",
        "    self.layer_2 = nn.Linear(400, 300)\n",
        "    señf.layer_3 = nn.Linear(300, action_dim)\n",
        "    self.max_action = max_action\n",
        "\n",
        "  def forward(self, x):\n",
        "    x = F.relu(self.layer_1(x))\n",
        "    x = F.relu(self.layer_2(x))\n",
        "    x = self.max_action * torch.tanh(self.layer_3(x))\n",
        "    return x"
      ],
      "execution_count": 5,
      "outputs": []
    },
    {
      "cell_type": "code",
      "metadata": {
        "id": "-x4A3n6_XqIt"
      },
      "source": [
        ""
      ],
      "execution_count": null,
      "outputs": []
    }
  ]
}