{
  "nbformat": 4,
  "nbformat_minor": 0,
  "metadata": {
    "colab": {
      "name": "Tarea_POO.ipynb",
      "provenance": [],
      "authorship_tag": "ABX9TyPrDZ7u8UCuRt/XHZMQjDud",
      "include_colab_link": true
    },
    "kernelspec": {
      "name": "python3",
      "display_name": "Python 3"
    },
    "language_info": {
      "name": "python"
    }
  },
  "cells": [
    {
      "cell_type": "markdown",
      "metadata": {
        "id": "view-in-github",
        "colab_type": "text"
      },
      "source": [
        "<a href=\"https://colab.research.google.com/github/sergioarnold87/Practica_Sergio/blob/main/Tarea_POO.ipynb\" target=\"_parent\"><img src=\"https://colab.research.google.com/assets/colab-badge.svg\" alt=\"Open In Colab\"/></a>"
      ]
    },
    {
      "cell_type": "markdown",
      "metadata": {
        "id": "69GLTGCbAUAx"
      },
      "source": [
        "# 1\n",
        "A lo largo de toda esta tarea vas a construir la clase Date. Empieza con el constructor, que recibe por\n",
        "parámetros el día (day), mes (month) y año (year). Los 3 parámetros son de tipo int y por defecto todos\n",
        "valen 1."
      ]
    },
    {
      "cell_type": "code",
      "metadata": {
        "id": "VBzEzyS0AYCH"
      },
      "source": [
        "class Date():\n",
        "\n",
        "  def __init__(self, d = 1, m = 1, y = 1):\n",
        "    self.day = d\n",
        "    self.month = m\n",
        "    self.year = y"
      ],
      "execution_count": 1,
      "outputs": []
    },
    {
      "cell_type": "markdown",
      "metadata": {
        "id": "TRUNv2KkBKg0"
      },
      "source": [
        "\n",
        "# 2 \n",
        "Configura el método .__str__() para que muestre la fecha en formato day / month / year. Si el valor\n",
        "del día o el mes son menores a 10, mostrar el valor con un 0 delante. Por ejemplo, si day = 8, month = 7 y\n",
        "year = 1998, entonces se debería mostrar 08 / 07 / 1998.\n",
        "En el caso del año, si el año es menor a 1000, mostrar con un cero delante; si es menor a 100, mostrar con 2\n",
        "ceros delante; y si es menor a 10, mostrar con 3 ceros delante.\n",
        "PISTA: Puedes crear una función que dado un número entero y el número de cifras que debe tener, rellene\n",
        "con ceros a la izquierda hasta completar el número de cifras indicado."
      ]
    },
    {
      "cell_type": "code",
      "metadata": {
        "id": "RPi6STnXBADz"
      },
      "source": [
        "def addleftZero(n, m = 2):\n",
        "  \"\"\"\n",
        "  Añade ceros adicionales a la izquierda hasta completar las m cifras\n",
        "  Args:\n",
        "    n: Número entero positivo\n",
        "    m: Número entero positivo (cifras totales que debe tener n)\n",
        "  Returns:\n",
        "  String con m cifras\n",
        "  \"\"\"\n",
        "  for i in range(m - 1, 0, -1):\n",
        "    if  n < 10 ** (m - i):\n",
        "      return \"0\" * i + str(n)\n",
        "  else: return n\n",
        "\n",
        "class Date():\n",
        "\n",
        "  def __init__(self, d = 1, m = 1, y = 1):\n",
        "    self.day = d\n",
        "    self.month = m\n",
        "    self.year = y\n",
        "  \n",
        "  def _str__(self):\n",
        "    return \"{} / {} / {}\"- format(addleftZero(self.day), addleftZero(self.month), addleftZero(self.year, 4))\n",
        "\n",
        "  def isLeap(self):\n",
        "    if self.year % 4 == 0:\n",
        "      if.self.year % 100 == 0:\n",
        "        if self.year % 400 == 0:\n",
        "          return True\n",
        "        else: return False\n",
        "      else: return True\n",
        "    else: return False\n",
        "\n",
        "  \n",
        "\n"
      ],
      "execution_count": null,
      "outputs": []
    }
  ]
}