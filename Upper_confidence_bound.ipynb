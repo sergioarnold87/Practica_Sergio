{
  "nbformat": 4,
  "nbformat_minor": 0,
  "metadata": {
    "colab": {
      "name": "Upper_confidence_bound.ipynb",
      "provenance": [],
      "mount_file_id": "1Jnt-81BZpclIn2v7f_KBlfQcglNS-zJh",
      "authorship_tag": "ABX9TyN1w71q5cW7M8DnEwcGdZua",
      "include_colab_link": true
    },
    "kernelspec": {
      "name": "python3",
      "display_name": "Python 3"
    },
    "language_info": {
      "name": "python"
    }
  },
  "cells": [
    {
      "cell_type": "markdown",
      "metadata": {
        "id": "view-in-github",
        "colab_type": "text"
      },
      "source": [
        "<a href=\"https://colab.research.google.com/github/sergioarnold87/Practica_Sergio/blob/main/Upper_confidence_bound.ipynb\" target=\"_parent\"><img src=\"https://colab.research.google.com/assets/colab-badge.svg\" alt=\"Open In Colab\"/></a>"
      ]
    },
    {
      "cell_type": "markdown",
      "metadata": {
        "id": "4_x2fB77eSeP"
      },
      "source": [
        "# Upper Confidence Bound"
      ]
    },
    {
      "cell_type": "code",
      "metadata": {
        "colab": {
          "base_uri": "https://localhost:8080/"
        },
        "id": "6OClXS_XWbtf",
        "outputId": "123e9eea-b836-44b8-ac49-aededb643bde"
      },
      "source": [
        "from google.colab import drive\n",
        "drive.mount('/content/drive')"
      ],
      "execution_count": 1,
      "outputs": [
        {
          "output_type": "stream",
          "text": [
            "Mounted at /content/drive\n"
          ],
          "name": "stdout"
        }
      ]
    },
    {
      "cell_type": "markdown",
      "metadata": {
        "id": "sE00L3YVeJw7"
      },
      "source": [
        "# Google colab tools"
      ]
    },
    {
      "cell_type": "code",
      "metadata": {
        "id": "PcSwt8Ivd6tK"
      },
      "source": [
        "from google.colab import files # Para manejar los archivos y, por ejemplo, exportar a su navegador\n",
        "import glob # Para manejar los archivos y, por ejemplo, exportar a su navegador\n",
        "from google.colab import drive # Montar tu Google drive"
      ],
      "execution_count": 2,
      "outputs": []
    },
    {
      "cell_type": "markdown",
      "metadata": {
        "id": "53kpR5u0eZeo"
      },
      "source": [
        "# Librerias "
      ]
    },
    {
      "cell_type": "code",
      "metadata": {
        "id": "DFvqEDA9eJMu"
      },
      "source": [
        "import numpy as np\n",
        "import matplotlib.pyplot as plt\n",
        "import pandas as pd"
      ],
      "execution_count": 3,
      "outputs": []
    },
    {
      "cell_type": "markdown",
      "metadata": {
        "id": "UVyZXwHnegT7"
      },
      "source": [
        "# Dataset"
      ]
    },
    {
      "cell_type": "code",
      "metadata": {
        "id": "Cr1_XQLPeeja"
      },
      "source": [
        "dataset = pd.read_csv('/content/drive/MyDrive/Datasets/Ads_CTR_Optimisation.csv')"
      ],
      "execution_count": 4,
      "outputs": []
    },
    {
      "cell_type": "markdown",
      "metadata": {
        "id": "M4T5vM49ewQ6"
      },
      "source": [
        "# Algoritmo de UCB"
      ]
    },
    {
      "cell_type": "code",
      "metadata": {
        "id": "5p8cwqzgeuL5"
      },
      "source": [
        "import math\n",
        "N = 10000\n",
        "d = 10\n",
        "number_of_selections = [0] * d\n",
        "sums_of_rewards = [0] * d\n",
        "ads_selected = []\n",
        "total_reward = 0\n",
        "for i in range(0, N):\n",
        "  max_upper_bound = 0\n",
        "  ad = 0\n",
        "  for i in range(0, d):\n",
        "    if(number_of_selections[i]>0):\n",
        "        average_reward = sums_of_rewards[i] / number_of_selections[i]\n",
        "        delta_i = math.sqrt(3/2*math.log(n+1)/number_of_selections[i])\n",
        "        \n"
      ],
      "execution_count": null,
      "outputs": []
    }
  ]
}